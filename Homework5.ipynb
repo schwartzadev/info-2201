{
 "cells": [
  {
   "cell_type": "code",
   "execution_count": null,
   "metadata": {},
   "outputs": [],
   "source": [
    "# beautiful soup homework"
   ]
  },
  {
   "cell_type": "code",
   "execution_count": 1,
   "metadata": {},
   "outputs": [],
   "source": [
    "# import the modules necessary for using BeautifulSoup with web-based sources\n",
    "\n",
    "import requests\n",
    "\n",
    "from bs4 import BeautifulSoup"
   ]
  },
  {
   "cell_type": "code",
   "execution_count": 4,
   "metadata": {},
   "outputs": [],
   "source": [
    "# Problem 1: More Fuzz\n",
    "\n",
    "# fuzz pedals are great. let's grab some information about different fuzz pedals from a web page\n",
    "fuzz_pedals_html = requests.get(\"http://www.guitarsite.com/fuzz-pedals/\").text"
   ]
  },
  {
   "cell_type": "code",
   "execution_count": 5,
   "metadata": {},
   "outputs": [],
   "source": [
    "# how do you make the above HTML into BeautifulSoup?\n",
    "\n",
    "soup = BeautifulSoup(fuzz_pedals_html)"
   ]
  },
  {
   "cell_type": "code",
   "execution_count": 9,
   "metadata": {},
   "outputs": [],
   "source": [
    "# there's some information about fuzz pedals in one of the html tables on the page.  what line of code\n",
    "# will retrieve all of the table tags on the page?\n",
    "\n",
    "tables = soup.find_all('table')"
   ]
  },
  {
   "cell_type": "code",
   "execution_count": 8,
   "metadata": {},
   "outputs": [
    {
     "output_type": "execute_result",
     "data": {
      "text/plain": [
       "7"
      ]
     },
     "metadata": {},
     "execution_count": 8
    }
   ],
   "source": [
    "# how many table tags are there on this page?\n",
    "len(tables)"
   ]
  },
  {
   "cell_type": "code",
   "execution_count": 12,
   "metadata": {},
   "outputs": [],
   "source": [
    "# the good stuff is in the table with the id \"amptb\".  what line of code will get just that table?\n",
    "\n",
    "the_good_stuff = soup.find('table', {'id': 'amptb'})\n",
    "# you might want to print it out to make sure that you got the right table"
   ]
  },
  {
   "cell_type": "code",
   "execution_count": 19,
   "metadata": {},
   "outputs": [
    {
     "output_type": "stream",
     "name": "stdout",
     "text": [
      "Dunlop JD-F2 Dallas-Arbiter Fuzz Face\nEHX Octavix\nVox Trike Fuzz\nRotosound 1960s Fuzz Reissue\nDunlop Jimi Hendrix Fuzz Face Mini\nVoodoo Lab Superfuzz\nWampler Velvet Fuzz\nBoss FZ-5 Fuzz Pedal\nWay Huge Swollen Pickle MkII Fuzz Pedal\nSuhr Rufus Reloaded Fuzz Pedal\n"
     ]
    },
    {
     "output_type": "execute_result",
     "data": {
      "text/plain": [
       "[None, None, None, None, None, None, None, None, None, None]"
      ]
     },
     "metadata": {},
     "execution_count": 19
    }
   ],
   "source": [
    "# the names of the pedals are located in two different places in the table. get them all and print them\n",
    "# out\n",
    "\n",
    "\"\"\"\n",
    "Dunlop JD-F2 Dallas-Arbiter Fuzz Face\n",
    "EHX Octavix\n",
    "Vox Trike Fuzz\n",
    "Rotosound 1960s Fuzz Reissue\n",
    "Dunlop Jimi Hendrix Fuzz Face Mini\n",
    "Voodoo Lab Superfuzz\n",
    "Wampler Velvet Fuzz\n",
    "Boss FZ-5 Fuzz Pedal\n",
    "Way Huge Swollen Pickle MkII Fuzz Pedal\n",
    "Suhr Rufus Reloaded Fuzz Pedal\n",
    "\"\"\"\n",
    "\n",
    "[print(td.find('h3').text) for td in the_good_stuff.find_all('td') if td.find('h3') is not None]"
   ]
  },
  {
   "cell_type": "code",
   "execution_count": 33,
   "metadata": {},
   "outputs": [
    {
     "output_type": "stream",
     "name": "stdout",
     "text": [
      "\nDunlop JD-F2 Dallas-Arbiter Fuzz Face\nThere wouldn't be a Fuzz pedal market today if not for the popularity of the Fuzz Face. Used by big name artists like Jimi Hendrix, Eric Johnson, Duane Allman, David Gilmore, George Harrison and more, the Dallas-Arbiter Fuzz Face has set the standard high right at the beginning.\n\nEHX Octavix\nElectro-Harmonix played a major role in shaping the sound of rock guitar, and the quality of their dirt pedals gave them the staying power to not just survive, but thrive.  The EHX Octavix comes with the classic and effective combination of fuzz and octave effects, in an easy to use and compact pedal format.\n\nVox Trike Fuzz\nIf you’re looking for subtle fuzz, the Vox Trike Fuzz pedal is not for you. This octave+fuzz pedal goes from harsh to nasty, much like germanium fuzz pedals of old.  Only this one is more reliable and pedalboard friendly.\n\nRotosound 1960s Fuzz Reissue\nThe original Rotosound Fuzz Pedal was not even publicly released but because of its impressive tone, it made its way into the guitar rigs of iconic players like Jimmy Page.  Now this same fuzz pedal is made available for us mortals with added modern enhancements.\n\nDunlop Jimi Hendrix Fuzz Face Mini\nExpanding on the Dallas-Arbiter Fuzz, Dunlop created a number of uniquely voiced versions of the Fuzz Face.  Of this long list of pedals, the BC108 silicon transistor based Jimi Hendrix Fuzz Face is the most sought after, thanks mostly to its reference to the iconic guitar player.\n\nVoodoo Lab Superfuzz\nBased on the now rare Jordan Electronics Bosstone, the Superfuzz deserves its super label, providing smooth fuzz tones that responds really well to the nuances of your playing and with controls that allow for impressive tone shaping.\n\nWampler Velvet Fuzz\nThe Wampler Velvet Fuzz is not your average in-your-face fuzz effect, rather it provides some of the smoothest fuzz tones that you'll ever hear, inspired by the warm fuzz tones as used by artists like Eric Johnson and David Gilmour.\n\nBoss FZ-5 Fuzz Pedal\nThe Boss FZ-5 is an easy to use multi-mode fuzz pedal that utilizes Boss’ latest effects modeling technology. It features a nice balance of intuitive interface, flexibility and sonic quality at a modest price point. And since it is crafted by Boss, you can be sure of reliable for a long life time.\n\nWay Huge Swollen Pickle MkII Fuzz Pedal\nNot for the faint hearted, the Way Huge Swollen Pickle MkII is one mean sounding fuzz pedal. With controls that are normally found on distortion units, this fuzz box is more than capable of churning out high-gain tones that will satisfy rock, punk and metal players.\n\nSuhr Rufus Reloaded Fuzz Pedal\nSuhr's reputation as a guitar pedal builder continues to grow, thanks to the quality of their stompboxes.  The Rufus Reloaded Fuzz provides an excellent example of what the company can do, successfully balancing tone shaping capabilities, great tone and versatility, all implemented inside a compact pedal.\n"
     ]
    },
    {
     "output_type": "execute_result",
     "data": {
      "text/plain": [
       "[None,\n",
       " None,\n",
       " None,\n",
       " None,\n",
       " None,\n",
       " None,\n",
       " None,\n",
       " None,\n",
       " None,\n",
       " None,\n",
       " None,\n",
       " None,\n",
       " None,\n",
       " None,\n",
       " None,\n",
       " None,\n",
       " None,\n",
       " None,\n",
       " None,\n",
       " None,\n",
       " None,\n",
       " None,\n",
       " None,\n",
       " None,\n",
       " None,\n",
       " None,\n",
       " None,\n",
       " None,\n",
       " None,\n",
       " None]"
      ]
     },
     "metadata": {},
     "execution_count": 33
    }
   ],
   "source": [
    "# extra credit: print the name of each pedal, followed by its description on a subsequent line\n",
    "[print(td.text.strip()) for td in the_good_stuff.find_all('td') if not \"review below\" in td.text]\n",
    "\n"
   ]
  },
  {
   "cell_type": "code",
   "execution_count": 36,
   "metadata": {},
   "outputs": [],
   "source": [
    "# Problem 2: lastfm api with xml results\n",
    "\n",
    "with open('last_fm_api_key') as f:\n",
    "    api_key = f.read()\n",
    "\n",
    "# a note about using beautifulsoup with last.fm's api: if you use .contents anywhere with these results\n",
    "# you may get newline (\"\\n\") characters interspersed in the ResultSet returned by .contents. \n",
    "# if you want to know why, you can read a bit about this behavior here:\n",
    "# https://stackoverflow.com/questions/29245069/extra-newline-character-for-children-of-beautiful-soup\n",
    "# with this in mind, try to use .find or .find_all instead of relying on .contents for this assignment\n",
    "# to avoid having to deal with those pesky newline characters."
   ]
  },
  {
   "cell_type": "code",
   "execution_count": 4,
   "metadata": {},
   "outputs": [],
   "source": [
    "# remember the lastfm api from wayback when?  \n",
    "# let's get xml data from it and use our beautiful soup skills to parse it\n",
    "\n",
    "# don't forget: you'll need your api_key for this assignment"
   ]
  },
  {
   "cell_type": "code",
   "execution_count": 41,
   "metadata": {},
   "outputs": [],
   "source": [
    "# make a request for radiohead using the artist.getinfo query, but don't specify a format\n",
    "# use the .text attribute after .get to store the XML\n",
    "\n",
    "import requests\n",
    "\n",
    "params = (\n",
    "    ('method', 'artist.getinfo'),\n",
    "    ('api_key', api_key),\n",
    "    ('artist', 'Radiohead'),\n",
    ")\n",
    "\n",
    "response = requests.get('http://ws.audioscrobbler.com/2.0/', params=params)\n",
    "\n",
    "data = response.text\n"
   ]
  },
  {
   "cell_type": "code",
   "execution_count": 42,
   "metadata": {},
   "outputs": [],
   "source": [
    "# use BeautifulSoup to make some soup out of your request\n",
    "\n",
    "soup = BeautifulSoup(data)"
   ]
  },
  {
   "cell_type": "code",
   "execution_count": 44,
   "metadata": {},
   "outputs": [
    {
     "output_type": "stream",
     "name": "stdout",
     "text": [
      "<?xml version=\"1.0\" encoding=\"UTF-8\" ?><html><body><lfm status=\"ok\"><artist><name>Radiohead</name>\n<mbid>a74b1b7f-71a5-4011-9441-d0b5e4122711</mbid>\n<url>https://www.last.fm/music/Radiohead</url>\n<image size=\"small\">https://lastfm.freetls.fastly.net/i/u/34s/2a96cbd8b46e442fc41c2b86b821562f.png</image>\n<image size=\"medium\">https://lastfm.freetls.fastly.net/i/u/64s/2a96cbd8b46e442fc41c2b86b821562f.png</image>\n<image size=\"large\">https://lastfm.freetls.fastly.net/i/u/174s/2a96cbd8b46e442fc41c2b86b821562f.png</image>\n<image size=\"extralarge\">https://lastfm.freetls.fastly.net/i/u/300x300/2a96cbd8b46e442fc41c2b86b821562f.png</image>\n<image size=\"mega\">https://lastfm.freetls.fastly.net/i/u/300x300/2a96cbd8b46e442fc41c2b86b821562f.png</image>\n<image size=\"\">https://lastfm.freetls.fastly.net/i/u/300x300/2a96cbd8b46e442fc41c2b86b821562f.png</image>\n<streamable>0</streamable>\n<ontour>0</ontour>\n<stats><listeners>5077352</listeners>\n<playcount>557171429</playcount>\n</stats>\n<similar><artist><name>Thom Yorke</name>\n<url>https://www.last.fm/music/Thom+Yorke</url>\n<image size=\"small\">https://lastfm.freetls.fastly.net/i/u/34s/2a96cbd8b46e442fc41c2b86b821562f.png</image>\n<image size=\"medium\">https://lastfm.freetls.fastly.net/i/u/64s/2a96cbd8b46e442fc41c2b86b821562f.png</image>\n<image size=\"large\">https://lastfm.freetls.fastly.net/i/u/174s/2a96cbd8b46e442fc41c2b86b821562f.png</image>\n<image size=\"extralarge\">https://lastfm.freetls.fastly.net/i/u/300x300/2a96cbd8b46e442fc41c2b86b821562f.png</image>\n<image size=\"mega\">https://lastfm.freetls.fastly.net/i/u/300x300/2a96cbd8b46e442fc41c2b86b821562f.png</image>\n<image size=\"\">https://lastfm.freetls.fastly.net/i/u/300x300/2a96cbd8b46e442fc41c2b86b821562f.png</image>\n</artist>\n<artist><name>Atoms for Peace</name>\n<url>https://www.last.fm/music/Atoms+for+Peace</url>\n<image size=\"small\">https://lastfm.freetls.fastly.net/i/u/34s/2a96cbd8b46e442fc41c2b86b821562f.png</image>\n<image size=\"medium\">https://lastfm.freetls.fastly.net/i/u/64s/2a96cbd8b46e442fc41c2b86b821562f.png</image>\n<image size=\"large\">https://lastfm.freetls.fastly.net/i/u/174s/2a96cbd8b46e442fc41c2b86b821562f.png</image>\n<image size=\"extralarge\">https://lastfm.freetls.fastly.net/i/u/300x300/2a96cbd8b46e442fc41c2b86b821562f.png</image>\n<image size=\"mega\">https://lastfm.freetls.fastly.net/i/u/300x300/2a96cbd8b46e442fc41c2b86b821562f.png</image>\n<image size=\"\">https://lastfm.freetls.fastly.net/i/u/300x300/2a96cbd8b46e442fc41c2b86b821562f.png</image>\n</artist>\n<artist><name>The Strokes</name>\n<url>https://www.last.fm/music/The+Strokes</url>\n<image size=\"small\">https://lastfm.freetls.fastly.net/i/u/34s/2a96cbd8b46e442fc41c2b86b821562f.png</image>\n<image size=\"medium\">https://lastfm.freetls.fastly.net/i/u/64s/2a96cbd8b46e442fc41c2b86b821562f.png</image>\n<image size=\"large\">https://lastfm.freetls.fastly.net/i/u/174s/2a96cbd8b46e442fc41c2b86b821562f.png</image>\n<image size=\"extralarge\">https://lastfm.freetls.fastly.net/i/u/300x300/2a96cbd8b46e442fc41c2b86b821562f.png</image>\n<image size=\"mega\">https://lastfm.freetls.fastly.net/i/u/300x300/2a96cbd8b46e442fc41c2b86b821562f.png</image>\n<image size=\"\">https://lastfm.freetls.fastly.net/i/u/300x300/2a96cbd8b46e442fc41c2b86b821562f.png</image>\n</artist>\n<artist><name>Muse</name>\n<url>https://www.last.fm/music/Muse</url>\n<image size=\"small\">https://lastfm.freetls.fastly.net/i/u/34s/2a96cbd8b46e442fc41c2b86b821562f.png</image>\n<image size=\"medium\">https://lastfm.freetls.fastly.net/i/u/64s/2a96cbd8b46e442fc41c2b86b821562f.png</image>\n<image size=\"large\">https://lastfm.freetls.fastly.net/i/u/174s/2a96cbd8b46e442fc41c2b86b821562f.png</image>\n<image size=\"extralarge\">https://lastfm.freetls.fastly.net/i/u/300x300/2a96cbd8b46e442fc41c2b86b821562f.png</image>\n<image size=\"mega\">https://lastfm.freetls.fastly.net/i/u/300x300/2a96cbd8b46e442fc41c2b86b821562f.png</image>\n<image size=\"\">https://lastfm.freetls.fastly.net/i/u/300x300/2a96cbd8b46e442fc41c2b86b821562f.png</image>\n</artist>\n<artist><name>Nirvana</name>\n<url>https://www.last.fm/music/Nirvana</url>\n<image size=\"small\">https://lastfm.freetls.fastly.net/i/u/34s/2a96cbd8b46e442fc41c2b86b821562f.png</image>\n<image size=\"medium\">https://lastfm.freetls.fastly.net/i/u/64s/2a96cbd8b46e442fc41c2b86b821562f.png</image>\n<image size=\"large\">https://lastfm.freetls.fastly.net/i/u/174s/2a96cbd8b46e442fc41c2b86b821562f.png</image>\n<image size=\"extralarge\">https://lastfm.freetls.fastly.net/i/u/300x300/2a96cbd8b46e442fc41c2b86b821562f.png</image>\n<image size=\"mega\">https://lastfm.freetls.fastly.net/i/u/300x300/2a96cbd8b46e442fc41c2b86b821562f.png</image>\n<image size=\"\">https://lastfm.freetls.fastly.net/i/u/300x300/2a96cbd8b46e442fc41c2b86b821562f.png</image>\n</artist>\n</similar>\n<tags><tag><name>alternative</name>\n<url>https://www.last.fm/tag/alternative</url>\n</tag>\n<tag><name>alternative rock</name>\n<url>https://www.last.fm/tag/alternative+rock</url>\n</tag>\n<tag><name>rock</name>\n<url>https://www.last.fm/tag/rock</url>\n</tag>\n<tag><name>indie</name>\n<url>https://www.last.fm/tag/indie</url>\n</tag>\n<tag><name>electronic</name>\n<url>https://www.last.fm/tag/electronic</url>\n</tag>\n</tags>\n<bio><links><link href=\"https://last.fm/music/Radiohead/+wiki\" rel=\"original\"/>\n</links>\n<published>01 Feb 2006, 19:27</published>\n<summary>Radiohead is an English alternative rock band from Abingdon, Oxfordshire, UK which formed in 1985. The band is composed of Thom Yorke (lead vocals, rhythm guitar, piano, beats), Jonny Greenwood (lead guitar, keyboard, other instruments), Ed O'Brien (guitar, backing vocals), Colin Greenwood (bass guitar) and Phil Selway (drums, percussion).\n\nThe early years (1992 – 1995)\nRadiohead released their first single, \"Creep\" in 1992. The song was initially unsuccessful &lt;a href=\"https://www.last.fm/music/Radiohead\"&gt;Read more on Last.fm&lt;/a&gt;</summary>\n<content>Radiohead is an English alternative rock band from Abingdon, Oxfordshire, UK which formed in 1985. The band is composed of Thom Yorke (lead vocals, rhythm guitar, piano, beats), Jonny Greenwood (lead guitar, keyboard, other instruments), Ed O'Brien (guitar, backing vocals), Colin Greenwood (bass guitar) and Phil Selway (drums, percussion).\n\nThe early years (1992 – 1995)\nRadiohead released their first single, \"Creep\" in 1992. The song was initially unsuccessful, but it became a worldwide hit several months after the release of their debut album, Pablo Honey (1993).  Radiohead's popularity rose in the United Kingdom with the release of their second album, The Bends (1995). The band's textured guitar parts and Yorke's falsetto singing were warmly received by critics and fans. \n\nInternational success (1996 - 2000)\nRadiohead's third album, OK Computer (1997), propelled them to greater international fame. Featuring an expansive sound and themes of modern alienation, OK Computer has often been acclaimed as a landmark record of the 1990s.\n\nA change in style and leaving EMI (2000 – 2003)\nKid A (2000) and Amnesiac (2001) marked a change in the band's musical style. Radiohead incorporated experimental electronic music, Krautrock, post-punk and jazz influences into their songs, dividing fans and critics, but they remained popular. Hail to the Thief (2003), a mix of guitar-driven rock, electronics and lyrics inspired by headlines, was the band's final album for their major record label, EMI. \n\nIndependent releases and touring (2005 - 2013)\nIn 2007, Radiohead independently released their seventh album, In Rainbows, originally as a digital download for which each customer could set their own price, later in stores, to critical and chart success.\n\nIn 2011, Radiohead released their eighth album, The King of Limbs - again independently - which was described as an exploration of rhythm and quieter textures.\n\nIn February 2012, Radiohead began The King of Limbs world tour - with concerts in the US, Canada, Mexico, Europe, Japan, Taiwan, South Korea, Australia and New Zealand. In early 2013, following the tour, Thom Yorke released a studio album entitled Amok with his band Atoms for Peace.\n\nNinth Studio Album - \"A Moon Shaped Pool\"  (2016)\nAfter much speculation, on May 8, 2016, Radiohead released their long awaited ninth album,\"A Moon Shaped Pool\" on various streaming services. The band announced the release of their latest 11-track album on Twitter. The first track from the album was \"Burn the Witch\".\n\nGlastonbury 2017\nOn October 20, 2016, Radiohead were announced as the headline act for the opening night at Glastonbury Music Festival in June 2017. &lt;a href=\"https://www.last.fm/music/Radiohead\"&gt;Read more on Last.fm&lt;/a&gt;. User-contributed text is available under the Creative Commons By-SA License; additional terms may apply.</content>\n</bio>\n</artist>\n</lfm>\n</body></html>\n"
     ]
    }
   ],
   "source": [
    "# the content of the soup will be similar to the JSON that is returned by the same query but everything\n",
    "# will be inside XML tags.  you might want to print the soup out just so you have a reference of what's in there.\n",
    "# you can either do that or paste the full URL of the api query into a browser window so you can better see how\n",
    "# tags are nested.\n",
    "\n",
    "import pprint\n",
    "\n",
    "pprint.pprint(soup)"
   ]
  },
  {
   "cell_type": "code",
   "execution_count": 46,
   "metadata": {},
   "outputs": [
    {
     "output_type": "execute_result",
     "data": {
      "text/plain": [
       "'5077352'"
      ]
     },
     "metadata": {},
     "execution_count": 46
    }
   ],
   "source": [
    "# how many listeners does Radiohead have? (these numbers will be different from day to day)\n",
    "soup.find('listeners').text"
   ]
  },
  {
   "cell_type": "code",
   "execution_count": 47,
   "metadata": {},
   "outputs": [
    {
     "output_type": "execute_result",
     "data": {
      "text/plain": [
       "'557171429'"
      ]
     },
     "metadata": {},
     "execution_count": 47
    }
   ],
   "source": [
    "# what's Radiohead's playcount? (these numbers will be different from day to day)\n",
    "soup.find('playcount').text"
   ]
  },
  {
   "cell_type": "code",
   "execution_count": 53,
   "metadata": {},
   "outputs": [
    {
     "output_type": "stream",
     "name": "stdout",
     "text": [
      "Thom Yorke \n https://www.last.fm/music/Thom+Yorke\nAtoms for Peace \n https://www.last.fm/music/Atoms+for+Peace\nThe Strokes \n https://www.last.fm/music/The+Strokes\nMuse \n https://www.last.fm/music/Muse\nNirvana \n https://www.last.fm/music/Nirvana\n"
     ]
    },
    {
     "output_type": "execute_result",
     "data": {
      "text/plain": [
       "[None, None, None, None, None]"
      ]
     },
     "metadata": {},
     "execution_count": 53
    }
   ],
   "source": [
    "# print the names of the similar artists along with their last.fm URL\n",
    "# (these might change)\n",
    "\n",
    "[print(artist.find('name').text, '\\n', artist.find('url').text) for artist in soup.find('similar').find_all('artist')]"
   ]
  },
  {
   "cell_type": "code",
   "execution_count": 59,
   "metadata": {},
   "outputs": [
    {
     "output_type": "stream",
     "name": "stdout",
     "text": [
      "Radiohead is an English alternative rock band from Abingdon, Oxfordshire, UK which formed in 1985. The band is composed of Thom Yorke (lead vocals, rhythm guitar, piano, beats), Jonny Greenwood (lead guitar, keyboard, other instruments), Ed O'Brien (guitar, backing vocals), Colin Greenwood (bass guitar) and Phil Selway (drums, percussion).\n\nThe early years (1992 – 1995)\nRadiohead released their first single, \"Creep\" in 1992. The song was initially unsuccessful <a href=\"https://www.last.fm/music/Radiohead\">Read more on Last.fm</a>\n\n\n\nRadiohead is an English alternative rock band from Abingdon, Oxfordshire, UK which formed in 1985. The band is composed of Thom Yorke (lead vocals, rhythm guitar, piano, beats), Jonny Greenwood (lead guitar, keyboard, other instruments), Ed O'Brien (guitar, backing vocals), Colin Greenwood (bass guitar) and Phil Selway (drums, percussion).\n\nThe early years (1992 – 1995)\nRadiohead released their first single, \"Creep\" in 1992. The song was initially unsuccessful, but it became a worldwide hit several months after the release of their debut album, Pablo Honey (1993).  Radiohead's popularity rose in the United Kingdom with the release of their second album, The Bends (1995). The band's textured guitar parts and Yorke's falsetto singing were warmly received by critics and fans. \n\nInternational success (1996 - 2000)\nRadiohead's third album, OK Computer (1997), propelled them to greater international fame. Featuring an expansive sound and themes of modern alienation, OK Computer has often been acclaimed as a landmark record of the 1990s.\n\nA change in style and leaving EMI (2000 – 2003)\nKid A (2000) and Amnesiac (2001) marked a change in the band's musical style. Radiohead incorporated experimental electronic music, Krautrock, post-punk and jazz influences into their songs, dividing fans and critics, but they remained popular. Hail to the Thief (2003), a mix of guitar-driven rock, electronics and lyrics inspired by headlines, was the band's final album for their major record label, EMI. \n\nIndependent releases and touring (2005 - 2013)\nIn 2007, Radiohead independently released their seventh album, In Rainbows, originally as a digital download for which each customer could set their own price, later in stores, to critical and chart success.\n\nIn 2011, Radiohead released their eighth album, The King of Limbs - again independently - which was described as an exploration of rhythm and quieter textures.\n\nIn February 2012, Radiohead began The King of Limbs world tour - with concerts in the US, Canada, Mexico, Europe, Japan, Taiwan, South Korea, Australia and New Zealand. In early 2013, following the tour, Thom Yorke released a studio album entitled Amok with his band Atoms for Peace.\n\nNinth Studio Album - \"A Moon Shaped Pool\"  (2016)\nAfter much speculation, on May 8, 2016, Radiohead released their long awaited ninth album,\"A Moon Shaped Pool\" on various streaming services. The band announced the release of their latest 11-track album on Twitter. The first track from the album was \"Burn the Witch\".\n\nGlastonbury 2017\nOn October 20, 2016, Radiohead were announced as the headline act for the opening night at Glastonbury Music Festival in June 2017. <a href=\"https://www.last.fm/music/Radiohead\">Read more on Last.fm</a>. User-contributed text is available under the Creative Commons By-SA License; additional terms may apply.\n"
     ]
    }
   ],
   "source": [
    "# print the bio summary and bio content for Radiohead\n",
    "\n",
    "bio = soup.find('bio')\n",
    "\n",
    "print(bio.find('summary').text)\n",
    "\n",
    "print('\\n\\n')\n",
    "\n",
    "print(bio.find('content').text)\n"
   ]
  },
  {
   "cell_type": "code",
   "execution_count": 53,
   "metadata": {},
   "outputs": [
    {
     "name": "stdout",
     "output_type": "stream",
     "text": [
      "\n",
      "Radiohead are an English alternative rock band from Abingdon, Oxfordshire, UK which formed in 1985. The band is composed of Thom Yorke (lead vocals, rhythm guitar, piano, beats), Jonny Greenwood (lead guitar, keyboard, other instruments), Ed O'Brien (guitar, backing vocals), Colin Greenwood (bass guitar) and Phil Selway (drums, percussion).\n",
      "\n",
      "The early years (1992 – 1995)\n",
      "Radiohead released their first single, \"Creep\" in 1992. The song was initially unsuccessful, but it became a worldwide hit several months after the release of their debut album, Pablo Honey (1993).  Radiohead's popularity rose in the United Kingdom with the release of their second album, The Bends (1995). The band's textured guitar parts and Yorke's falsetto singing were warmly received by critics and fans. \n",
      "\n",
      "International success (1996 - 2000)\n",
      "Radiohead's third album, OK Computer (1997), propelled them to greater international fame. Featuring an expansive sound and themes of modern alienation, OK Computer has often been acclaimed as a landmark record of the 1990s.\n",
      "\n",
      "A change in style and leaving EMI (2000 – 2003)\n",
      "Kid A (2000) and Amnesiac (2001) marked a change in the band's musical style. Radiohead incorporated experimental electronic music, Krautrock, post-punk and jazz influences into their songs, dividing fans and critics, but they remained popular. Hail to the Thief (2003), a mix of guitar-driven rock, electronics and lyrics inspired by headlines, was the band's final album for their major record label, EMI. \n",
      "\n",
      "Independent releases and touring (2005 - 2013)\n",
      "In 2007, Radiohead independently released their seventh album, In Rainbows, originally as a digital download for which each customer could set their own price, later in stores, to critical and chart success.\n",
      "\n",
      "In 2011, Radiohead released their eighth album, The King of Limbs - again independently - which was described as an exploration of rhythm and quieter textures.\n",
      "\n",
      "In February 2012, Radiohead began The King of Limbs world tour - with concerts in the US, Canada, Mexico, Europe, Japan, Taiwan, South Korea, Australia and New Zealand. In early 2013, following the tour, Thom Yorke released a studio album entitled Amok with his band Atoms for Peace.\n",
      "\n",
      "Ninth Studio Album - \"A Moon Shaped Pool\"  (2016)\n",
      "After much speculation, on May 8, 2016, Radiohead released their long awaited ninth album,\"A Moon Shaped Pool\" on various streaming services. The band announced the release of their latest 11-track album on Twitter. The first track from the album was \"Burn the Witch\".\n",
      "\n",
      "Glastonbury 2017\n",
      "On October 20, 2016, Radiohead was announced as the headline act for the opening night at Glastonbury Music Festival in June 2017.\n",
      "\n",
      "\n",
      "\n",
      " <a href=\"https://www.last.fm/music/Radiohead\">Read more on Last.fm</a>. User-contributed text is available under the Creative Commons By-SA License; additional terms may apply.\n"
     ]
    }
   ],
   "source": []
  },
  {
   "cell_type": "code",
   "execution_count": 61,
   "metadata": {},
   "outputs": [
    {
     "output_type": "execute_result",
     "data": {
      "text/plain": [
       "'01 Feb 2006, 19:27'"
      ]
     },
     "metadata": {},
     "execution_count": 61
    }
   ],
   "source": [
    "# when was the bio published?\n",
    "bio.find('published').text"
   ]
  },
  {
   "cell_type": "code",
   "execution_count": 64,
   "metadata": {},
   "outputs": [
    {
     "output_type": "execute_result",
     "data": {
      "text/plain": [
       "36"
      ]
     },
     "metadata": {},
     "execution_count": 64
    }
   ],
   "source": [
    "# how many image tags are returned by this query?\n",
    "len(soup.find_all('image'))"
   ]
  }
 ],
 "metadata": {
  "kernelspec": {
   "display_name": "Python 3",
   "language": "python",
   "name": "python3"
  },
  "language_info": {
   "codemirror_mode": {
    "name": "ipython",
    "version": 3
   },
   "file_extension": ".py",
   "mimetype": "text/x-python",
   "name": "python",
   "nbconvert_exporter": "python",
   "pygments_lexer": "ipython3",
   "version": "3.8.5-final"
  }
 },
 "nbformat": 4,
 "nbformat_minor": 2
}