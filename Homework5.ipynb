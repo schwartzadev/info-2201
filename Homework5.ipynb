{
 "cells": [
  {
   "cell_type": "code",
   "execution_count": null,
   "metadata": {},
   "outputs": [],
   "source": [
    "# beautiful soup homework"
   ]
  },
  {
   "cell_type": "code",
   "execution_count": 3,
   "metadata": {},
   "outputs": [],
   "source": [
    "# import the modules necessary for using BeautifulSoup with web-based sources\n"
   ]
  },
  {
   "cell_type": "code",
   "execution_count": null,
   "metadata": {},
   "outputs": [],
   "source": [
    "# Problem 1: More Fuzz\n",
    "\n",
    "# fuzz pedals are great. let's grab some information about different fuzz pedals from a web page\n",
    "fuzzPedalsHTML = requests.get(\"http://www.guitarsite.com/fuzz-pedals/\").text"
   ]
  },
  {
   "cell_type": "code",
   "execution_count": 58,
   "metadata": {},
   "outputs": [],
   "source": [
    "# how do you make the above HTML into BeautifulSoup?\n"
   ]
  },
  {
   "cell_type": "code",
   "execution_count": 59,
   "metadata": {},
   "outputs": [],
   "source": [
    "# there's some information about fuzz pedals in one of the html tables on the page.  what line of code\n",
    "# will retrieve all of the table tags on the page?\n"
   ]
  },
  {
   "cell_type": "code",
   "execution_count": 60,
   "metadata": {},
   "outputs": [
    {
     "name": "stdout",
     "output_type": "stream",
     "text": [
      "7\n"
     ]
    }
   ],
   "source": [
    "# how many table tags are there on this page?\n"
   ]
  },
  {
   "cell_type": "code",
   "execution_count": 61,
   "metadata": {},
   "outputs": [],
   "source": [
    "# the good stuff is in the table with the id \"amptb\".  what line of code will get just that table?\n",
    "\n",
    "\n",
    "# you might want to print it out to make sure that you got the right table"
   ]
  },
  {
   "cell_type": "code",
   "execution_count": 64,
   "metadata": {},
   "outputs": [
    {
     "name": "stdout",
     "output_type": "stream",
     "text": [
      "Dunlop JD-F2 Dallas-Arbiter Fuzz Face\n",
      "EHX Octavix\n",
      "Vox Trike Fuzz\n",
      "Rotosound 1960s Fuzz Reissue\n",
      "Dunlop Jimi Hendrix Fuzz Face Mini\n",
      "Voodoo Lab Superfuzz\n",
      "Wampler Velvet Fuzz\n",
      "Boss FZ-5 Fuzz Pedal\n",
      "Way Huge Swollen Pickle MkII Fuzz Pedal\n",
      "Suhr Rufus Reloaded Fuzz Pedal\n"
     ]
    }
   ],
   "source": [
    "# the names of the pedals are located in two different places in the table. get them all and print them\n",
    "# out\n"
   ]
  },
  {
   "cell_type": "code",
   "execution_count": 80,
   "metadata": {},
   "outputs": [
    {
     "name": "stdout",
     "output_type": "stream",
     "text": [
      "Dunlop JD-F2 Dallas-Arbiter Fuzz Face\n",
      "\n",
      "    There wouldn't be a Fuzz pedal market today if not for the popularity of the Fuzz Face. Used by big name artists like Jimi Hendrix, Eric Johnson, Duane Allman, David Gilmore, George Harrison and more, the Dallas-Arbiter Fuzz Face has set the standard high right at the beginning.  \n",
      "  \n",
      "EHX Octavix\n",
      "\n",
      "    Electro-Harmonix played a major role in shaping the sound of rock guitar, and the quality of their dirt pedals gave them the staying power to not just survive, but thrive.  The EHX Octavix comes with the classic and effective combination of fuzz and octave effects, in an easy to use and compact pedal format.  \n",
      "  \n",
      "Vox Trike Fuzz\n",
      "\n",
      "    If you’re looking for subtle fuzz, the Vox Trike Fuzz pedal is not for you. This octave+fuzz pedal goes from harsh to nasty, much like germanium fuzz pedals of old.  Only this one is more reliable and pedalboard friendly. \n",
      "  \n",
      "Rotosound 1960s Fuzz Reissue\n",
      "\n",
      "   The original Rotosound Fuzz Pedal was not even publicly released but because of its impressive tone, it made its way into the guitar rigs of iconic players like Jimmy Page.  Now this same fuzz pedal is made available for us mortals with added modern enhancements.  \n",
      "  \n",
      "Dunlop Jimi Hendrix Fuzz Face Mini\n",
      "\n",
      " Expanding on the Dallas-Arbiter Fuzz, Dunlop created a number of uniquely voiced versions of the Fuzz Face.  Of this long list of pedals, the BC108 silicon transistor based Jimi Hendrix Fuzz Face is the most sought after, thanks mostly to its reference to the iconic guitar player. \n",
      "  \n",
      "Voodoo Lab Superfuzz\n",
      "\n",
      "Based on the now rare Jordan Electronics Bosstone, the Superfuzz deserves its super label, providing smooth fuzz tones that responds really well to the nuances of your playing and with controls that allow for impressive tone shaping. \n",
      "  \n",
      "Wampler Velvet Fuzz\n",
      "\n",
      "    The Wampler Velvet Fuzz is not your average in-your-face fuzz effect, rather it provides some of the smoothest fuzz tones that you'll ever hear, inspired by the warm fuzz tones as used by artists like Eric Johnson and David Gilmour.  \n",
      "  \n",
      "Boss FZ-5 Fuzz Pedal\n",
      "\n",
      "   The Boss FZ-5 is an easy to use multi-mode fuzz pedal that utilizes Boss’ latest effects modeling technology. It features a nice balance of intuitive interface, flexibility and sonic quality at a modest price point. And since it is crafted by Boss, you can be sure of reliable for a long life time. \n",
      "  \n",
      "Way Huge Swollen Pickle MkII Fuzz Pedal\n",
      "\n",
      "    Not for the faint hearted, the Way Huge Swollen Pickle MkII is one mean sounding fuzz pedal. With controls that are normally found on distortion units, this fuzz box is more than capable of churning out high-gain tones that will satisfy rock, punk and metal players.\n",
      "  \n",
      "Suhr Rufus Reloaded Fuzz Pedal\n",
      "\n",
      "    Suhr's reputation as a guitar pedal builder continues to grow, thanks to the quality of their stompboxes.  The Rufus Reloaded Fuzz provides an excellent example of what the company can do, successfully balancing tone shaping capabilities, great tone and versatility, all implemented inside a compact pedal.  \n",
      "  \n"
     ]
    }
   ],
   "source": [
    "# extra credit: print the name of each pedal, followed by its description on a subsequent line\n"
   ]
  },
  {
   "cell_type": "code",
   "execution_count": null,
   "metadata": {},
   "outputs": [],
   "source": [
    "# Problem 2: lastfm api with xml results\n",
    "\n",
    "# a note about using beautifulsoup with last.fm's api: if you use .contents anywhere with these results\n",
    "# you may get newline (\"\\n\") characters interspersed in the ResultSet returned by .contents. \n",
    "# if you want to know why, you can read a bit about this behavior here:\n",
    "# https://stackoverflow.com/questions/29245069/extra-newline-character-for-children-of-beautiful-soup\n",
    "# with this in mind, try to use .find or .find_all instead of relying on .contents for this assignment\n",
    "# to avoid having to deal with those pesky newline characters."
   ]
  },
  {
   "cell_type": "code",
   "execution_count": 4,
   "metadata": {},
   "outputs": [],
   "source": [
    "# remember the lastfm api from wayback when?  \n",
    "# let's get xml data from it and use our beautiful soup skills to parse it\n",
    "\n",
    "# don't forget: you'll need your api_key for this assignment"
   ]
  },
  {
   "cell_type": "code",
   "execution_count": 5,
   "metadata": {},
   "outputs": [],
   "source": [
    "# make a request for radiohead using the artist.getinfo query, but don't specify a format\n",
    "# use the .text attribute after .get to store the XML\n"
   ]
  },
  {
   "cell_type": "code",
   "execution_count": null,
   "metadata": {},
   "outputs": [],
   "source": [
    "# use BeautifulSoup to make some soup out of your request\n"
   ]
  },
  {
   "cell_type": "code",
   "execution_count": null,
   "metadata": {},
   "outputs": [],
   "source": [
    "# the content of the soup will be similar to the JSON that is returned by the same query but everything\n",
    "# will be inside XML tags.  you might want to print the soup out just so you have a reference of what's in there.\n",
    "# you can either do that or paste the full URL of the api query into a browser window so you can better see how\n",
    "# tags are nested."
   ]
  },
  {
   "cell_type": "code",
   "execution_count": 14,
   "metadata": {},
   "outputs": [
    {
     "name": "stdout",
     "output_type": "stream",
     "text": [
      "4839709\n"
     ]
    }
   ],
   "source": [
    "# how many listeners does Radiohead have? (these numbers will be different from day to day)\n"
   ]
  },
  {
   "cell_type": "code",
   "execution_count": 35,
   "metadata": {},
   "outputs": [
    {
     "name": "stdout",
     "output_type": "stream",
     "text": [
      "518991126\n"
     ]
    }
   ],
   "source": [
    "# what's Radiohead's playcount? (these numbers will be different from day to day)\n"
   ]
  },
  {
   "cell_type": "code",
   "execution_count": 42,
   "metadata": {},
   "outputs": [
    {
     "name": "stdout",
     "output_type": "stream",
     "text": [
      "Thom Yorke\n",
      "https://www.last.fm/music/Thom+Yorke\n",
      "Atoms for Peace\n",
      "https://www.last.fm/music/Atoms+for+Peace\n",
      "Muse\n",
      "https://www.last.fm/music/Muse\n",
      "Pixies\n",
      "https://www.last.fm/music/Pixies\n",
      "Blur\n",
      "https://www.last.fm/music/Blur\n"
     ]
    }
   ],
   "source": [
    "# print the names of the similar artists along with their last.fm URL\n",
    "# (these might change)"
   ]
  },
  {
   "cell_type": "code",
   "execution_count": 50,
   "metadata": {},
   "outputs": [
    {
     "name": "stdout",
     "output_type": "stream",
     "text": [
      "\n",
      "Radiohead are an English alternative rock band from Abingdon, Oxfordshire, UK which formed in 1985. The band is composed of Thom Yorke (lead vocals, rhythm guitar, piano, beats), Jonny Greenwood (lead guitar, keyboard, other instruments), Ed O'Brien (guitar, backing vocals), Colin Greenwood (bass guitar) and Phil Selway (drums, percussion).\n",
      "\n",
      "The early years (1992 – 1995)\n",
      "Radiohead released their first single, \"Creep\" in 1992. The song was initially unsuccessful <a href=\"https://www.last.fm/music/Radiohead\">Read more on Last.fm</a>\n"
     ]
    }
   ],
   "source": [
    "# print the bio summary and bio content for Radiohead\n"
   ]
  },
  {
   "cell_type": "code",
   "execution_count": 53,
   "metadata": {},
   "outputs": [
    {
     "name": "stdout",
     "output_type": "stream",
     "text": [
      "\n",
      "Radiohead are an English alternative rock band from Abingdon, Oxfordshire, UK which formed in 1985. The band is composed of Thom Yorke (lead vocals, rhythm guitar, piano, beats), Jonny Greenwood (lead guitar, keyboard, other instruments), Ed O'Brien (guitar, backing vocals), Colin Greenwood (bass guitar) and Phil Selway (drums, percussion).\n",
      "\n",
      "The early years (1992 – 1995)\n",
      "Radiohead released their first single, \"Creep\" in 1992. The song was initially unsuccessful, but it became a worldwide hit several months after the release of their debut album, Pablo Honey (1993).  Radiohead's popularity rose in the United Kingdom with the release of their second album, The Bends (1995). The band's textured guitar parts and Yorke's falsetto singing were warmly received by critics and fans. \n",
      "\n",
      "International success (1996 - 2000)\n",
      "Radiohead's third album, OK Computer (1997), propelled them to greater international fame. Featuring an expansive sound and themes of modern alienation, OK Computer has often been acclaimed as a landmark record of the 1990s.\n",
      "\n",
      "A change in style and leaving EMI (2000 – 2003)\n",
      "Kid A (2000) and Amnesiac (2001) marked a change in the band's musical style. Radiohead incorporated experimental electronic music, Krautrock, post-punk and jazz influences into their songs, dividing fans and critics, but they remained popular. Hail to the Thief (2003), a mix of guitar-driven rock, electronics and lyrics inspired by headlines, was the band's final album for their major record label, EMI. \n",
      "\n",
      "Independent releases and touring (2005 - 2013)\n",
      "In 2007, Radiohead independently released their seventh album, In Rainbows, originally as a digital download for which each customer could set their own price, later in stores, to critical and chart success.\n",
      "\n",
      "In 2011, Radiohead released their eighth album, The King of Limbs - again independently - which was described as an exploration of rhythm and quieter textures.\n",
      "\n",
      "In February 2012, Radiohead began The King of Limbs world tour - with concerts in the US, Canada, Mexico, Europe, Japan, Taiwan, South Korea, Australia and New Zealand. In early 2013, following the tour, Thom Yorke released a studio album entitled Amok with his band Atoms for Peace.\n",
      "\n",
      "Ninth Studio Album - \"A Moon Shaped Pool\"  (2016)\n",
      "After much speculation, on May 8, 2016, Radiohead released their long awaited ninth album,\"A Moon Shaped Pool\" on various streaming services. The band announced the release of their latest 11-track album on Twitter. The first track from the album was \"Burn the Witch\".\n",
      "\n",
      "Glastonbury 2017\n",
      "On October 20, 2016, Radiohead was announced as the headline act for the opening night at Glastonbury Music Festival in June 2017.\n",
      "\n",
      "\n",
      "\n",
      " <a href=\"https://www.last.fm/music/Radiohead\">Read more on Last.fm</a>. User-contributed text is available under the Creative Commons By-SA License; additional terms may apply.\n"
     ]
    }
   ],
   "source": []
  },
  {
   "cell_type": "code",
   "execution_count": 55,
   "metadata": {},
   "outputs": [
    {
     "name": "stdout",
     "output_type": "stream",
     "text": [
      "01 Feb 2006, 19:27\n"
     ]
    }
   ],
   "source": [
    "# when was the bio published?\n"
   ]
  },
  {
   "cell_type": "code",
   "execution_count": 44,
   "metadata": {},
   "outputs": [
    {
     "name": "stdout",
     "output_type": "stream",
     "text": [
      "36\n"
     ]
    }
   ],
   "source": [
    "# how many image tags are returned by this query?\n"
   ]
  }
 ],
 "metadata": {
  "kernelspec": {
   "display_name": "Python 3",
   "language": "python",
   "name": "python3"
  },
  "language_info": {
   "codemirror_mode": {
    "name": "ipython",
    "version": 3
   },
   "file_extension": ".py",
   "mimetype": "text/x-python",
   "name": "python",
   "nbconvert_exporter": "python",
   "pygments_lexer": "ipython3",
   "version": "3.6.9"
  }
 },
 "nbformat": 4,
 "nbformat_minor": 2
}
