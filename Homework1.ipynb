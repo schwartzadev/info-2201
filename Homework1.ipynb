{
 "cells": [
  {
   "cell_type": "code",
   "execution_count": 2,
   "metadata": {},
   "outputs": [],
   "source": [
    "# Problem 1a\n",
    "\n",
    "# Write a function that counts the number of vowels there are in a given list and output that number using\n",
    "# the following format:\n",
    "# There are X vowels in the list.\n",
    "# Where X is the number of vowels.  Use the following function definition:\n",
    "def countVowelsInList(listOfStuff):\n",
    "    # AS: assuming a list of strings here?\n",
    "    count = 0\n",
    "    vowels = ['a', 'e', 'i', 'o', 'u']\n",
    "    for item in listOfStuff:\n",
    "        for letter in item:\n",
    "            if letter in vowels:\n",
    "                count += 1\n",
    "    return count\n",
    "\n",
    "# Test cases\n",
    "assert countVowelsInList([]) == 0 # base case\n",
    "assert countVowelsInList([\"go\", \"run\"]) == 2\n",
    "assert countVowelsInList([\"aeiou\"]) == 5\n",
    "assert countVowelsInList([\"aeiou\", \"ioooo\"]) == 10"
   ]
  },
  {
   "cell_type": "code",
   "execution_count": null,
   "metadata": {},
   "outputs": [],
   "source": [
    "# Problem 1b\n",
    "\n",
    "# Write a function that copies all four-letter strings from a list of strings into a new list, then print the\n",
    "# new list.  Use the following function definition:\n",
    "def copyFourLetterStrings(listOfStuff):\n"
   ]
  },
  {
   "cell_type": "code",
   "execution_count": 2,
   "metadata": {},
   "outputs": [],
   "source": [
    "# Problem 2\n",
    "#\n",
    "# Given a number of seconds between 0 and 86400 seconds, write a function that reports the equivalent number \n",
    "# of hours, minutes, and seconds.  for example, if the number of seconds is 14013, your function would print\n",
    "#\n",
    "# There are 3 hours, 53 minutes, and 33 seconds in 14013 seconds.\n",
    "#\n",
    "# If the given number of seconds is less than 0 or greater than 86400, your function should print\n",
    "#\n",
    "# Number of seconds given must be greater than or equal to 0 and less than or equal to 86400.\n",
    "#\n",
    "# Use the following function header:\n",
    "def printNumHoursMinutesSeconds(numSeconds):"
   ]
  },
  {
   "cell_type": "code",
   "execution_count": null,
   "metadata": {},
   "outputs": [],
   "source": [
    "# Problem 3\n",
    "# Given a csv file where the columns are \n",
    "#\n",
    "# Pedal Name, Pedal Type, Manufacturer\n",
    "#\n",
    "# write a function that creates a dictionary where the key is pedal type and the value is the number\n",
    "# of those pedals in the csv file. This function should print the dictionary after reading the contents\n",
    "# of the entire file.  Use the following function header:\n",
    "def countPedalTypes(fileName):\n",
    "# where fileName is the name of the csv file"
   ]
  }
 ],
 "metadata": {
  "kernelspec": {
   "display_name": "Python 3",
   "language": "python",
   "name": "python3"
  },
  "language_info": {
   "codemirror_mode": {
    "name": "ipython",
    "version": 3
   },
   "file_extension": ".py",
   "mimetype": "text/x-python",
   "name": "python",
   "nbconvert_exporter": "python",
   "pygments_lexer": "ipython3",
   "version": "3.8.2"
  }
 },
 "nbformat": 4,
 "nbformat_minor": 2
}
