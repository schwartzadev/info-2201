{
 "cells": [
  {
   "cell_type": "code",
   "execution_count": 2,
   "metadata": {},
   "outputs": [],
   "source": [
    "# Problem 1a\n",
    "\n",
    "# Write a function that counts the number of vowels there are in a given list and output that number using\n",
    "# the following format:\n",
    "# There are X vowels in the list.\n",
    "# Where X is the number of vowels.  Use the following function definition:\n",
    "def countVowelsInList(listOfStuff):\n",
    "    # AS: assuming a list of strings here?\n",
    "    count = 0\n",
    "    vowels = ['a', 'e', 'i', 'o', 'u']\n",
    "    for item in listOfStuff:\n",
    "        for letter in item:\n",
    "            if letter in vowels:\n",
    "                count += 1\n",
    "    return count\n",
    "\n",
    "# Test cases\n",
    "assert countVowelsInList([]) == 0 # base case\n",
    "assert countVowelsInList([\"go\", \"run\"]) == 2\n",
    "assert countVowelsInList([\"aeiou\"]) == 5\n",
    "assert countVowelsInList([\"aeiou\", \"ioooo\"]) == 10"
   ]
  },
  {
   "cell_type": "code",
   "execution_count": 10,
   "metadata": {},
   "outputs": [],
   "source": [
    "# Problem 1b\n",
    "\n",
    "# Write a function that copies all four-letter strings from a list of strings into a new list, then print the\n",
    "# new list.  Use the following function definition:\n",
    "def copyFourLetterStrings(listOfStuff):\n",
    "    new_list = []\n",
    "    for item in listOfStuff:\n",
    "        if len(item) == 4:\n",
    "            new_list.append(item)\n",
    "    return new_list\n",
    "\n",
    "# Test cases\n",
    "assert copyFourLetterStrings([]) == [] # base case\n",
    "assert copyFourLetterStrings([\"as\", \"in\", \"aeiou\", \"a\"]) == []\n",
    "assert copyFourLetterStrings([\"as\", \"in\", \"aeiou\", \"a\", \"asdf\"]) == [\"asdf\"]\n",
    "assert copyFourLetterStrings([\"andy\", \"asdf\"]) == [\"andy\", \"asdf\"]"
   ]
  },
  {
   "cell_type": "code",
   "execution_count": 24,
   "metadata": {},
   "outputs": [
    {
     "name": "stdout",
     "output_type": "stream",
     "text": [
      "There are 3 hours, 53 minutes, and 33 seconds in 14013 seconds.\n",
      "There are 1 hours, 0 minutes, and 0 seconds in 3600 seconds.\n",
      "There are 0 hours, 0 minutes, and 18 seconds in 18 seconds.\n",
      "Number of seconds given must be greater than or equal to 0 and less than or equal to 86400.\n"
     ]
    }
   ],
   "source": [
    "# Problem 2\n",
    "#\n",
    "# Given a number of seconds between 0 and 86400 seconds, write a function that reports the equivalent number \n",
    "# of hours, minutes, and seconds.  for example, if the number of seconds is 14013, your function would print\n",
    "#\n",
    "# There are 3 hours, 53 minutes, and 33 seconds in 14013 seconds.\n",
    "#\n",
    "# If the given number of seconds is less than 0 or greater than 86400, your function should print\n",
    "#\n",
    "# Number of seconds given must be greater than or equal to 0 and less than or equal to 86400.\n",
    "#\n",
    "# Use the following function header:\n",
    "\n",
    "import math\n",
    "\n",
    "def printNumHoursMinutesSeconds(total_seconds):\n",
    "    if total_seconds < 0 or total_seconds > 86400:\n",
    "        print('Number of seconds given must be greater than or equal to 0 and less than or equal to 86400.')\n",
    "        return\n",
    "\n",
    "    hour_duration = 60 * 60 # 60 mins times 60 secs\n",
    "    minute_duration = 60 # 60 secs per minute\n",
    "\n",
    "    num_seconds = total_seconds\n",
    "\n",
    "    # Calculate the number of hours.\n",
    "    num_hours = math.floor(num_seconds / hour_duration)\n",
    "    num_seconds = num_seconds % hour_duration\n",
    "\n",
    "    # Calculate the number of minutes.\n",
    "    num_minutes = math.floor(num_seconds / minute_duration)\n",
    "    num_seconds = num_seconds % minute_duration # The remainder here in the # of seconds.\n",
    "\n",
    "    print('There are {0} hours, {1} minutes, and {2} seconds in {3} seconds.'.format(\n",
    "        num_hours,\n",
    "        num_minutes,\n",
    "        num_seconds,\n",
    "        total_seconds,\n",
    "    ))\n",
    "\n",
    "# Test cases\n",
    "printNumHoursMinutesSeconds(14013)\n",
    "printNumHoursMinutesSeconds(3600)\n",
    "printNumHoursMinutesSeconds(18)\n",
    "printNumHoursMinutesSeconds(-1)"
   ]
  },
  {
   "cell_type": "code",
   "execution_count": null,
   "metadata": {},
   "outputs": [],
   "source": [
    "# Problem 3\n",
    "# Given a csv file where the columns are \n",
    "#\n",
    "# Pedal Name, Pedal Type, Manufacturer\n",
    "#\n",
    "# write a function that creates a dictionary where the key is pedal type and the value is the number\n",
    "# of those pedals in the csv file. This function should print the dictionary after reading the contents\n",
    "# of the entire file.  Use the following function header:\n",
    "# where fileName is the name of the csv file\n",
    "def countPedalTypes(fileName):\n"
   ]
  }
 ],
 "metadata": {
  "kernelspec": {
   "display_name": "Python 3",
   "language": "python",
   "name": "python3"
  },
  "language_info": {
   "codemirror_mode": {
    "name": "ipython",
    "version": 3
   },
   "file_extension": ".py",
   "mimetype": "text/x-python",
   "name": "python",
   "nbconvert_exporter": "python",
   "pygments_lexer": "ipython3",
   "version": "3.8.2"
  }
 },
 "nbformat": 4,
 "nbformat_minor": 2
}
