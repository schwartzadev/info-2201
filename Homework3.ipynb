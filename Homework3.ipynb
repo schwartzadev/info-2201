{
 "cells": [
  {
   "cell_type": "markdown",
   "metadata": {},
   "source": [
    "# Problem 1: Rock-Paper-Scissors\n",
    "\n",
    "[Rock-Paper-Scissors](https://en.wikipedia.org/wiki/Rock%E2%80%93paper%E2%80%93scissors) is a classic children's game. Two players count down from 3 and simultaneously throw one of three shapes. Each round of the game has only three possible outcomes (summarized in the image below) as well as a tie.\n",
    "\n",
    "![Rock,Paper,Scissors](https://upload.wikimedia.org/wikipedia/commons/thumb/6/67/Rock-paper-scissors.svg/300px-Rock-paper-scissors.svg.png)\n",
    "\n",
    "Implement a `rps_scoring` function that:\n",
    "\n",
    "1. accepts two variables `player1` and `player2` as inputs\n",
    "2. the only input variables that should work are \"rock\", \"paper\", and \"scissors\n",
    "3. compares the two input variables to determine which player won (or if a tie occurs)\n",
    "4. returns a string saying which player won\n",
    "\n",
    "You'll need to use some combinations of [flow control](https://docs.python.org/3.5/tutorial/controlflow.html) statements; compare input strings to each other; and sanitize your function inputs to make sure they're well-behaved in case the user enters something out-of-scope."
   ]
  },
  {
   "cell_type": "code",
   "execution_count": null,
   "metadata": {
    "collapsed": true
   },
   "outputs": [],
   "source": [
    "def rps_scoring(player1,player2):\n",
    "    if player1 == 'rock' and player2 == 'scissors':\n",
    "        print('Tie')\n",
    "    elif:\n",
    "        "
   ]
  },
  {
   "cell_type": "markdown",
   "metadata": {},
   "source": [
    "Take it for a test spin. Your function should work without needing to change anything in the code block below."
   ]
  },
  {
   "cell_type": "code",
   "execution_count": null,
   "metadata": {
    "collapsed": true
   },
   "outputs": [],
   "source": [
    "player1 = input(\"Player 1's move:\")\n",
    "player2 = input(\"Player 2's move:\")\n",
    "rps_scoring(player1,player2)"
   ]
  },
  {
   "cell_type": "markdown",
   "metadata": {},
   "source": [
    "### Tests"
   ]
  },
  {
   "cell_type": "code",
   "execution_count": null,
   "metadata": {
    "collapsed": true
   },
   "outputs": [],
   "source": [
    "rps_scoring(player1='scissors',player2='paper') # Player 1 should win"
   ]
  },
  {
   "cell_type": "code",
   "execution_count": null,
   "metadata": {
    "collapsed": true
   },
   "outputs": [],
   "source": [
    "rps_scoring(player1='paper',player2='paper') # There should be a tie"
   ]
  },
  {
   "cell_type": "code",
   "execution_count": null,
   "metadata": {
    "collapsed": true
   },
   "outputs": [],
   "source": [
    "rps_scoring(player1='lizard',player2='spock') # This shouldn't work"
   ]
  },
  {
   "cell_type": "code",
   "execution_count": null,
   "metadata": {
    "collapsed": true
   },
   "outputs": [],
   "source": [
    "rps_scoring(player1='Rock',player2='PAPER') # Should this work?"
   ]
  },
  {
   "cell_type": "markdown",
   "metadata": {},
   "source": [
    "# Problem 2"
   ]
  },
  {
   "cell_type": "markdown",
   "metadata": {},
   "source": [
    "\n",
    "![caption](OFTFRFBF.JPG)\n"
   ]
  },
  {
   "cell_type": "markdown",
   "metadata": {},
   "source": [
    "(you'll need to download the file OFTFRFBF.jpg to see the image above)\n",
    "\n",
    "Dr. Seuss's \"[One Fish, Two Fish, Red Fish, Blue Fish](https://en.wikipedia.org/wiki/One_Fish_Two_Fish_Red_Fish_Blue_Fish)\" describes fish having various attributes."
   ]
  },
  {
   "cell_type": "raw",
   "metadata": {},
   "source": [
    "\"One fish, Two fish, Red fish, Blue fish,\n",
    "Black fish, Blue fish, Old fish, New fish.\n",
    "This one has a little car.\n",
    "This one has a little star.\n",
    "Say! What a lot of fish there are.\n",
    "Yes. Some are red, and some are blue.\n",
    "Some are old and some are new.\n",
    "Some are sad, and some are glad,\n",
    "And some are very, very bad.\n",
    "Why are they sad and glad and bad?\n",
    "I do not know, go ask your dad.\n",
    "Some are thin, and some are fat.\n",
    "The fat one has a yellow hat.\n",
    "From there to here,\n",
    "From here to there,\n",
    "Funny things are everywhere.\n",
    "Here are some who like to run.\n",
    "They run for fun in the hot, hot sun.\n",
    "Oh me! Oh my! Oh me! oh my!\n",
    "What a lot of funny things go by.\n",
    "Some have two feet and some have four.\n",
    "Some have six feet and some have more.\n",
    "Where do they come from? I can't say.\n",
    "But I bet they have come a long, long way.\n",
    "we see them come, we see them go.\n",
    "Some are fast. Some are slow.\n",
    "Some are high. Some are low.\n",
    "Not one of them is like another.\n",
    "Don't ask us why, go ask your mother.\""
   ]
  },
  {
   "cell_type": "markdown",
   "metadata": {},
   "source": [
    "Implement a `Fish` class that can accomodate all the possible Fish attributes described in the story with corresponding methods seen in the test cases below. \n",
    "\n",
    "You will need to define and code this `Fish` class yourself using the test cases below to guide you.  You can add more attributes and methods as you see fit, but at a minimum you need to handle all of the test cases below.  (But like before in Homework 2, doing the minimum doesn't guarantee you an A.) You can \"do more\" by adding properties and methods to the Fish class. If you do provide additional attributes and methods over and beyond those suggested by the test cases, provide your own test cases to show how your attributes and methods work.\n",
    "\n",
    "Here is some code to get you started:"
   ]
  },
  {
   "cell_type": "code",
   "execution_count": 5,
   "metadata": {
    "collapsed": true
   },
   "outputs": [],
   "source": [
    "class Fish(object):\n",
    "    # define all the attributes necessary to tell Dr. Seuss's story.\n",
    "    def __init__(self,color,car):\n",
    "        self.color = color\n",
    "        self.hasCar = car\n",
    "        # add additional attributes here\n",
    "        \n",
    "    def getColor(self):\n",
    "        return self.color\n",
    "    \n",
    "    def hasACar(self):\n",
    "        return self.hasCar\n",
    "    \n",
    "    def setName(self, fishName):\n",
    "        self.name = fishName"
   ]
  },
  {
   "cell_type": "markdown",
   "metadata": {},
   "source": [
    "### Some Tests"
   ]
  },
  {
   "cell_type": "code",
   "execution_count": null,
   "metadata": {
    "collapsed": true
   },
   "outputs": [],
   "source": [
    "# Create at least 6 Fish objects: fish1, ... , fish6 with different attributes matching the story\n",
    "# hint: there aren't \"exact\" answers.  just use information from the story and be consistent.\n",
    "\n",
    "\n",
    "\n",
    "# Put all of your fish in an aquarium (make it a list) and call it allFishList\n"
   ]
  },
  {
   "cell_type": "code",
   "execution_count": null,
   "metadata": {
    "collapsed": true
   },
   "outputs": [],
   "source": [
    "# What color is the first fish?\n",
    "\n"
   ]
  },
  {
   "cell_type": "code",
   "execution_count": null,
   "metadata": {
    "collapsed": true
   },
   "outputs": [],
   "source": [
    "# Does the second fish have a car?\n"
   ]
  },
  {
   "cell_type": "code",
   "execution_count": null,
   "metadata": {
    "collapsed": true
   },
   "outputs": [],
   "source": [
    "# Does the third fish have a star?\n"
   ]
  },
  {
   "cell_type": "code",
   "execution_count": null,
   "metadata": {
    "collapsed": true
   },
   "outputs": [],
   "source": [
    "# Is the fourth fish old?\n"
   ]
  },
  {
   "cell_type": "code",
   "execution_count": null,
   "metadata": {
    "collapsed": true
   },
   "outputs": [],
   "source": [
    "# Is the fifth fish sad?\n"
   ]
  },
  {
   "cell_type": "code",
   "execution_count": null,
   "metadata": {
    "collapsed": true
   },
   "outputs": [],
   "source": [
    "# Is the sixth fish bad?\n"
   ]
  },
  {
   "cell_type": "code",
   "execution_count": null,
   "metadata": {
    "collapsed": true
   },
   "outputs": [],
   "source": [
    "# How many feet are there among all the fish? \n"
   ]
  }
 ],
 "metadata": {
  "kernelspec": {
   "display_name": "Python 3",
   "language": "python",
   "name": "python3"
  },
  "language_info": {
   "codemirror_mode": {
    "name": "ipython",
    "version": 3
   },
   "file_extension": ".py",
   "mimetype": "text/x-python",
   "name": "python",
   "nbconvert_exporter": "python",
   "pygments_lexer": "ipython3",
   "version": "3.6.9"
  }
 },
 "nbformat": 4,
 "nbformat_minor": 2
}
