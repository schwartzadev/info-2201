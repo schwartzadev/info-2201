{
 "cells": [
  {
   "cell_type": "markdown",
   "metadata": {},
   "source": [
    "# Problem 1: Rock-Paper-Scissors\n",
    "\n",
    "[Rock-Paper-Scissors](https://en.wikipedia.org/wiki/Rock%E2%80%93paper%E2%80%93scissors) is a classic children's game. Two players count down from 3 and simultaneously throw one of three shapes. Each round of the game has only three possible outcomes (summarized in the image below) as well as a tie.\n",
    "\n",
    "![Rock,Paper,Scissors](https://upload.wikimedia.org/wikipedia/commons/thumb/6/67/Rock-paper-scissors.svg/300px-Rock-paper-scissors.svg.png)\n",
    "\n",
    "Implement a `rps_scoring` function that:\n",
    "\n",
    "1. accepts two variables `player1` and `player2` as inputs\n",
    "2. the only input variables that should work are \"rock\", \"paper\", and \"scissors\n",
    "3. compares the two input variables to determine which player won (or if a tie occurs)\n",
    "4. returns a string saying which player won\n",
    "\n",
    "You'll need to use some combinations of [flow control](https://docs.python.org/3.5/tutorial/controlflow.html) statements; compare input strings to each other; and sanitize your function inputs to make sure they're well-behaved in case the user enters something out-of-scope."
   ]
  },
  {
   "cell_type": "code",
   "execution_count": 42,
   "metadata": {
    "collapsed": true
   },
   "outputs": [],
   "source": [
    "allowed_strings = ['rock', 'paper', 'scissors']  # the n+1 object beats the n object\n",
    "\n",
    "def get_winner(p1_response: str, p2_response: str):\n",
    "    p1_index = allowed_strings.index(p1_response)\n",
    "\n",
    "    # Handle out of index issues (imitate a circular array)\n",
    "    # This is the index of the option that will defeat p1\n",
    "    p1_defeated_by_index = 0 if p1_index == (len(allowed_strings) - 1) else p1_index + 1\n",
    "\n",
    "    if allowed_strings[p1_index] == p2_response:\n",
    "        return \"tie\"\n",
    "    if allowed_strings[p1_defeated_by_index] == p2_response:\n",
    "        return \"player2\"\n",
    "    return \"player1\"\n",
    "\n",
    "def rps_scoring(player1: str, player2: str):\n",
    "    # Check for bad input\n",
    "    player1 = player1.lower()  # make case insensitive\n",
    "    player2 = player2.lower()  # make case insensitive\n",
    "\n",
    "    # Check input\n",
    "    if player1 not in allowed_strings or player2 not in allowed_strings:\n",
    "        print('Bad input: both player1 and player2 must be one of:', \",\".join(allowed_strings))\n",
    "        return None\n",
    "\n",
    "    return get_winner(player1, player2)"
   ]
  },
  {
   "cell_type": "markdown",
   "metadata": {},
   "source": [
    "Take it for a test spin. Your function should work without needing to change anything in the code block below."
   ]
  },
  {
   "cell_type": "code",
   "execution_count": 43,
   "metadata": {
    "collapsed": true
   },
   "outputs": [
    {
     "output_type": "stream",
     "name": "stdout",
     "text": [
      "Bad input: both player1 and player2 must be one of: rock,paper,scissors\n"
     ]
    }
   ],
   "source": [
    "player1 = input(\"Player 1's move:\")\n",
    "player2 = input(\"Player 2's move:\")\n",
    "rps_scoring(player1,player2)"
   ]
  },
  {
   "cell_type": "markdown",
   "metadata": {},
   "source": [
    "### Tests"
   ]
  },
  {
   "cell_type": "code",
   "execution_count": 44,
   "metadata": {
    "collapsed": true
   },
   "outputs": [
    {
     "output_type": "execute_result",
     "data": {
      "text/plain": [
       "'player1'"
      ]
     },
     "metadata": {},
     "execution_count": 44
    }
   ],
   "source": [
    "rps_scoring(player1='scissors',player2='paper') # Player 1 should win"
   ]
  },
  {
   "cell_type": "code",
   "execution_count": 45,
   "metadata": {
    "collapsed": true
   },
   "outputs": [
    {
     "output_type": "execute_result",
     "data": {
      "text/plain": [
       "'tie'"
      ]
     },
     "metadata": {},
     "execution_count": 45
    }
   ],
   "source": [
    "rps_scoring(player1='paper',player2='paper') # There should be a tie"
   ]
  },
  {
   "cell_type": "code",
   "execution_count": 46,
   "metadata": {
    "collapsed": true
   },
   "outputs": [
    {
     "output_type": "stream",
     "name": "stdout",
     "text": [
      "Bad input: both player1 and player2 must be one of: rock,paper,scissors\n"
     ]
    }
   ],
   "source": [
    "rps_scoring(player1='lizard',player2='spock') # This shouldn't work"
   ]
  },
  {
   "cell_type": "code",
   "execution_count": 47,
   "metadata": {
    "collapsed": true
   },
   "outputs": [
    {
     "output_type": "execute_result",
     "data": {
      "text/plain": [
       "'player2'"
      ]
     },
     "metadata": {},
     "execution_count": 47
    }
   ],
   "source": [
    "rps_scoring(player1='Rock',player2='PAPER') # Should this work?"
   ]
  },
  {
   "cell_type": "markdown",
   "metadata": {},
   "source": [
    "# Problem 2"
   ]
  },
  {
   "cell_type": "markdown",
   "metadata": {},
   "source": [
    "\n",
    "![caption](OFTFRFBF.JPG)\n"
   ]
  },
  {
   "cell_type": "markdown",
   "metadata": {},
   "source": [
    "(you'll need to download the file OFTFRFBF.jpg to see the image above)\n",
    "\n",
    "Dr. Seuss's \"[One Fish, Two Fish, Red Fish, Blue Fish](https://en.wikipedia.org/wiki/One_Fish_Two_Fish_Red_Fish_Blue_Fish)\" describes fish having various attributes."
   ]
  },
  {
   "cell_type": "raw",
   "metadata": {},
   "source": [
    "\"One fish, Two fish, Red fish, Blue fish,\n",
    "Black fish, Blue fish, Old fish, New fish.\n",
    "This one has a little car.\n",
    "This one has a little star.\n",
    "Say! What a lot of fish there are.\n",
    "Yes. Some are red, and some are blue.\n",
    "Some are old and some are new.\n",
    "Some are sad, and some are glad,\n",
    "And some are very, very bad.\n",
    "Why are they sad and glad and bad?\n",
    "I do not know, go ask your dad.\n",
    "Some are thin, and some are fat.\n",
    "The fat one has a yellow hat.\n",
    "From there to here,\n",
    "From here to there,\n",
    "Funny things are everywhere.\n",
    "Here are some who like to run.\n",
    "They run for fun in the hot, hot sun.\n",
    "Oh me! Oh my! Oh me! oh my!\n",
    "What a lot of funny things go by.\n",
    "Some have two feet and some have four.\n",
    "Some have six feet and some have more.\n",
    "Where do they come from? I can't say.\n",
    "But I bet they have come a long, long way.\n",
    "we see them come, we see them go.\n",
    "Some are fast. Some are slow.\n",
    "Some are high. Some are low.\n",
    "Not one of them is like another.\n",
    "Don't ask us why, go ask your mother.\""
   ]
  },
  {
   "cell_type": "markdown",
   "metadata": {},
   "source": [
    "Implement a `Fish` class that can accomodate all the possible Fish attributes described in the story with corresponding methods seen in the test cases below. \n",
    "\n",
    "You will need to define and code this `Fish` class yourself using the test cases below to guide you.  You can add more attributes and methods as you see fit, but at a minimum you need to handle all of the test cases below.  (But like before in Homework 2, doing the minimum doesn't guarantee you an A.) You can \"do more\" by adding properties and methods to the Fish class. If you do provide additional attributes and methods over and beyond those suggested by the test cases, provide your own test cases to show how your attributes and methods work.\n",
    "\n",
    "Here is some code to get you started:"
   ]
  },
  {
   "cell_type": "code",
   "execution_count": 87,
   "metadata": {
    "collapsed": true
   },
   "outputs": [],
   "source": [
    "class Fish(object):\n",
    "    # define all the attributes necessary to tell Dr. Seuss's story.\n",
    "    def __init__(\n",
    "        self,\n",
    "        color: str,\n",
    "        car: bool,\n",
    "        star: bool,\n",
    "        new: bool,\n",
    "        sad: bool,\n",
    "        bad: bool,\n",
    "        glad: bool,\n",
    "        fat: bool,\n",
    "        yellowHat: bool,\n",
    "        feet: int,\n",
    "        old: bool,\n",
    "    ):\n",
    "        self.color = color\n",
    "        self.hasCar = car\n",
    "        self.hasStar = star\n",
    "        self.isNew = new\n",
    "        self.isSad = sad\n",
    "        self.isBad = bad\n",
    "        self.isGlad = glad\n",
    "        self.isFat = fat\n",
    "        self.hasYellowHat = yellowHat\n",
    "        self.feetCount = feet\n",
    "        self.isOld = old\n",
    "\n",
    "        # add additional attributes here\n",
    "        \n",
    "    def getColor(self):\n",
    "        return self.color\n",
    "\n",
    "    def setColor(self, color):\n",
    "        self.color = color\n",
    "\n",
    "        \n",
    "    def getHasCar(self):\n",
    "        return self.hasCar\n",
    "\n",
    "    def setHasCar(self, hasCar):\n",
    "        self.hasCar = hasCar\n",
    "\n",
    "        \n",
    "    def getHasStar(self):\n",
    "        return self.hasStar\n",
    "\n",
    "    def setHasStar(self, hasStar):\n",
    "        self.hasStar = hasStar\n",
    "\n",
    "        \n",
    "    def getIsNew(self):\n",
    "        return self.isNew\n",
    "\n",
    "    def setIsNew(self, isNew):\n",
    "        self.isNew = isNew\n",
    "\n",
    "        \n",
    "    def getIsSad(self):\n",
    "        return self.isSad\n",
    "\n",
    "    def setIsSad(self, isSad):\n",
    "        self.isSad = isSad\n",
    "\n",
    "        \n",
    "    def getIsBad(self):\n",
    "        return self.isBad\n",
    "\n",
    "    def setIsBad(self, isBad):\n",
    "        self.isBad = isBad\n",
    "\n",
    "        \n",
    "    def getIsGlad(self):\n",
    "        return self.isGlad\n",
    "\n",
    "    def setIsGlad(self, isGlad):\n",
    "        self.isGlad = isGlad\n",
    "\n",
    "        \n",
    "    def getIsFat(self):\n",
    "        return self.isFat\n",
    "\n",
    "    def setIsFat(self, isFat):\n",
    "        self.isFat = isFat\n",
    "\n",
    "        \n",
    "    def getHasYellowHat(self):\n",
    "        return self.hasYellowHat\n",
    "\n",
    "    def setHasYellowHat(self, hasYellowHat):\n",
    "        self.hasYellowHat = hasYellowHat\n",
    "\n",
    "        \n",
    "    def getFeetCount(self):\n",
    "        return self.feetCount\n",
    "\n",
    "    def setFeetCount(self, feetCount):\n",
    "        self.feetCount = feetCount\n",
    "\n",
    "\n",
    "    def getIsOld(self):\n",
    "        return self.isOld\n",
    "\n",
    "    def setIsOld(self, isold):\n",
    "        self.isOld = isOld"
   ]
  },
  {
   "cell_type": "markdown",
   "metadata": {},
   "source": [
    "### Some Tests"
   ]
  },
  {
   "cell_type": "code",
   "execution_count": 88,
   "metadata": {
    "collapsed": true
   },
   "outputs": [],
   "source": [
    "# Create at least 6 Fish objects: fish1, ... , fish6 with different attributes matching the story\n",
    "# hint: there aren't \"exact\" answers.  just use information from the story and be consistent.\n",
    "\n",
    "allFishList = [\n",
    "    Fish( # 1\n",
    "        color=\"red\",\n",
    "        car=False,\n",
    "        bad=False,\n",
    "        yellowHat=False,\n",
    "        star=True,\n",
    "        new=False,\n",
    "        sad=True,\n",
    "        glad=False,\n",
    "        fat=True,\n",
    "        feet=4,\n",
    "        old=False,\n",
    "    ),\n",
    "    Fish( # 2\n",
    "        color=\"green\",\n",
    "        car=True,\n",
    "        bad=False,\n",
    "        yellowHat=True,\n",
    "        star=True,\n",
    "        new=False,\n",
    "        sad=True,\n",
    "        glad=True,\n",
    "        fat=False,\n",
    "        feet=2,\n",
    "        old=True,\n",
    "    ),\n",
    "    Fish( # 3\n",
    "        color=\"orange\",\n",
    "        car=True,\n",
    "        bad=True,\n",
    "        yellowHat=False,\n",
    "        star=True,\n",
    "        new=False,\n",
    "        sad=False,\n",
    "        glad=True,\n",
    "        fat=False,\n",
    "        feet=99,\n",
    "        old=False,\n",
    "    ),\n",
    "    Fish( # 4\n",
    "        color=\"fuschia\",\n",
    "        car=False,\n",
    "        bad=False,\n",
    "        yellowHat=False,\n",
    "        star=False,\n",
    "        new=False,\n",
    "        sad=False,\n",
    "        glad=False,\n",
    "        fat=False,\n",
    "        feet=0,\n",
    "        old=False,\n",
    "    ),\n",
    "    Fish( # 5\n",
    "        color=\"#8939db\",\n",
    "        car=True,\n",
    "        bad=True,\n",
    "        yellowHat=True,\n",
    "        star=True,\n",
    "        new=True,\n",
    "        sad=True,\n",
    "        glad=True,\n",
    "        fat=True,\n",
    "        feet=33,\n",
    "        old=False,\n",
    "    ),\n",
    "    Fish( # 6\n",
    "        color=\"0\",\n",
    "        car=False,\n",
    "        bad=False,\n",
    "        yellowHat=False,\n",
    "        star=True,\n",
    "        new=True,\n",
    "        sad=False,\n",
    "        glad=True,\n",
    "        fat=True,\n",
    "        feet=1,\n",
    "        old=False,\n",
    "    ),\n",
    "]\n",
    "\n",
    "# Put all of your fish in an aquarium (make it a list) and call it allFishList\n"
   ]
  },
  {
   "cell_type": "code",
   "execution_count": 89,
   "metadata": {
    "collapsed": true
   },
   "outputs": [
    {
     "output_type": "stream",
     "name": "stdout",
     "text": [
      "red\n"
     ]
    }
   ],
   "source": [
    "# What color is the first fish?\n",
    "print(allFishList[0].getColor())"
   ]
  },
  {
   "cell_type": "code",
   "execution_count": 90,
   "metadata": {
    "collapsed": true
   },
   "outputs": [
    {
     "output_type": "stream",
     "name": "stdout",
     "text": [
      "True\n"
     ]
    }
   ],
   "source": [
    "# Does the second fish have a car?\n",
    "print(allFishList[1].getHasCar())\n"
   ]
  },
  {
   "cell_type": "code",
   "execution_count": 91,
   "metadata": {
    "collapsed": true
   },
   "outputs": [
    {
     "output_type": "stream",
     "name": "stdout",
     "text": [
      "True\n"
     ]
    }
   ],
   "source": [
    "# Does the third fish have a star?\n",
    "print(allFishList[2].getHasStar())\n"
   ]
  },
  {
   "cell_type": "code",
   "execution_count": 92,
   "metadata": {
    "collapsed": true
   },
   "outputs": [
    {
     "output_type": "stream",
     "name": "stdout",
     "text": [
      "False\n"
     ]
    }
   ],
   "source": [
    "# Is the fourth fish old?\n",
    "print(allFishList[3].getIsOld())\n"
   ]
  },
  {
   "cell_type": "code",
   "execution_count": 93,
   "metadata": {
    "collapsed": true
   },
   "outputs": [
    {
     "output_type": "stream",
     "name": "stdout",
     "text": [
      "True\n"
     ]
    }
   ],
   "source": [
    "# Is the fifth fish sad?\n",
    "print(allFishList[4].getIsSad())\n"
   ]
  },
  {
   "cell_type": "code",
   "execution_count": 94,
   "metadata": {
    "collapsed": true
   },
   "outputs": [
    {
     "output_type": "stream",
     "name": "stdout",
     "text": [
      "False\n"
     ]
    }
   ],
   "source": [
    "# Is the sixth fish bad?\n",
    "print(allFishList[5].getIsBad())\n"
   ]
  },
  {
   "cell_type": "code",
   "execution_count": 95,
   "metadata": {
    "collapsed": true
   },
   "outputs": [
    {
     "output_type": "execute_result",
     "data": {
      "text/plain": [
       "139"
      ]
     },
     "metadata": {},
     "execution_count": 95
    }
   ],
   "source": [
    "# How many feet are there among all the fish? \n",
    "sum([f.getFeetCount() for f in allFishList])"
   ]
  },
  {
   "cell_type": "code",
   "execution_count": 96,
   "metadata": {},
   "outputs": [
    {
     "output_type": "execute_result",
     "data": {
      "text/plain": [
       "2"
      ]
     },
     "metadata": {},
     "execution_count": 96
    }
   ],
   "source": [
    "# How many fish have yellow hats?\n",
    "sum([1 for f in allFishList if f.getHasYellowHat()])"
   ]
  }
 ],
 "metadata": {
  "kernelspec": {
   "name": "python3",
   "display_name": "Python 3.8.5 64-bit",
   "metadata": {
    "interpreter": {
     "hash": "31f2aee4e71d21fbe5cf8b01ff0e069b9275f58929596ceb00d14d90e3e16cd6"
    }
   }
  },
  "language_info": {
   "codemirror_mode": {
    "name": "ipython",
    "version": 3
   },
   "file_extension": ".py",
   "mimetype": "text/x-python",
   "name": "python",
   "nbconvert_exporter": "python",
   "pygments_lexer": "ipython3",
   "version": "3.8.5-final"
  }
 },
 "nbformat": 4,
 "nbformat_minor": 2
}