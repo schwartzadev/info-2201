{
 "cells": [
  {
   "cell_type": "code",
   "execution_count": 2,
   "metadata": {},
   "outputs": [],
   "source": [
    "# Problem 1a\n",
    "\n",
    "# Write a function that counts the number of vowels there are in a given list and output that number using\n",
    "# the following format:\n",
    "\n",
    "# There are X vowels in the list.\n",
    "\n",
    "# Where X is the number of vowels.  Use the following function definition:\n",
    "def countVowelsInList(listOfStrings):\n",
    "    # your code here"
   ]
  },
  {
   "cell_type": "code",
   "execution_count": 3,
   "metadata": {},
   "outputs": [
    {
     "name": "stdout",
     "output_type": "stream",
     "text": [
      "There are 7 vowels in the list.\n"
     ]
    }
   ],
   "source": [
    "# test case\n",
    "countVowelsInList([\"aaa\",\"qqq\",\"avbCDeEi\"])"
   ]
  },
  {
   "cell_type": "code",
   "execution_count": null,
   "metadata": {},
   "outputs": [],
   "source": [
    "# note: you can (and should!) create your own test cases to test your code"
   ]
  },
  {
   "cell_type": "code",
   "execution_count": 2,
   "metadata": {},
   "outputs": [],
   "source": [
    "# Problem 1b\n",
    "\n",
    "# Write a function that copies all four-letter strings from a list of strings into a new list, then print the\n",
    "# new list.  Use the following function definition:\n",
    "def copyFourLetterStrings(listOfStuff):\n",
    "    # your code here"
   ]
  },
  {
   "cell_type": "code",
   "execution_count": 3,
   "metadata": {},
   "outputs": [
    {
     "name": "stdout",
     "output_type": "stream",
     "text": [
      "['bear', 'cows', 'pigs']\n"
     ]
    }
   ],
   "source": [
    "# test case\n",
    "copyFourLetterStrings([\"bear\",\"sheep\",\"cow\",\"cows\",\"pigs\",\"piggies\"])"
   ]
  },
  {
   "cell_type": "code",
   "execution_count": 4,
   "metadata": {},
   "outputs": [],
   "source": [
    "# Problem 2\n",
    "#\n",
    "# Given a number of seconds between 0 and 86400 seconds, write a function that reports the equivalent number \n",
    "# of hours, minutes, and seconds.  for example, if the number of seconds is 14013, your function would print\n",
    "#\n",
    "# There are 3 hours, 53 minutes, and 33 seconds in 14013 seconds.\n",
    "#\n",
    "# If the given number of seconds is less than 0 or greater than 86400, your function should print\n",
    "#\n",
    "# Number of seconds given must be greater than or equal to 0 and less than or equal to 86400.\n",
    "#\n",
    "# Use the following function header:\n",
    "def printNumHoursMinutesSeconds(numSeconds):\n",
    "    # your code here"
   ]
  },
  {
   "cell_type": "code",
   "execution_count": 2,
   "metadata": {},
   "outputs": [
    {
     "name": "stdout",
     "output_type": "stream",
     "text": [
      "There are 3 hours, 53 minutes, and 33 seconds in 14013 seconds.\n"
     ]
    }
   ],
   "source": [
    "# test case\n",
    "printNumHoursMinutesSeconds(14013)"
   ]
  },
  {
   "cell_type": "code",
   "execution_count": 3,
   "metadata": {},
   "outputs": [
    {
     "name": "stdout",
     "output_type": "stream",
     "text": [
      "There are 24 hours, 0 minutes, and 0 seconds in 86400 seconds.\n"
     ]
    }
   ],
   "source": [
    "# test case\n",
    "printNumHoursMinutesSeconds(86400)"
   ]
  },
  {
   "cell_type": "code",
   "execution_count": 5,
   "metadata": {},
   "outputs": [
    {
     "name": "stdout",
     "output_type": "stream",
     "text": [
      "Number of seconds given must be greater than or equal to 0 and less than or equal to 86400.\n"
     ]
    }
   ],
   "source": [
    "# test case\n",
    "printNumHoursMinutesSeconds(86401)"
   ]
  },
  {
   "cell_type": "code",
   "execution_count": 7,
   "metadata": {},
   "outputs": [],
   "source": [
    "# Problem 3\n",
    "# Given a csv file where the columns are \n",
    "#\n",
    "# Pedal Name, Pedal Type, Manufacturer\n",
    "#\n",
    "# write a function that creates a dictionary where the key is pedal type and the value is the number\n",
    "# of those pedals in the csv file. This function should print the dictionary after reading the contents\n",
    "# of the entire file.  Use the following function header:\n",
    "import csv\n",
    "def countPedalTypes(fileName):\n",
    "# where fileName is the name of the csv file\n",
    "    "
   ]
  },
  {
   "cell_type": "code",
   "execution_count": 8,
   "metadata": {},
   "outputs": [
    {
     "name": "stdout",
     "output_type": "stream",
     "text": [
      "{'Fuzzstortion': 1, 'Fuzz': 4, 'Glitch Engine': 1, 'Passive Octave Up': 1, 'Phaser': 2, 'Tremolo': 1, 'Digital Delay': 1, 'Sound Retainer': 1, 'Looper': 1, 'Glitch Delay': 1, 'Modulated Monophonic Harmonizing PLL': 1}\n"
     ]
    }
   ],
   "source": [
    "countPedalTypes(\"pedals.csv\")"
   ]
  }
 ],
 "metadata": {
  "kernelspec": {
   "display_name": "Python 3",
   "language": "python",
   "name": "python3"
  },
  "language_info": {
   "codemirror_mode": {
    "name": "ipython",
    "version": 3
   },
   "file_extension": ".py",
   "mimetype": "text/x-python",
   "name": "python",
   "nbconvert_exporter": "python",
   "pygments_lexer": "ipython3",
   "version": "3.8.2"
  }
 },
 "nbformat": 4,
 "nbformat_minor": 2
}
