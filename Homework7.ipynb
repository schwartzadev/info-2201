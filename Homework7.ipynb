{
 "cells": [
  {
   "cell_type": "code",
   "execution_count": 14,
   "metadata": {},
   "outputs": [],
   "source": [
    "# homework 7\n",
    "import pandas as pd\n",
    "\n",
    "df = pd.read_csv('Batting.csv')"
   ]
  },
  {
   "cell_type": "code",
   "execution_count": 15,
   "metadata": {},
   "outputs": [
    {
     "output_type": "execute_result",
     "data": {
      "text/plain": [
       "        playerID  HR\n",
       "80752  bondsba01  73\n",
       "77389  mcgwima01  70\n",
       "77736   sosasa01  66\n",
       "78705  mcgwima01  65\n",
       "81770   sosasa01  64\n",
       "79053   sosasa01  63\n",
       "41661  marisro01  61\n",
       "22256   ruthba01  60\n",
       "19039   ruthba01  59\n",
       "24639   foxxji01  58\n",
       "87887  howarry01  58\n",
       "27752  greenha01  58\n",
       "81079  gonzalu01  57\n",
       "82996  rodrial01  57\n",
       "23965  wilsoha01  56\n",
       "77063  griffke02  56\n",
       "75819  griffke02  56\n",
       "34139  kinerra01  54\n",
       "41659  mantlmi01  54\n",
       "88231  ortizda01  54\n",
       "18519   ruthba01  54\n",
       "89768  rodrial01  54\n",
       "92915  bautijo02  54\n",
       "22786   ruthba01  54\n",
       "97312  davisch02  53"
      ],
      "text/html": "<div>\n<style scoped>\n    .dataframe tbody tr th:only-of-type {\n        vertical-align: middle;\n    }\n\n    .dataframe tbody tr th {\n        vertical-align: top;\n    }\n\n    .dataframe thead th {\n        text-align: right;\n    }\n</style>\n<table border=\"1\" class=\"dataframe\">\n  <thead>\n    <tr style=\"text-align: right;\">\n      <th></th>\n      <th>playerID</th>\n      <th>HR</th>\n    </tr>\n  </thead>\n  <tbody>\n    <tr>\n      <th>80752</th>\n      <td>bondsba01</td>\n      <td>73</td>\n    </tr>\n    <tr>\n      <th>77389</th>\n      <td>mcgwima01</td>\n      <td>70</td>\n    </tr>\n    <tr>\n      <th>77736</th>\n      <td>sosasa01</td>\n      <td>66</td>\n    </tr>\n    <tr>\n      <th>78705</th>\n      <td>mcgwima01</td>\n      <td>65</td>\n    </tr>\n    <tr>\n      <th>81770</th>\n      <td>sosasa01</td>\n      <td>64</td>\n    </tr>\n    <tr>\n      <th>79053</th>\n      <td>sosasa01</td>\n      <td>63</td>\n    </tr>\n    <tr>\n      <th>41661</th>\n      <td>marisro01</td>\n      <td>61</td>\n    </tr>\n    <tr>\n      <th>22256</th>\n      <td>ruthba01</td>\n      <td>60</td>\n    </tr>\n    <tr>\n      <th>19039</th>\n      <td>ruthba01</td>\n      <td>59</td>\n    </tr>\n    <tr>\n      <th>24639</th>\n      <td>foxxji01</td>\n      <td>58</td>\n    </tr>\n    <tr>\n      <th>87887</th>\n      <td>howarry01</td>\n      <td>58</td>\n    </tr>\n    <tr>\n      <th>27752</th>\n      <td>greenha01</td>\n      <td>58</td>\n    </tr>\n    <tr>\n      <th>81079</th>\n      <td>gonzalu01</td>\n      <td>57</td>\n    </tr>\n    <tr>\n      <th>82996</th>\n      <td>rodrial01</td>\n      <td>57</td>\n    </tr>\n    <tr>\n      <th>23965</th>\n      <td>wilsoha01</td>\n      <td>56</td>\n    </tr>\n    <tr>\n      <th>77063</th>\n      <td>griffke02</td>\n      <td>56</td>\n    </tr>\n    <tr>\n      <th>75819</th>\n      <td>griffke02</td>\n      <td>56</td>\n    </tr>\n    <tr>\n      <th>34139</th>\n      <td>kinerra01</td>\n      <td>54</td>\n    </tr>\n    <tr>\n      <th>41659</th>\n      <td>mantlmi01</td>\n      <td>54</td>\n    </tr>\n    <tr>\n      <th>88231</th>\n      <td>ortizda01</td>\n      <td>54</td>\n    </tr>\n    <tr>\n      <th>18519</th>\n      <td>ruthba01</td>\n      <td>54</td>\n    </tr>\n    <tr>\n      <th>89768</th>\n      <td>rodrial01</td>\n      <td>54</td>\n    </tr>\n    <tr>\n      <th>92915</th>\n      <td>bautijo02</td>\n      <td>54</td>\n    </tr>\n    <tr>\n      <th>22786</th>\n      <td>ruthba01</td>\n      <td>54</td>\n    </tr>\n    <tr>\n      <th>97312</th>\n      <td>davisch02</td>\n      <td>53</td>\n    </tr>\n  </tbody>\n</table>\n</div>"
     },
     "metadata": {},
     "execution_count": 15
    }
   ],
   "source": [
    "# problem 1\n",
    "# using the battingDF, which players have the most homeruns (HR)\n",
    "# in a season?  display the top 25.\n",
    "\n",
    "df.sort_values(by=['HR'], ascending=False)[['playerID', 'HR']][:25]\n"
   ]
  },
  {
   "cell_type": "code",
   "execution_count": 16,
   "metadata": {},
   "outputs": [
    {
     "output_type": "execute_result",
     "data": {
      "text/plain": [
       "        playerID   HBP\n",
       "6801   jennihu01  51.0\n",
       "49476   huntro01  50.0\n",
       "7384   jennihu01  46.0\n",
       "7090   jennihu01  46.0\n",
       "7433   mcganda01  39.0\n",
       "5444   welchcu01  36.0\n",
       "63287  baylodo01  35.0\n",
       "75494  biggicr01  34.0\n",
       "4451   tucketo01  33.0\n",
       "5024   welchcu01  32.0"
      ],
      "text/html": "<div>\n<style scoped>\n    .dataframe tbody tr th:only-of-type {\n        vertical-align: middle;\n    }\n\n    .dataframe tbody tr th {\n        vertical-align: top;\n    }\n\n    .dataframe thead th {\n        text-align: right;\n    }\n</style>\n<table border=\"1\" class=\"dataframe\">\n  <thead>\n    <tr style=\"text-align: right;\">\n      <th></th>\n      <th>playerID</th>\n      <th>HBP</th>\n    </tr>\n  </thead>\n  <tbody>\n    <tr>\n      <th>6801</th>\n      <td>jennihu01</td>\n      <td>51.0</td>\n    </tr>\n    <tr>\n      <th>49476</th>\n      <td>huntro01</td>\n      <td>50.0</td>\n    </tr>\n    <tr>\n      <th>7384</th>\n      <td>jennihu01</td>\n      <td>46.0</td>\n    </tr>\n    <tr>\n      <th>7090</th>\n      <td>jennihu01</td>\n      <td>46.0</td>\n    </tr>\n    <tr>\n      <th>7433</th>\n      <td>mcganda01</td>\n      <td>39.0</td>\n    </tr>\n    <tr>\n      <th>5444</th>\n      <td>welchcu01</td>\n      <td>36.0</td>\n    </tr>\n    <tr>\n      <th>63287</th>\n      <td>baylodo01</td>\n      <td>35.0</td>\n    </tr>\n    <tr>\n      <th>75494</th>\n      <td>biggicr01</td>\n      <td>34.0</td>\n    </tr>\n    <tr>\n      <th>4451</th>\n      <td>tucketo01</td>\n      <td>33.0</td>\n    </tr>\n    <tr>\n      <th>5024</th>\n      <td>welchcu01</td>\n      <td>32.0</td>\n    </tr>\n  </tbody>\n</table>\n</div>"
     },
     "metadata": {},
     "execution_count": 16
    }
   ],
   "source": [
    "# which players have had the most hit-by-pitches (HBP) in a season?  \n",
    "# display the top 10.\n",
    "\n",
    "df.sort_values(by=['HBP'], ascending=False)[['playerID', 'HBP']][:10]\n"
   ]
  },
  {
   "cell_type": "code",
   "execution_count": 17,
   "metadata": {},
   "outputs": [
    {
     "output_type": "execute_result",
     "data": {
      "text/plain": [
       "        playerID  GIDP\n",
       "61973   riceji01  36.0\n",
       "62971   riceji01  35.0\n",
       "62975  ripkeca01  32.0\n",
       "37094  jenseja01  32.0\n",
       "93017  butlebi03  32.0\n",
       "79710  grievbe01  32.0\n",
       "91315  tejadmi01  32.0\n",
       "60272  armasto01  31.0\n",
       "97604  hollima01  31.0\n",
       "99248  mcgehca01  31.0"
      ],
      "text/html": "<div>\n<style scoped>\n    .dataframe tbody tr th:only-of-type {\n        vertical-align: middle;\n    }\n\n    .dataframe tbody tr th {\n        vertical-align: top;\n    }\n\n    .dataframe thead th {\n        text-align: right;\n    }\n</style>\n<table border=\"1\" class=\"dataframe\">\n  <thead>\n    <tr style=\"text-align: right;\">\n      <th></th>\n      <th>playerID</th>\n      <th>GIDP</th>\n    </tr>\n  </thead>\n  <tbody>\n    <tr>\n      <th>61973</th>\n      <td>riceji01</td>\n      <td>36.0</td>\n    </tr>\n    <tr>\n      <th>62971</th>\n      <td>riceji01</td>\n      <td>35.0</td>\n    </tr>\n    <tr>\n      <th>62975</th>\n      <td>ripkeca01</td>\n      <td>32.0</td>\n    </tr>\n    <tr>\n      <th>37094</th>\n      <td>jenseja01</td>\n      <td>32.0</td>\n    </tr>\n    <tr>\n      <th>93017</th>\n      <td>butlebi03</td>\n      <td>32.0</td>\n    </tr>\n    <tr>\n      <th>79710</th>\n      <td>grievbe01</td>\n      <td>32.0</td>\n    </tr>\n    <tr>\n      <th>91315</th>\n      <td>tejadmi01</td>\n      <td>32.0</td>\n    </tr>\n    <tr>\n      <th>60272</th>\n      <td>armasto01</td>\n      <td>31.0</td>\n    </tr>\n    <tr>\n      <th>97604</th>\n      <td>hollima01</td>\n      <td>31.0</td>\n    </tr>\n    <tr>\n      <th>99248</th>\n      <td>mcgehca01</td>\n      <td>31.0</td>\n    </tr>\n  </tbody>\n</table>\n</div>"
     },
     "metadata": {},
     "execution_count": 17
    }
   ],
   "source": [
    "# which players have grounded into double plays (GIDP) the most\n",
    "# in a season? display the top 10.\n",
    "\n",
    "df.sort_values(by=['GIDP'], ascending=False)[['playerID', 'GIDP']][:10]\n"
   ]
  },
  {
   "cell_type": "code",
   "execution_count": 39,
   "metadata": {},
   "outputs": [
    {
     "output_type": "execute_result",
     "data": {
      "text/plain": [
       "12    D   N\n",
       "3          \n",
       "ANA  27  54\n",
       "ARI  29  52\n",
       "ATL  24  56\n",
       "BAL  25  56\n",
       "BOS  26  55\n",
       "CHA  28  53\n",
       "CHN  28  53\n",
       "CIN  24  57\n",
       "CLE  29  51\n",
       "COL  25  56\n",
       "DET  27  54\n",
       "HOU  29  52\n",
       "KCA  21  60\n",
       "LAN  25  56\n",
       "MIA  24  57\n",
       "MIL  29  52\n",
       "MIN  26  55\n",
       "NYA  21  60\n",
       "NYN  24  57\n",
       "OAK  23  58\n",
       "PHI  29  52\n",
       "PIT  26  55\n",
       "SDN  30  51\n",
       "SEA  30  51\n",
       "SFN  27  54\n",
       "SLN  24  57\n",
       "TBA  28  53\n",
       "TEX  27  54\n",
       "TOR  30  51\n",
       "WAS  25  56"
      ],
      "text/html": "<div>\n<style scoped>\n    .dataframe tbody tr th:only-of-type {\n        vertical-align: middle;\n    }\n\n    .dataframe tbody tr th {\n        vertical-align: top;\n    }\n\n    .dataframe thead th {\n        text-align: right;\n    }\n</style>\n<table border=\"1\" class=\"dataframe\">\n  <thead>\n    <tr style=\"text-align: right;\">\n      <th>12</th>\n      <th>D</th>\n      <th>N</th>\n    </tr>\n    <tr>\n      <th>3</th>\n      <th></th>\n      <th></th>\n    </tr>\n  </thead>\n  <tbody>\n    <tr>\n      <th>ANA</th>\n      <td>27</td>\n      <td>54</td>\n    </tr>\n    <tr>\n      <th>ARI</th>\n      <td>29</td>\n      <td>52</td>\n    </tr>\n    <tr>\n      <th>ATL</th>\n      <td>24</td>\n      <td>56</td>\n    </tr>\n    <tr>\n      <th>BAL</th>\n      <td>25</td>\n      <td>56</td>\n    </tr>\n    <tr>\n      <th>BOS</th>\n      <td>26</td>\n      <td>55</td>\n    </tr>\n    <tr>\n      <th>CHA</th>\n      <td>28</td>\n      <td>53</td>\n    </tr>\n    <tr>\n      <th>CHN</th>\n      <td>28</td>\n      <td>53</td>\n    </tr>\n    <tr>\n      <th>CIN</th>\n      <td>24</td>\n      <td>57</td>\n    </tr>\n    <tr>\n      <th>CLE</th>\n      <td>29</td>\n      <td>51</td>\n    </tr>\n    <tr>\n      <th>COL</th>\n      <td>25</td>\n      <td>56</td>\n    </tr>\n    <tr>\n      <th>DET</th>\n      <td>27</td>\n      <td>54</td>\n    </tr>\n    <tr>\n      <th>HOU</th>\n      <td>29</td>\n      <td>52</td>\n    </tr>\n    <tr>\n      <th>KCA</th>\n      <td>21</td>\n      <td>60</td>\n    </tr>\n    <tr>\n      <th>LAN</th>\n      <td>25</td>\n      <td>56</td>\n    </tr>\n    <tr>\n      <th>MIA</th>\n      <td>24</td>\n      <td>57</td>\n    </tr>\n    <tr>\n      <th>MIL</th>\n      <td>29</td>\n      <td>52</td>\n    </tr>\n    <tr>\n      <th>MIN</th>\n      <td>26</td>\n      <td>55</td>\n    </tr>\n    <tr>\n      <th>NYA</th>\n      <td>21</td>\n      <td>60</td>\n    </tr>\n    <tr>\n      <th>NYN</th>\n      <td>24</td>\n      <td>57</td>\n    </tr>\n    <tr>\n      <th>OAK</th>\n      <td>23</td>\n      <td>58</td>\n    </tr>\n    <tr>\n      <th>PHI</th>\n      <td>29</td>\n      <td>52</td>\n    </tr>\n    <tr>\n      <th>PIT</th>\n      <td>26</td>\n      <td>55</td>\n    </tr>\n    <tr>\n      <th>SDN</th>\n      <td>30</td>\n      <td>51</td>\n    </tr>\n    <tr>\n      <th>SEA</th>\n      <td>30</td>\n      <td>51</td>\n    </tr>\n    <tr>\n      <th>SFN</th>\n      <td>27</td>\n      <td>54</td>\n    </tr>\n    <tr>\n      <th>SLN</th>\n      <td>24</td>\n      <td>57</td>\n    </tr>\n    <tr>\n      <th>TBA</th>\n      <td>28</td>\n      <td>53</td>\n    </tr>\n    <tr>\n      <th>TEX</th>\n      <td>27</td>\n      <td>54</td>\n    </tr>\n    <tr>\n      <th>TOR</th>\n      <td>30</td>\n      <td>51</td>\n    </tr>\n    <tr>\n      <th>WAS</th>\n      <td>25</td>\n      <td>56</td>\n    </tr>\n  </tbody>\n</table>\n</div>"
     },
     "metadata": {},
     "execution_count": 39
    }
   ],
   "source": [
    "# problem 2 (crosstabs)\n",
    "# using the gamelogsDF, make a crosstab that calculates \n",
    "# the number of games each home team has played by time of day\n",
    "\n",
    "df = pd.read_csv('GameLogs.txt', header=None)\n",
    "\n",
    "pd.crosstab(df[3],df[12])"
   ]
  },
  {
   "cell_type": "code",
   "execution_count": 47,
   "metadata": {},
   "outputs": [
    {
     "output_type": "execute_result",
     "data": {
      "text/plain": [
       "12              D             N\n",
       "3                              \n",
       "ANA  26451.296296  29788.592593\n",
       "ARI  35237.034483  31287.807692\n",
       "ATL  29294.125000  27483.428571\n",
       "BAL  32449.600000  31505.553571\n",
       "BOS  37515.346154  29820.454545\n",
       "CHA  31146.750000  26626.245283\n",
       "CHN  37288.964286  33870.716981\n",
       "CIN  33152.000000  31366.403509\n",
       "CLE  30024.931034  24658.823529\n",
       "COL  31003.520000  31672.785714\n",
       "DET  29163.407407  27889.129630\n",
       "HOU  29778.310345  27072.365385\n",
       "KCA  27076.428571  28295.950000\n",
       "LAN  34603.600000  32225.196429\n",
       "MIA  29914.250000  27918.736842\n",
       "MIL  33445.620690  29565.115385\n",
       "MIN  29717.692308  26241.600000\n",
       "NYA  33211.523810  30145.900000\n",
       "NYN  28293.625000  31303.508772\n",
       "OAK  30703.782609  29039.000000\n",
       "PHI  33039.000000  29525.903846\n",
       "PIT  34758.692308  27761.090909\n",
       "SDN  33668.233333  32364.941176\n",
       "SEA  30585.500000  26970.039216\n",
       "SFN  31068.481481  32712.092593\n",
       "SLN  31739.625000  30274.543860\n",
       "TBA  32864.071429  28625.471698\n",
       "TEX  30095.555556  26293.555556\n",
       "TOR  32645.633333  28547.529412\n",
       "WAS  33112.200000  28124.696429"
      ],
      "text/html": "<div>\n<style scoped>\n    .dataframe tbody tr th:only-of-type {\n        vertical-align: middle;\n    }\n\n    .dataframe tbody tr th {\n        vertical-align: top;\n    }\n\n    .dataframe thead th {\n        text-align: right;\n    }\n</style>\n<table border=\"1\" class=\"dataframe\">\n  <thead>\n    <tr style=\"text-align: right;\">\n      <th>12</th>\n      <th>D</th>\n      <th>N</th>\n    </tr>\n    <tr>\n      <th>3</th>\n      <th></th>\n      <th></th>\n    </tr>\n  </thead>\n  <tbody>\n    <tr>\n      <th>ANA</th>\n      <td>26451.296296</td>\n      <td>29788.592593</td>\n    </tr>\n    <tr>\n      <th>ARI</th>\n      <td>35237.034483</td>\n      <td>31287.807692</td>\n    </tr>\n    <tr>\n      <th>ATL</th>\n      <td>29294.125000</td>\n      <td>27483.428571</td>\n    </tr>\n    <tr>\n      <th>BAL</th>\n      <td>32449.600000</td>\n      <td>31505.553571</td>\n    </tr>\n    <tr>\n      <th>BOS</th>\n      <td>37515.346154</td>\n      <td>29820.454545</td>\n    </tr>\n    <tr>\n      <th>CHA</th>\n      <td>31146.750000</td>\n      <td>26626.245283</td>\n    </tr>\n    <tr>\n      <th>CHN</th>\n      <td>37288.964286</td>\n      <td>33870.716981</td>\n    </tr>\n    <tr>\n      <th>CIN</th>\n      <td>33152.000000</td>\n      <td>31366.403509</td>\n    </tr>\n    <tr>\n      <th>CLE</th>\n      <td>30024.931034</td>\n      <td>24658.823529</td>\n    </tr>\n    <tr>\n      <th>COL</th>\n      <td>31003.520000</td>\n      <td>31672.785714</td>\n    </tr>\n    <tr>\n      <th>DET</th>\n      <td>29163.407407</td>\n      <td>27889.129630</td>\n    </tr>\n    <tr>\n      <th>HOU</th>\n      <td>29778.310345</td>\n      <td>27072.365385</td>\n    </tr>\n    <tr>\n      <th>KCA</th>\n      <td>27076.428571</td>\n      <td>28295.950000</td>\n    </tr>\n    <tr>\n      <th>LAN</th>\n      <td>34603.600000</td>\n      <td>32225.196429</td>\n    </tr>\n    <tr>\n      <th>MIA</th>\n      <td>29914.250000</td>\n      <td>27918.736842</td>\n    </tr>\n    <tr>\n      <th>MIL</th>\n      <td>33445.620690</td>\n      <td>29565.115385</td>\n    </tr>\n    <tr>\n      <th>MIN</th>\n      <td>29717.692308</td>\n      <td>26241.600000</td>\n    </tr>\n    <tr>\n      <th>NYA</th>\n      <td>33211.523810</td>\n      <td>30145.900000</td>\n    </tr>\n    <tr>\n      <th>NYN</th>\n      <td>28293.625000</td>\n      <td>31303.508772</td>\n    </tr>\n    <tr>\n      <th>OAK</th>\n      <td>30703.782609</td>\n      <td>29039.000000</td>\n    </tr>\n    <tr>\n      <th>PHI</th>\n      <td>33039.000000</td>\n      <td>29525.903846</td>\n    </tr>\n    <tr>\n      <th>PIT</th>\n      <td>34758.692308</td>\n      <td>27761.090909</td>\n    </tr>\n    <tr>\n      <th>SDN</th>\n      <td>33668.233333</td>\n      <td>32364.941176</td>\n    </tr>\n    <tr>\n      <th>SEA</th>\n      <td>30585.500000</td>\n      <td>26970.039216</td>\n    </tr>\n    <tr>\n      <th>SFN</th>\n      <td>31068.481481</td>\n      <td>32712.092593</td>\n    </tr>\n    <tr>\n      <th>SLN</th>\n      <td>31739.625000</td>\n      <td>30274.543860</td>\n    </tr>\n    <tr>\n      <th>TBA</th>\n      <td>32864.071429</td>\n      <td>28625.471698</td>\n    </tr>\n    <tr>\n      <th>TEX</th>\n      <td>30095.555556</td>\n      <td>26293.555556</td>\n    </tr>\n    <tr>\n      <th>TOR</th>\n      <td>32645.633333</td>\n      <td>28547.529412</td>\n    </tr>\n    <tr>\n      <th>WAS</th>\n      <td>33112.200000</td>\n      <td>28124.696429</td>\n    </tr>\n  </tbody>\n</table>\n</div>"
     },
     "metadata": {},
     "execution_count": 47
    }
   ],
   "source": [
    "# make a crosstab that calculates the average attendance by\n",
    "# home team and time of day. you'll need to use the\n",
    "# \"values\" and \"aggfunc\" options as we did in class.\n",
    "\n",
    "pd.crosstab(df[3],df[12], aggfunc='mean', values=df[17])\n"
   ]
  },
  {
   "cell_type": "code",
   "execution_count": 57,
   "metadata": {},
   "outputs": [
    {
     "output_type": "display_data",
     "data": {
      "text/plain": "<Figure size 432x288 with 1 Axes>",
      "image/svg+xml": "<?xml version=\"1.0\" encoding=\"utf-8\" standalone=\"no\"?>\n<!DOCTYPE svg PUBLIC \"-//W3C//DTD SVG 1.1//EN\"\n  \"http://www.w3.org/Graphics/SVG/1.1/DTD/svg11.dtd\">\n<!-- Created with matplotlib (https://matplotlib.org/) -->\n<svg height=\"248.518125pt\" version=\"1.1\" viewBox=\"0 0 388.0125 248.518125\" width=\"388.0125pt\" xmlns=\"http://www.w3.org/2000/svg\" xmlns:xlink=\"http://www.w3.org/1999/xlink\">\n <metadata>\n  <rdf:RDF xmlns:cc=\"http://creativecommons.org/ns#\" xmlns:dc=\"http://purl.org/dc/elements/1.1/\" xmlns:rdf=\"http://www.w3.org/1999/02/22-rdf-syntax-ns#\">\n   <cc:Work>\n    <dc:type rdf:resource=\"http://purl.org/dc/dcmitype/StillImage\"/>\n    <dc:date>2021-04-22T15:03:51.051646</dc:date>\n    <dc:format>image/svg+xml</dc:format>\n    <dc:creator>\n     <cc:Agent>\n      <dc:title>Matplotlib v3.3.1, https://matplotlib.org/</dc:title>\n     </cc:Agent>\n    </dc:creator>\n   </cc:Work>\n  </rdf:RDF>\n </metadata>\n <defs>\n  <style type=\"text/css\">*{stroke-linecap:butt;stroke-linejoin:round;}</style>\n </defs>\n <g id=\"figure_1\">\n  <g id=\"patch_1\">\n   <path d=\"M 0 248.518125 \nL 388.0125 248.518125 \nL 388.0125 0 \nL 0 0 \nz\n\" style=\"fill:none;\"/>\n  </g>\n  <g id=\"axes_1\">\n   <g id=\"patch_2\">\n    <path d=\"M 46.0125 224.64 \nL 380.8125 224.64 \nL 380.8125 7.2 \nL 46.0125 7.2 \nz\n\" style=\"fill:#ffffff;\"/>\n   </g>\n   <g id=\"patch_3\">\n    <path clip-path=\"url(#pb01c01ffb7)\" d=\"M 61.230682 224.64 \nL 67.317955 224.64 \nL 67.317955 17.554286 \nL 61.230682 17.554286 \nz\n\" style=\"fill:#1f77b4;\"/>\n   </g>\n   <g id=\"patch_4\">\n    <path clip-path=\"url(#pb01c01ffb7)\" d=\"M 67.317955 224.64 \nL 73.405227 224.64 \nL 73.405227 209.06986 \nL 67.317955 209.06986 \nz\n\" style=\"fill:#1f77b4;\"/>\n   </g>\n   <g id=\"patch_5\">\n    <path clip-path=\"url(#pb01c01ffb7)\" d=\"M 73.405227 224.64 \nL 79.4925 224.64 \nL 79.4925 206.083922 \nL 73.405227 206.083922 \nz\n\" style=\"fill:#1f77b4;\"/>\n   </g>\n   <g id=\"patch_6\">\n    <path clip-path=\"url(#pb01c01ffb7)\" d=\"M 79.4925 224.64 \nL 85.579773 224.64 \nL 85.579773 218.420483 \nL 79.4925 218.420483 \nz\n\" style=\"fill:#1f77b4;\"/>\n   </g>\n   <g id=\"patch_7\">\n    <path clip-path=\"url(#pb01c01ffb7)\" d=\"M 85.579773 224.64 \nL 91.667045 224.64 \nL 91.667045 215.195443 \nL 85.579773 215.195443 \nz\n\" style=\"fill:#1f77b4;\"/>\n   </g>\n   <g id=\"patch_8\">\n    <path clip-path=\"url(#pb01c01ffb7)\" d=\"M 91.667045 224.64 \nL 97.754318 224.64 \nL 97.754318 220.905443 \nL 91.667045 220.905443 \nz\n\" style=\"fill:#1f77b4;\"/>\n   </g>\n   <g id=\"patch_9\">\n    <path clip-path=\"url(#pb01c01ffb7)\" d=\"M 97.754318 224.64 \nL 103.841591 224.64 \nL 103.841591 218.770598 \nL 97.754318 218.770598 \nz\n\" style=\"fill:#1f77b4;\"/>\n   </g>\n   <g id=\"patch_10\">\n    <path clip-path=\"url(#pb01c01ffb7)\" d=\"M 103.841591 224.64 \nL 109.928864 224.64 \nL 109.928864 222.226201 \nL 103.841591 222.226201 \nz\n\" style=\"fill:#1f77b4;\"/>\n   </g>\n   <g id=\"patch_11\">\n    <path clip-path=\"url(#pb01c01ffb7)\" d=\"M 109.928864 224.64 \nL 116.016136 224.64 \nL 116.016136 220.301994 \nL 109.928864 220.301994 \nz\n\" style=\"fill:#1f77b4;\"/>\n   </g>\n   <g id=\"patch_12\">\n    <path clip-path=\"url(#pb01c01ffb7)\" d=\"M 116.016136 224.64 \nL 122.103409 224.64 \nL 122.103409 222.829651 \nL 116.016136 222.829651 \nz\n\" style=\"fill:#1f77b4;\"/>\n   </g>\n   <g id=\"patch_13\">\n    <path clip-path=\"url(#pb01c01ffb7)\" d=\"M 122.103409 224.64 \nL 128.190682 224.64 \nL 128.190682 221.488968 \nL 122.103409 221.488968 \nz\n\" style=\"fill:#1f77b4;\"/>\n   </g>\n   <g id=\"patch_14\">\n    <path clip-path=\"url(#pb01c01ffb7)\" d=\"M 128.190682 224.64 \nL 134.277955 224.64 \nL 134.277955 223.322089 \nL 128.190682 223.322089 \nz\n\" style=\"fill:#1f77b4;\"/>\n   </g>\n   <g id=\"patch_15\">\n    <path clip-path=\"url(#pb01c01ffb7)\" d=\"M 134.277955 224.64 \nL 140.365227 224.64 \nL 140.365227 223.361939 \nL 134.277955 223.361939 \nz\n\" style=\"fill:#1f77b4;\"/>\n   </g>\n   <g id=\"patch_16\">\n    <path clip-path=\"url(#pb01c01ffb7)\" d=\"M 140.365227 224.64 \nL 146.4525 224.64 \nL 146.4525 222.619013 \nL 140.365227 222.619013 \nz\n\" style=\"fill:#1f77b4;\"/>\n   </g>\n   <g id=\"patch_17\">\n    <path clip-path=\"url(#pb01c01ffb7)\" d=\"M 146.4525 224.64 \nL 152.539773 224.64 \nL 152.539773 223.655125 \nL 146.4525 223.655125 \nz\n\" style=\"fill:#1f77b4;\"/>\n   </g>\n   <g id=\"patch_18\">\n    <path clip-path=\"url(#pb01c01ffb7)\" d=\"M 152.539773 224.64 \nL 158.627045 224.64 \nL 158.627045 222.97482 \nL 152.539773 222.97482 \nz\n\" style=\"fill:#1f77b4;\"/>\n   </g>\n   <g id=\"patch_19\">\n    <path clip-path=\"url(#pb01c01ffb7)\" d=\"M 158.627045 224.64 \nL 164.714318 224.64 \nL 164.714318 223.894227 \nL 158.627045 223.894227 \nz\n\" style=\"fill:#1f77b4;\"/>\n   </g>\n   <g id=\"patch_20\">\n    <path clip-path=\"url(#pb01c01ffb7)\" d=\"M 164.714318 224.64 \nL 170.801591 224.64 \nL 170.801591 223.339167 \nL 164.714318 223.339167 \nz\n\" style=\"fill:#1f77b4;\"/>\n   </g>\n   <g id=\"patch_21\">\n    <path clip-path=\"url(#pb01c01ffb7)\" d=\"M 170.801591 224.64 \nL 176.888864 224.64 \nL 176.888864 223.991007 \nL 170.801591 223.991007 \nz\n\" style=\"fill:#1f77b4;\"/>\n   </g>\n   <g id=\"patch_22\">\n    <path clip-path=\"url(#pb01c01ffb7)\" d=\"M 176.888864 224.64 \nL 182.976136 224.64 \nL 182.976136 223.712054 \nL 176.888864 223.712054 \nz\n\" style=\"fill:#1f77b4;\"/>\n   </g>\n   <g id=\"patch_23\">\n    <path clip-path=\"url(#pb01c01ffb7)\" d=\"M 182.976136 224.64 \nL 189.063409 224.64 \nL 189.063409 224.264267 \nL 182.976136 224.264267 \nz\n\" style=\"fill:#1f77b4;\"/>\n   </g>\n   <g id=\"patch_24\">\n    <path clip-path=\"url(#pb01c01ffb7)\" d=\"M 189.063409 224.64 \nL 195.150682 224.64 \nL 195.150682 223.857223 \nL 189.063409 223.857223 \nz\n\" style=\"fill:#1f77b4;\"/>\n   </g>\n   <g id=\"patch_25\">\n    <path clip-path=\"url(#pb01c01ffb7)\" d=\"M 195.150682 224.64 \nL 201.237955 224.64 \nL 201.237955 224.349661 \nL 195.150682 224.349661 \nz\n\" style=\"fill:#1f77b4;\"/>\n   </g>\n   <g id=\"patch_26\">\n    <path clip-path=\"url(#pb01c01ffb7)\" d=\"M 201.237955 224.64 \nL 207.325227 224.64 \nL 207.325227 224.124791 \nL 201.237955 224.124791 \nz\n\" style=\"fill:#1f77b4;\"/>\n   </g>\n   <g id=\"patch_27\">\n    <path clip-path=\"url(#pb01c01ffb7)\" d=\"M 207.325227 224.64 \nL 213.4125 224.64 \nL 213.4125 224.443594 \nL 207.325227 224.443594 \nz\n\" style=\"fill:#1f77b4;\"/>\n   </g>\n   <g id=\"patch_28\">\n    <path clip-path=\"url(#pb01c01ffb7)\" d=\"M 213.4125 224.64 \nL 219.499773 224.64 \nL 219.499773 224.466366 \nL 213.4125 224.466366 \nz\n\" style=\"fill:#1f77b4;\"/>\n   </g>\n   <g id=\"patch_29\">\n    <path clip-path=\"url(#pb01c01ffb7)\" d=\"M 219.499773 224.64 \nL 225.587045 224.64 \nL 225.587045 224.324043 \nL 219.499773 224.324043 \nz\n\" style=\"fill:#1f77b4;\"/>\n   </g>\n   <g id=\"patch_30\">\n    <path clip-path=\"url(#pb01c01ffb7)\" d=\"M 225.587045 224.64 \nL 231.674318 224.64 \nL 231.674318 224.486291 \nL 225.587045 224.486291 \nz\n\" style=\"fill:#1f77b4;\"/>\n   </g>\n   <g id=\"patch_31\">\n    <path clip-path=\"url(#pb01c01ffb7)\" d=\"M 231.674318 224.64 \nL 237.761591 224.64 \nL 237.761591 224.40659 \nL 231.674318 224.40659 \nz\n\" style=\"fill:#1f77b4;\"/>\n   </g>\n   <g id=\"patch_32\">\n    <path clip-path=\"url(#pb01c01ffb7)\" d=\"M 237.761591 224.64 \nL 243.848864 224.64 \nL 243.848864 224.571685 \nL 237.761591 224.571685 \nz\n\" style=\"fill:#1f77b4;\"/>\n   </g>\n   <g id=\"patch_33\">\n    <path clip-path=\"url(#pb01c01ffb7)\" d=\"M 243.848864 224.64 \nL 249.936136 224.64 \nL 249.936136 224.500523 \nL 243.848864 224.500523 \nz\n\" style=\"fill:#1f77b4;\"/>\n   </g>\n   <g id=\"patch_34\">\n    <path clip-path=\"url(#pb01c01ffb7)\" d=\"M 249.936136 224.64 \nL 256.023409 224.64 \nL 256.023409 224.580224 \nL 249.936136 224.580224 \nz\n\" style=\"fill:#1f77b4;\"/>\n   </g>\n   <g id=\"patch_35\">\n    <path clip-path=\"url(#pb01c01ffb7)\" d=\"M 256.023409 224.64 \nL 262.110682 224.64 \nL 262.110682 224.540374 \nL 256.023409 224.540374 \nz\n\" style=\"fill:#1f77b4;\"/>\n   </g>\n   <g id=\"patch_36\">\n    <path clip-path=\"url(#pb01c01ffb7)\" d=\"M 262.110682 224.64 \nL 268.197955 224.64 \nL 268.197955 224.585917 \nL 262.110682 224.585917 \nz\n\" style=\"fill:#1f77b4;\"/>\n   </g>\n   <g id=\"patch_37\">\n    <path clip-path=\"url(#pb01c01ffb7)\" d=\"M 268.197955 224.64 \nL 274.285227 224.64 \nL 274.285227 224.608689 \nL 268.197955 224.608689 \nz\n\" style=\"fill:#1f77b4;\"/>\n   </g>\n   <g id=\"patch_38\">\n    <path clip-path=\"url(#pb01c01ffb7)\" d=\"M 274.285227 224.64 \nL 280.3725 224.64 \nL 280.3725 224.622921 \nL 274.285227 224.622921 \nz\n\" style=\"fill:#1f77b4;\"/>\n   </g>\n   <g id=\"patch_39\">\n    <path clip-path=\"url(#pb01c01ffb7)\" d=\"M 280.3725 224.64 \nL 286.459773 224.64 \nL 286.459773 224.617228 \nL 280.3725 224.617228 \nz\n\" style=\"fill:#1f77b4;\"/>\n   </g>\n   <g id=\"patch_40\">\n    <path clip-path=\"url(#pb01c01ffb7)\" d=\"M 286.459773 224.64 \nL 292.547045 224.64 \nL 292.547045 224.64 \nL 286.459773 224.64 \nz\n\" style=\"fill:#1f77b4;\"/>\n   </g>\n   <g id=\"patch_41\">\n    <path clip-path=\"url(#pb01c01ffb7)\" d=\"M 292.547045 224.64 \nL 298.634318 224.64 \nL 298.634318 224.631461 \nL 292.547045 224.631461 \nz\n\" style=\"fill:#1f77b4;\"/>\n   </g>\n   <g id=\"patch_42\">\n    <path clip-path=\"url(#pb01c01ffb7)\" d=\"M 298.634318 224.64 \nL 304.721591 224.64 \nL 304.721591 224.625768 \nL 298.634318 224.625768 \nz\n\" style=\"fill:#1f77b4;\"/>\n   </g>\n   <g id=\"patch_43\">\n    <path clip-path=\"url(#pb01c01ffb7)\" d=\"M 304.721591 224.64 \nL 310.808864 224.64 \nL 310.808864 224.637154 \nL 304.721591 224.637154 \nz\n\" style=\"fill:#1f77b4;\"/>\n   </g>\n   <g id=\"patch_44\">\n    <path clip-path=\"url(#pb01c01ffb7)\" d=\"M 310.808864 224.64 \nL 316.896136 224.64 \nL 316.896136 224.634307 \nL 310.808864 224.634307 \nz\n\" style=\"fill:#1f77b4;\"/>\n   </g>\n   <g id=\"patch_45\">\n    <path clip-path=\"url(#pb01c01ffb7)\" d=\"M 316.896136 224.64 \nL 322.983409 224.64 \nL 322.983409 224.64 \nL 316.896136 224.64 \nz\n\" style=\"fill:#1f77b4;\"/>\n   </g>\n   <g id=\"patch_46\">\n    <path clip-path=\"url(#pb01c01ffb7)\" d=\"M 322.983409 224.64 \nL 329.070682 224.64 \nL 329.070682 224.634307 \nL 322.983409 224.634307 \nz\n\" style=\"fill:#1f77b4;\"/>\n   </g>\n   <g id=\"patch_47\">\n    <path clip-path=\"url(#pb01c01ffb7)\" d=\"M 329.070682 224.64 \nL 335.157955 224.64 \nL 335.157955 224.637154 \nL 329.070682 224.637154 \nz\n\" style=\"fill:#1f77b4;\"/>\n   </g>\n   <g id=\"patch_48\">\n    <path clip-path=\"url(#pb01c01ffb7)\" d=\"M 335.157955 224.64 \nL 341.245227 224.64 \nL 341.245227 224.637154 \nL 335.157955 224.637154 \nz\n\" style=\"fill:#1f77b4;\"/>\n   </g>\n   <g id=\"patch_49\">\n    <path clip-path=\"url(#pb01c01ffb7)\" d=\"M 341.245227 224.64 \nL 347.3325 224.64 \nL 347.3325 224.64 \nL 341.245227 224.64 \nz\n\" style=\"fill:#1f77b4;\"/>\n   </g>\n   <g id=\"patch_50\">\n    <path clip-path=\"url(#pb01c01ffb7)\" d=\"M 347.3325 224.64 \nL 353.419773 224.64 \nL 353.419773 224.637154 \nL 347.3325 224.637154 \nz\n\" style=\"fill:#1f77b4;\"/>\n   </g>\n   <g id=\"patch_51\">\n    <path clip-path=\"url(#pb01c01ffb7)\" d=\"M 353.419773 224.64 \nL 359.507045 224.64 \nL 359.507045 224.64 \nL 353.419773 224.64 \nz\n\" style=\"fill:#1f77b4;\"/>\n   </g>\n   <g id=\"patch_52\">\n    <path clip-path=\"url(#pb01c01ffb7)\" d=\"M 359.507045 224.64 \nL 365.594318 224.64 \nL 365.594318 224.637154 \nL 359.507045 224.637154 \nz\n\" style=\"fill:#1f77b4;\"/>\n   </g>\n   <g id=\"matplotlib.axis_1\">\n    <g id=\"xtick_1\">\n     <g id=\"line2d_1\">\n      <defs>\n       <path d=\"M 0 0 \nL 0 3.5 \n\" id=\"mc2dea30789\" style=\"stroke:#000000;stroke-width:0.8;\"/>\n      </defs>\n      <g>\n       <use style=\"stroke:#000000;stroke-width:0.8;\" x=\"61.230682\" xlink:href=\"#mc2dea30789\" y=\"224.64\"/>\n      </g>\n     </g>\n     <g id=\"text_1\">\n      <!-- 0 -->\n      <g transform=\"translate(58.049432 239.238437)scale(0.1 -0.1)\">\n       <defs>\n        <path d=\"M 31.78125 66.40625 \nQ 24.171875 66.40625 20.328125 58.90625 \nQ 16.5 51.421875 16.5 36.375 \nQ 16.5 21.390625 20.328125 13.890625 \nQ 24.171875 6.390625 31.78125 6.390625 \nQ 39.453125 6.390625 43.28125 13.890625 \nQ 47.125 21.390625 47.125 36.375 \nQ 47.125 51.421875 43.28125 58.90625 \nQ 39.453125 66.40625 31.78125 66.40625 \nz\nM 31.78125 74.21875 \nQ 44.046875 74.21875 50.515625 64.515625 \nQ 56.984375 54.828125 56.984375 36.375 \nQ 56.984375 17.96875 50.515625 8.265625 \nQ 44.046875 -1.421875 31.78125 -1.421875 \nQ 19.53125 -1.421875 13.0625 8.265625 \nQ 6.59375 17.96875 6.59375 36.375 \nQ 6.59375 54.828125 13.0625 64.515625 \nQ 19.53125 74.21875 31.78125 74.21875 \nz\n\" id=\"DejaVuSans-48\"/>\n       </defs>\n       <use xlink:href=\"#DejaVuSans-48\"/>\n      </g>\n     </g>\n    </g>\n    <g id=\"xtick_2\">\n     <g id=\"line2d_2\">\n      <g>\n       <use style=\"stroke:#000000;stroke-width:0.8;\" x=\"102.924331\" xlink:href=\"#mc2dea30789\" y=\"224.64\"/>\n      </g>\n     </g>\n     <g id=\"text_2\">\n      <!-- 10 -->\n      <g transform=\"translate(96.561831 239.238437)scale(0.1 -0.1)\">\n       <defs>\n        <path d=\"M 12.40625 8.296875 \nL 28.515625 8.296875 \nL 28.515625 63.921875 \nL 10.984375 60.40625 \nL 10.984375 69.390625 \nL 28.421875 72.90625 \nL 38.28125 72.90625 \nL 38.28125 8.296875 \nL 54.390625 8.296875 \nL 54.390625 0 \nL 12.40625 0 \nz\n\" id=\"DejaVuSans-49\"/>\n       </defs>\n       <use xlink:href=\"#DejaVuSans-49\"/>\n       <use x=\"63.623047\" xlink:href=\"#DejaVuSans-48\"/>\n      </g>\n     </g>\n    </g>\n    <g id=\"xtick_3\">\n     <g id=\"line2d_3\">\n      <g>\n       <use style=\"stroke:#000000;stroke-width:0.8;\" x=\"144.617979\" xlink:href=\"#mc2dea30789\" y=\"224.64\"/>\n      </g>\n     </g>\n     <g id=\"text_3\">\n      <!-- 20 -->\n      <g transform=\"translate(138.255479 239.238437)scale(0.1 -0.1)\">\n       <defs>\n        <path d=\"M 19.1875 8.296875 \nL 53.609375 8.296875 \nL 53.609375 0 \nL 7.328125 0 \nL 7.328125 8.296875 \nQ 12.9375 14.109375 22.625 23.890625 \nQ 32.328125 33.6875 34.8125 36.53125 \nQ 39.546875 41.84375 41.421875 45.53125 \nQ 43.3125 49.21875 43.3125 52.78125 \nQ 43.3125 58.59375 39.234375 62.25 \nQ 35.15625 65.921875 28.609375 65.921875 \nQ 23.96875 65.921875 18.8125 64.3125 \nQ 13.671875 62.703125 7.8125 59.421875 \nL 7.8125 69.390625 \nQ 13.765625 71.78125 18.9375 73 \nQ 24.125 74.21875 28.421875 74.21875 \nQ 39.75 74.21875 46.484375 68.546875 \nQ 53.21875 62.890625 53.21875 53.421875 \nQ 53.21875 48.921875 51.53125 44.890625 \nQ 49.859375 40.875 45.40625 35.40625 \nQ 44.1875 33.984375 37.640625 27.21875 \nQ 31.109375 20.453125 19.1875 8.296875 \nz\n\" id=\"DejaVuSans-50\"/>\n       </defs>\n       <use xlink:href=\"#DejaVuSans-50\"/>\n       <use x=\"63.623047\" xlink:href=\"#DejaVuSans-48\"/>\n      </g>\n     </g>\n    </g>\n    <g id=\"xtick_4\">\n     <g id=\"line2d_4\">\n      <g>\n       <use style=\"stroke:#000000;stroke-width:0.8;\" x=\"186.311628\" xlink:href=\"#mc2dea30789\" y=\"224.64\"/>\n      </g>\n     </g>\n     <g id=\"text_4\">\n      <!-- 30 -->\n      <g transform=\"translate(179.949128 239.238437)scale(0.1 -0.1)\">\n       <defs>\n        <path d=\"M 40.578125 39.3125 \nQ 47.65625 37.796875 51.625 33 \nQ 55.609375 28.21875 55.609375 21.1875 \nQ 55.609375 10.40625 48.1875 4.484375 \nQ 40.765625 -1.421875 27.09375 -1.421875 \nQ 22.515625 -1.421875 17.65625 -0.515625 \nQ 12.796875 0.390625 7.625 2.203125 \nL 7.625 11.71875 \nQ 11.71875 9.328125 16.59375 8.109375 \nQ 21.484375 6.890625 26.8125 6.890625 \nQ 36.078125 6.890625 40.9375 10.546875 \nQ 45.796875 14.203125 45.796875 21.1875 \nQ 45.796875 27.640625 41.28125 31.265625 \nQ 36.765625 34.90625 28.71875 34.90625 \nL 20.21875 34.90625 \nL 20.21875 43.015625 \nL 29.109375 43.015625 \nQ 36.375 43.015625 40.234375 45.921875 \nQ 44.09375 48.828125 44.09375 54.296875 \nQ 44.09375 59.90625 40.109375 62.90625 \nQ 36.140625 65.921875 28.71875 65.921875 \nQ 24.65625 65.921875 20.015625 65.03125 \nQ 15.375 64.15625 9.8125 62.3125 \nL 9.8125 71.09375 \nQ 15.4375 72.65625 20.34375 73.4375 \nQ 25.25 74.21875 29.59375 74.21875 \nQ 40.828125 74.21875 47.359375 69.109375 \nQ 53.90625 64.015625 53.90625 55.328125 \nQ 53.90625 49.265625 50.4375 45.09375 \nQ 46.96875 40.921875 40.578125 39.3125 \nz\n\" id=\"DejaVuSans-51\"/>\n       </defs>\n       <use xlink:href=\"#DejaVuSans-51\"/>\n       <use x=\"63.623047\" xlink:href=\"#DejaVuSans-48\"/>\n      </g>\n     </g>\n    </g>\n    <g id=\"xtick_5\">\n     <g id=\"line2d_5\">\n      <g>\n       <use style=\"stroke:#000000;stroke-width:0.8;\" x=\"228.005277\" xlink:href=\"#mc2dea30789\" y=\"224.64\"/>\n      </g>\n     </g>\n     <g id=\"text_5\">\n      <!-- 40 -->\n      <g transform=\"translate(221.642777 239.238437)scale(0.1 -0.1)\">\n       <defs>\n        <path d=\"M 37.796875 64.3125 \nL 12.890625 25.390625 \nL 37.796875 25.390625 \nz\nM 35.203125 72.90625 \nL 47.609375 72.90625 \nL 47.609375 25.390625 \nL 58.015625 25.390625 \nL 58.015625 17.1875 \nL 47.609375 17.1875 \nL 47.609375 0 \nL 37.796875 0 \nL 37.796875 17.1875 \nL 4.890625 17.1875 \nL 4.890625 26.703125 \nz\n\" id=\"DejaVuSans-52\"/>\n       </defs>\n       <use xlink:href=\"#DejaVuSans-52\"/>\n       <use x=\"63.623047\" xlink:href=\"#DejaVuSans-48\"/>\n      </g>\n     </g>\n    </g>\n    <g id=\"xtick_6\">\n     <g id=\"line2d_6\">\n      <g>\n       <use style=\"stroke:#000000;stroke-width:0.8;\" x=\"269.698926\" xlink:href=\"#mc2dea30789\" y=\"224.64\"/>\n      </g>\n     </g>\n     <g id=\"text_6\">\n      <!-- 50 -->\n      <g transform=\"translate(263.336426 239.238437)scale(0.1 -0.1)\">\n       <defs>\n        <path d=\"M 10.796875 72.90625 \nL 49.515625 72.90625 \nL 49.515625 64.59375 \nL 19.828125 64.59375 \nL 19.828125 46.734375 \nQ 21.96875 47.46875 24.109375 47.828125 \nQ 26.265625 48.1875 28.421875 48.1875 \nQ 40.625 48.1875 47.75 41.5 \nQ 54.890625 34.8125 54.890625 23.390625 \nQ 54.890625 11.625 47.5625 5.09375 \nQ 40.234375 -1.421875 26.90625 -1.421875 \nQ 22.3125 -1.421875 17.546875 -0.640625 \nQ 12.796875 0.140625 7.71875 1.703125 \nL 7.71875 11.625 \nQ 12.109375 9.234375 16.796875 8.0625 \nQ 21.484375 6.890625 26.703125 6.890625 \nQ 35.15625 6.890625 40.078125 11.328125 \nQ 45.015625 15.765625 45.015625 23.390625 \nQ 45.015625 31 40.078125 35.4375 \nQ 35.15625 39.890625 26.703125 39.890625 \nQ 22.75 39.890625 18.8125 39.015625 \nQ 14.890625 38.140625 10.796875 36.28125 \nz\n\" id=\"DejaVuSans-53\"/>\n       </defs>\n       <use xlink:href=\"#DejaVuSans-53\"/>\n       <use x=\"63.623047\" xlink:href=\"#DejaVuSans-48\"/>\n      </g>\n     </g>\n    </g>\n    <g id=\"xtick_7\">\n     <g id=\"line2d_7\">\n      <g>\n       <use style=\"stroke:#000000;stroke-width:0.8;\" x=\"311.392575\" xlink:href=\"#mc2dea30789\" y=\"224.64\"/>\n      </g>\n     </g>\n     <g id=\"text_7\">\n      <!-- 60 -->\n      <g transform=\"translate(305.030075 239.238437)scale(0.1 -0.1)\">\n       <defs>\n        <path d=\"M 33.015625 40.375 \nQ 26.375 40.375 22.484375 35.828125 \nQ 18.609375 31.296875 18.609375 23.390625 \nQ 18.609375 15.53125 22.484375 10.953125 \nQ 26.375 6.390625 33.015625 6.390625 \nQ 39.65625 6.390625 43.53125 10.953125 \nQ 47.40625 15.53125 47.40625 23.390625 \nQ 47.40625 31.296875 43.53125 35.828125 \nQ 39.65625 40.375 33.015625 40.375 \nz\nM 52.59375 71.296875 \nL 52.59375 62.3125 \nQ 48.875 64.0625 45.09375 64.984375 \nQ 41.3125 65.921875 37.59375 65.921875 \nQ 27.828125 65.921875 22.671875 59.328125 \nQ 17.53125 52.734375 16.796875 39.40625 \nQ 19.671875 43.65625 24.015625 45.921875 \nQ 28.375 48.1875 33.59375 48.1875 \nQ 44.578125 48.1875 50.953125 41.515625 \nQ 57.328125 34.859375 57.328125 23.390625 \nQ 57.328125 12.15625 50.6875 5.359375 \nQ 44.046875 -1.421875 33.015625 -1.421875 \nQ 20.359375 -1.421875 13.671875 8.265625 \nQ 6.984375 17.96875 6.984375 36.375 \nQ 6.984375 53.65625 15.1875 63.9375 \nQ 23.390625 74.21875 37.203125 74.21875 \nQ 40.921875 74.21875 44.703125 73.484375 \nQ 48.484375 72.75 52.59375 71.296875 \nz\n\" id=\"DejaVuSans-54\"/>\n       </defs>\n       <use xlink:href=\"#DejaVuSans-54\"/>\n       <use x=\"63.623047\" xlink:href=\"#DejaVuSans-48\"/>\n      </g>\n     </g>\n    </g>\n    <g id=\"xtick_8\">\n     <g id=\"line2d_8\">\n      <g>\n       <use style=\"stroke:#000000;stroke-width:0.8;\" x=\"353.086224\" xlink:href=\"#mc2dea30789\" y=\"224.64\"/>\n      </g>\n     </g>\n     <g id=\"text_8\">\n      <!-- 70 -->\n      <g transform=\"translate(346.723724 239.238437)scale(0.1 -0.1)\">\n       <defs>\n        <path d=\"M 8.203125 72.90625 \nL 55.078125 72.90625 \nL 55.078125 68.703125 \nL 28.609375 0 \nL 18.3125 0 \nL 43.21875 64.59375 \nL 8.203125 64.59375 \nz\n\" id=\"DejaVuSans-55\"/>\n       </defs>\n       <use xlink:href=\"#DejaVuSans-55\"/>\n       <use x=\"63.623047\" xlink:href=\"#DejaVuSans-48\"/>\n      </g>\n     </g>\n    </g>\n   </g>\n   <g id=\"matplotlib.axis_2\">\n    <g id=\"ytick_1\">\n     <g id=\"line2d_9\">\n      <defs>\n       <path d=\"M 0 0 \nL -3.5 0 \n\" id=\"m6ee4b8b05e\" style=\"stroke:#000000;stroke-width:0.8;\"/>\n      </defs>\n      <g>\n       <use style=\"stroke:#000000;stroke-width:0.8;\" x=\"46.0125\" xlink:href=\"#m6ee4b8b05e\" y=\"224.64\"/>\n      </g>\n     </g>\n     <g id=\"text_9\">\n      <!-- 0 -->\n      <g transform=\"translate(32.65 228.439219)scale(0.1 -0.1)\">\n       <use xlink:href=\"#DejaVuSans-48\"/>\n      </g>\n     </g>\n    </g>\n    <g id=\"ytick_2\">\n     <g id=\"line2d_10\">\n      <g>\n       <use style=\"stroke:#000000;stroke-width:0.8;\" x=\"46.0125\" xlink:href=\"#m6ee4b8b05e\" y=\"196.175392\"/>\n      </g>\n     </g>\n     <g id=\"text_10\">\n      <!-- 10000 -->\n      <g transform=\"translate(7.2 199.974611)scale(0.1 -0.1)\">\n       <use xlink:href=\"#DejaVuSans-49\"/>\n       <use x=\"63.623047\" xlink:href=\"#DejaVuSans-48\"/>\n       <use x=\"127.246094\" xlink:href=\"#DejaVuSans-48\"/>\n       <use x=\"190.869141\" xlink:href=\"#DejaVuSans-48\"/>\n       <use x=\"254.492188\" xlink:href=\"#DejaVuSans-48\"/>\n      </g>\n     </g>\n    </g>\n    <g id=\"ytick_3\">\n     <g id=\"line2d_11\">\n      <g>\n       <use style=\"stroke:#000000;stroke-width:0.8;\" x=\"46.0125\" xlink:href=\"#m6ee4b8b05e\" y=\"167.710785\"/>\n      </g>\n     </g>\n     <g id=\"text_11\">\n      <!-- 20000 -->\n      <g transform=\"translate(7.2 171.510003)scale(0.1 -0.1)\">\n       <use xlink:href=\"#DejaVuSans-50\"/>\n       <use x=\"63.623047\" xlink:href=\"#DejaVuSans-48\"/>\n       <use x=\"127.246094\" xlink:href=\"#DejaVuSans-48\"/>\n       <use x=\"190.869141\" xlink:href=\"#DejaVuSans-48\"/>\n       <use x=\"254.492188\" xlink:href=\"#DejaVuSans-48\"/>\n      </g>\n     </g>\n    </g>\n    <g id=\"ytick_4\">\n     <g id=\"line2d_12\">\n      <g>\n       <use style=\"stroke:#000000;stroke-width:0.8;\" x=\"46.0125\" xlink:href=\"#m6ee4b8b05e\" y=\"139.246177\"/>\n      </g>\n     </g>\n     <g id=\"text_12\">\n      <!-- 30000 -->\n      <g transform=\"translate(7.2 143.045396)scale(0.1 -0.1)\">\n       <use xlink:href=\"#DejaVuSans-51\"/>\n       <use x=\"63.623047\" xlink:href=\"#DejaVuSans-48\"/>\n       <use x=\"127.246094\" xlink:href=\"#DejaVuSans-48\"/>\n       <use x=\"190.869141\" xlink:href=\"#DejaVuSans-48\"/>\n       <use x=\"254.492188\" xlink:href=\"#DejaVuSans-48\"/>\n      </g>\n     </g>\n    </g>\n    <g id=\"ytick_5\">\n     <g id=\"line2d_13\">\n      <g>\n       <use style=\"stroke:#000000;stroke-width:0.8;\" x=\"46.0125\" xlink:href=\"#m6ee4b8b05e\" y=\"110.781569\"/>\n      </g>\n     </g>\n     <g id=\"text_13\">\n      <!-- 40000 -->\n      <g transform=\"translate(7.2 114.580788)scale(0.1 -0.1)\">\n       <use xlink:href=\"#DejaVuSans-52\"/>\n       <use x=\"63.623047\" xlink:href=\"#DejaVuSans-48\"/>\n       <use x=\"127.246094\" xlink:href=\"#DejaVuSans-48\"/>\n       <use x=\"190.869141\" xlink:href=\"#DejaVuSans-48\"/>\n       <use x=\"254.492188\" xlink:href=\"#DejaVuSans-48\"/>\n      </g>\n     </g>\n    </g>\n    <g id=\"ytick_6\">\n     <g id=\"line2d_14\">\n      <g>\n       <use style=\"stroke:#000000;stroke-width:0.8;\" x=\"46.0125\" xlink:href=\"#m6ee4b8b05e\" y=\"82.316961\"/>\n      </g>\n     </g>\n     <g id=\"text_14\">\n      <!-- 50000 -->\n      <g transform=\"translate(7.2 86.11618)scale(0.1 -0.1)\">\n       <use xlink:href=\"#DejaVuSans-53\"/>\n       <use x=\"63.623047\" xlink:href=\"#DejaVuSans-48\"/>\n       <use x=\"127.246094\" xlink:href=\"#DejaVuSans-48\"/>\n       <use x=\"190.869141\" xlink:href=\"#DejaVuSans-48\"/>\n       <use x=\"254.492188\" xlink:href=\"#DejaVuSans-48\"/>\n      </g>\n     </g>\n    </g>\n    <g id=\"ytick_7\">\n     <g id=\"line2d_15\">\n      <g>\n       <use style=\"stroke:#000000;stroke-width:0.8;\" x=\"46.0125\" xlink:href=\"#m6ee4b8b05e\" y=\"53.852354\"/>\n      </g>\n     </g>\n     <g id=\"text_15\">\n      <!-- 60000 -->\n      <g transform=\"translate(7.2 57.651572)scale(0.1 -0.1)\">\n       <use xlink:href=\"#DejaVuSans-54\"/>\n       <use x=\"63.623047\" xlink:href=\"#DejaVuSans-48\"/>\n       <use x=\"127.246094\" xlink:href=\"#DejaVuSans-48\"/>\n       <use x=\"190.869141\" xlink:href=\"#DejaVuSans-48\"/>\n       <use x=\"254.492188\" xlink:href=\"#DejaVuSans-48\"/>\n      </g>\n     </g>\n    </g>\n    <g id=\"ytick_8\">\n     <g id=\"line2d_16\">\n      <g>\n       <use style=\"stroke:#000000;stroke-width:0.8;\" x=\"46.0125\" xlink:href=\"#m6ee4b8b05e\" y=\"25.387746\"/>\n      </g>\n     </g>\n     <g id=\"text_16\">\n      <!-- 70000 -->\n      <g transform=\"translate(7.2 29.186965)scale(0.1 -0.1)\">\n       <use xlink:href=\"#DejaVuSans-55\"/>\n       <use x=\"63.623047\" xlink:href=\"#DejaVuSans-48\"/>\n       <use x=\"127.246094\" xlink:href=\"#DejaVuSans-48\"/>\n       <use x=\"190.869141\" xlink:href=\"#DejaVuSans-48\"/>\n       <use x=\"254.492188\" xlink:href=\"#DejaVuSans-48\"/>\n      </g>\n     </g>\n    </g>\n   </g>\n   <g id=\"patch_53\">\n    <path d=\"M 46.0125 224.64 \nL 46.0125 7.2 \n\" style=\"fill:none;stroke:#000000;stroke-linecap:square;stroke-linejoin:miter;stroke-width:0.8;\"/>\n   </g>\n   <g id=\"patch_54\">\n    <path d=\"M 380.8125 224.64 \nL 380.8125 7.2 \n\" style=\"fill:none;stroke:#000000;stroke-linecap:square;stroke-linejoin:miter;stroke-width:0.8;\"/>\n   </g>\n   <g id=\"patch_55\">\n    <path d=\"M 46.0125 224.64 \nL 380.8125 224.64 \n\" style=\"fill:none;stroke:#000000;stroke-linecap:square;stroke-linejoin:miter;stroke-width:0.8;\"/>\n   </g>\n   <g id=\"patch_56\">\n    <path d=\"M 46.0125 7.2 \nL 380.8125 7.2 \n\" style=\"fill:none;stroke:#000000;stroke-linecap:square;stroke-linejoin:miter;stroke-width:0.8;\"/>\n   </g>\n  </g>\n </g>\n <defs>\n  <clipPath id=\"pb01c01ffb7\">\n   <rect height=\"217.44\" width=\"334.8\" x=\"46.0125\" y=\"7.2\"/>\n  </clipPath>\n </defs>\n</svg>\n",
      "image/png": "[encoded data removed]"
     },
     "metadata": {
      "needs_background": "light"
     }
    }
   ],
   "source": [
    "# problem 3 (plots)\n",
    "\n",
    "# using the battingDF, create a histogram of homeruns\n",
    "# use bins=50\n",
    "\n",
    "import matplotlib.pyplot as plt\n",
    "\n",
    "\n",
    "df = pd.read_csv('Batting.csv')\n",
    "\n",
    "plt.hist(df['HR'], bins=50)\n",
    "plt.show()\n",
    "\n",
    "# what does the histogram tell you?\n",
    "\n",
    "# Leftward skew, long tail, most games have few HRs\n"
   ]
  },
  {
   "cell_type": "code",
   "execution_count": 63,
   "metadata": {},
   "outputs": [
    {
     "output_type": "execute_result",
     "data": {
      "text/plain": [
       "           0    1    2    3   4    5    6   7    8    9    ...  \\\n",
       "105   20160412    0  Tue  ARI  NL    8  LAN  NL    8    4  ...   \n",
       "145   20160415    0  Fri  SFN  NL   11  LAN  NL   11    3  ...   \n",
       "160   20160416    0  Sat  SFN  NL   12  LAN  NL   12    4  ...   \n",
       "556   20160515    0  Sun  SLN  NL   38  LAN  NL   38    5  ...   \n",
       "742   20160529    0  Sun  MIA  NL   50  ATL  NL   49    7  ...   \n",
       "1530  20160729    0  Fri  ARI  NL  103  LAN  NL  103    7  ...   \n",
       "1626  20160805    0  Fri  BOS  AL  108  LAN  NL  109    9  ...   \n",
       "1656  20160807    0  Sun  BOS  AL  110  LAN  NL  111    5  ...   \n",
       "1897  20160825    0  Thu  SFN  NL  127  LAN  NL  127    4  ...   \n",
       "2257  20160920    0  Tue  SFN  NL  151  LAN  NL  151    2  ...   \n",
       "2297  20160923    0  Fri  COL  NL  154  LAN  NL  154    2  ...   \n",
       "2312  20160924    0  Sat  COL  NL  155  LAN  NL  155    1  ...   \n",
       "2327  20160925    0  Sun  COL  NL  156  LAN  NL  156    3  ...   \n",
       "2421  20161002    0  Sun  DET  AL  161  ATL  NL  161    0  ...   \n",
       "\n",
       "                    151  152       153                154  155       156  \\\n",
       "105        Corey Seager    6  ellia001         A.J. Ellis    2  maedk001   \n",
       "145          A.J. Ellis    2  culbc001  Charlie Culberson    6  kersc001   \n",
       "160        Joc Pederson    8  thomt002    Trayce Thompson    9  kazms001   \n",
       "556         Yasiel Puig    9  pedej001       Joc Pederson    8  wooda002   \n",
       "742       Adonis Garcia    5  darnc001     Chase d'Arnaud    6  tehej001   \n",
       "1530       Andrew Toles    9  pedej001       Joc Pederson    8  maedk001   \n",
       "1626     Howie Kendrick    7  pedej001       Joc Pederson    8  kazms001   \n",
       "1656    Yasmani Grandal    2  seger001        Rob Segedin    7  mccab001   \n",
       "1897        Rob Segedin    9  culbc001  Charlie Culberson    4  strir001   \n",
       "2257       Andrew Toles    7  pedej001       Joc Pederson    8  hillr001   \n",
       "2297       Andrew Toles    7  pedej001       Joc Pederson    8  kazms001   \n",
       "2312     Howie Kendrick    7  pedej001       Joc Pederson    8  kersc001   \n",
       "2327  Enrique Hernandez    8  culbc001  Charlie Culberson    4  mccab001   \n",
       "2421      Jace Peterson    4  swand001     Dansby Swanson    6  tehej001   \n",
       "\n",
       "                   157  158  159 160  \n",
       "105        Kenta Maeda    1  NaN   Y  \n",
       "145    Clayton Kershaw    1  NaN   Y  \n",
       "160       Scott Kazmir    1  NaN   Y  \n",
       "556          Alex Wood    1  NaN   Y  \n",
       "742      Julio Teheran    1  NaN   Y  \n",
       "1530       Kenta Maeda    1  NaN   Y  \n",
       "1626      Scott Kazmir    1  NaN   Y  \n",
       "1656  Brandon McCarthy    1  NaN   Y  \n",
       "1897    Ross Stripling    1  NaN   Y  \n",
       "2257         Rich Hill    1  NaN   Y  \n",
       "2297      Scott Kazmir    1  NaN   Y  \n",
       "2312   Clayton Kershaw    1  NaN   Y  \n",
       "2327  Brandon McCarthy    1  NaN   Y  \n",
       "2421     Julio Teheran    1  NaN   Y  \n",
       "\n",
       "[14 rows x 161 columns]"
      ],
      "text/html": "<div>\n<style scoped>\n    .dataframe tbody tr th:only-of-type {\n        vertical-align: middle;\n    }\n\n    .dataframe tbody tr th {\n        vertical-align: top;\n    }\n\n    .dataframe thead th {\n        text-align: right;\n    }\n</style>\n<table border=\"1\" class=\"dataframe\">\n  <thead>\n    <tr style=\"text-align: right;\">\n      <th></th>\n      <th>0</th>\n      <th>1</th>\n      <th>2</th>\n      <th>3</th>\n      <th>4</th>\n      <th>5</th>\n      <th>6</th>\n      <th>7</th>\n      <th>8</th>\n      <th>9</th>\n      <th>...</th>\n      <th>151</th>\n      <th>152</th>\n      <th>153</th>\n      <th>154</th>\n      <th>155</th>\n      <th>156</th>\n      <th>157</th>\n      <th>158</th>\n      <th>159</th>\n      <th>160</th>\n    </tr>\n  </thead>\n  <tbody>\n    <tr>\n      <th>105</th>\n      <td>20160412</td>\n      <td>0</td>\n      <td>Tue</td>\n      <td>ARI</td>\n      <td>NL</td>\n      <td>8</td>\n      <td>LAN</td>\n      <td>NL</td>\n      <td>8</td>\n      <td>4</td>\n      <td>...</td>\n      <td>Corey Seager</td>\n      <td>6</td>\n      <td>ellia001</td>\n      <td>A.J. Ellis</td>\n      <td>2</td>\n      <td>maedk001</td>\n      <td>Kenta Maeda</td>\n      <td>1</td>\n      <td>NaN</td>\n      <td>Y</td>\n    </tr>\n    <tr>\n      <th>145</th>\n      <td>20160415</td>\n      <td>0</td>\n      <td>Fri</td>\n      <td>SFN</td>\n      <td>NL</td>\n      <td>11</td>\n      <td>LAN</td>\n      <td>NL</td>\n      <td>11</td>\n      <td>3</td>\n      <td>...</td>\n      <td>A.J. Ellis</td>\n      <td>2</td>\n      <td>culbc001</td>\n      <td>Charlie Culberson</td>\n      <td>6</td>\n      <td>kersc001</td>\n      <td>Clayton Kershaw</td>\n      <td>1</td>\n      <td>NaN</td>\n      <td>Y</td>\n    </tr>\n    <tr>\n      <th>160</th>\n      <td>20160416</td>\n      <td>0</td>\n      <td>Sat</td>\n      <td>SFN</td>\n      <td>NL</td>\n      <td>12</td>\n      <td>LAN</td>\n      <td>NL</td>\n      <td>12</td>\n      <td>4</td>\n      <td>...</td>\n      <td>Joc Pederson</td>\n      <td>8</td>\n      <td>thomt002</td>\n      <td>Trayce Thompson</td>\n      <td>9</td>\n      <td>kazms001</td>\n      <td>Scott Kazmir</td>\n      <td>1</td>\n      <td>NaN</td>\n      <td>Y</td>\n    </tr>\n    <tr>\n      <th>556</th>\n      <td>20160515</td>\n      <td>0</td>\n      <td>Sun</td>\n      <td>SLN</td>\n      <td>NL</td>\n      <td>38</td>\n      <td>LAN</td>\n      <td>NL</td>\n      <td>38</td>\n      <td>5</td>\n      <td>...</td>\n      <td>Yasiel Puig</td>\n      <td>9</td>\n      <td>pedej001</td>\n      <td>Joc Pederson</td>\n      <td>8</td>\n      <td>wooda002</td>\n      <td>Alex Wood</td>\n      <td>1</td>\n      <td>NaN</td>\n      <td>Y</td>\n    </tr>\n    <tr>\n      <th>742</th>\n      <td>20160529</td>\n      <td>0</td>\n      <td>Sun</td>\n      <td>MIA</td>\n      <td>NL</td>\n      <td>50</td>\n      <td>ATL</td>\n      <td>NL</td>\n      <td>49</td>\n      <td>7</td>\n      <td>...</td>\n      <td>Adonis Garcia</td>\n      <td>5</td>\n      <td>darnc001</td>\n      <td>Chase d'Arnaud</td>\n      <td>6</td>\n      <td>tehej001</td>\n      <td>Julio Teheran</td>\n      <td>1</td>\n      <td>NaN</td>\n      <td>Y</td>\n    </tr>\n    <tr>\n      <th>1530</th>\n      <td>20160729</td>\n      <td>0</td>\n      <td>Fri</td>\n      <td>ARI</td>\n      <td>NL</td>\n      <td>103</td>\n      <td>LAN</td>\n      <td>NL</td>\n      <td>103</td>\n      <td>7</td>\n      <td>...</td>\n      <td>Andrew Toles</td>\n      <td>9</td>\n      <td>pedej001</td>\n      <td>Joc Pederson</td>\n      <td>8</td>\n      <td>maedk001</td>\n      <td>Kenta Maeda</td>\n      <td>1</td>\n      <td>NaN</td>\n      <td>Y</td>\n    </tr>\n    <tr>\n      <th>1626</th>\n      <td>20160805</td>\n      <td>0</td>\n      <td>Fri</td>\n      <td>BOS</td>\n      <td>AL</td>\n      <td>108</td>\n      <td>LAN</td>\n      <td>NL</td>\n      <td>109</td>\n      <td>9</td>\n      <td>...</td>\n      <td>Howie Kendrick</td>\n      <td>7</td>\n      <td>pedej001</td>\n      <td>Joc Pederson</td>\n      <td>8</td>\n      <td>kazms001</td>\n      <td>Scott Kazmir</td>\n      <td>1</td>\n      <td>NaN</td>\n      <td>Y</td>\n    </tr>\n    <tr>\n      <th>1656</th>\n      <td>20160807</td>\n      <td>0</td>\n      <td>Sun</td>\n      <td>BOS</td>\n      <td>AL</td>\n      <td>110</td>\n      <td>LAN</td>\n      <td>NL</td>\n      <td>111</td>\n      <td>5</td>\n      <td>...</td>\n      <td>Yasmani Grandal</td>\n      <td>2</td>\n      <td>seger001</td>\n      <td>Rob Segedin</td>\n      <td>7</td>\n      <td>mccab001</td>\n      <td>Brandon McCarthy</td>\n      <td>1</td>\n      <td>NaN</td>\n      <td>Y</td>\n    </tr>\n    <tr>\n      <th>1897</th>\n      <td>20160825</td>\n      <td>0</td>\n      <td>Thu</td>\n      <td>SFN</td>\n      <td>NL</td>\n      <td>127</td>\n      <td>LAN</td>\n      <td>NL</td>\n      <td>127</td>\n      <td>4</td>\n      <td>...</td>\n      <td>Rob Segedin</td>\n      <td>9</td>\n      <td>culbc001</td>\n      <td>Charlie Culberson</td>\n      <td>4</td>\n      <td>strir001</td>\n      <td>Ross Stripling</td>\n      <td>1</td>\n      <td>NaN</td>\n      <td>Y</td>\n    </tr>\n    <tr>\n      <th>2257</th>\n      <td>20160920</td>\n      <td>0</td>\n      <td>Tue</td>\n      <td>SFN</td>\n      <td>NL</td>\n      <td>151</td>\n      <td>LAN</td>\n      <td>NL</td>\n      <td>151</td>\n      <td>2</td>\n      <td>...</td>\n      <td>Andrew Toles</td>\n      <td>7</td>\n      <td>pedej001</td>\n      <td>Joc Pederson</td>\n      <td>8</td>\n      <td>hillr001</td>\n      <td>Rich Hill</td>\n      <td>1</td>\n      <td>NaN</td>\n      <td>Y</td>\n    </tr>\n    <tr>\n      <th>2297</th>\n      <td>20160923</td>\n      <td>0</td>\n      <td>Fri</td>\n      <td>COL</td>\n      <td>NL</td>\n      <td>154</td>\n      <td>LAN</td>\n      <td>NL</td>\n      <td>154</td>\n      <td>2</td>\n      <td>...</td>\n      <td>Andrew Toles</td>\n      <td>7</td>\n      <td>pedej001</td>\n      <td>Joc Pederson</td>\n      <td>8</td>\n      <td>kazms001</td>\n      <td>Scott Kazmir</td>\n      <td>1</td>\n      <td>NaN</td>\n      <td>Y</td>\n    </tr>\n    <tr>\n      <th>2312</th>\n      <td>20160924</td>\n      <td>0</td>\n      <td>Sat</td>\n      <td>COL</td>\n      <td>NL</td>\n      <td>155</td>\n      <td>LAN</td>\n      <td>NL</td>\n      <td>155</td>\n      <td>1</td>\n      <td>...</td>\n      <td>Howie Kendrick</td>\n      <td>7</td>\n      <td>pedej001</td>\n      <td>Joc Pederson</td>\n      <td>8</td>\n      <td>kersc001</td>\n      <td>Clayton Kershaw</td>\n      <td>1</td>\n      <td>NaN</td>\n      <td>Y</td>\n    </tr>\n    <tr>\n      <th>2327</th>\n      <td>20160925</td>\n      <td>0</td>\n      <td>Sun</td>\n      <td>COL</td>\n      <td>NL</td>\n      <td>156</td>\n      <td>LAN</td>\n      <td>NL</td>\n      <td>156</td>\n      <td>3</td>\n      <td>...</td>\n      <td>Enrique Hernandez</td>\n      <td>8</td>\n      <td>culbc001</td>\n      <td>Charlie Culberson</td>\n      <td>4</td>\n      <td>mccab001</td>\n      <td>Brandon McCarthy</td>\n      <td>1</td>\n      <td>NaN</td>\n      <td>Y</td>\n    </tr>\n    <tr>\n      <th>2421</th>\n      <td>20161002</td>\n      <td>0</td>\n      <td>Sun</td>\n      <td>DET</td>\n      <td>AL</td>\n      <td>161</td>\n      <td>ATL</td>\n      <td>NL</td>\n      <td>161</td>\n      <td>0</td>\n      <td>...</td>\n      <td>Jace Peterson</td>\n      <td>4</td>\n      <td>swand001</td>\n      <td>Dansby Swanson</td>\n      <td>6</td>\n      <td>tehej001</td>\n      <td>Julio Teheran</td>\n      <td>1</td>\n      <td>NaN</td>\n      <td>Y</td>\n    </tr>\n  </tbody>\n</table>\n<p>14 rows × 161 columns</p>\n</div>"
     },
     "metadata": {},
     "execution_count": 63
    }
   ],
   "source": [
    "# problem 4 (filtering)\n",
    "\n",
    "# using the gamelogsDF, find all games where attendance\n",
    "# exceeded 50,000\n",
    "\n",
    "df = pd.read_csv('GameLogs.txt', header=None)\n",
    "\n",
    "df[df[17] > 50000]\n"
   ]
  },
  {
   "cell_type": "code",
   "execution_count": 99,
   "metadata": {
    "tags": []
   },
   "outputs": [
    {
     "output_type": "execute_result",
     "data": {
      "text/plain": [
       "           0    1    2    3   4    5    6   7    8    9    ...  \\\n",
       "2425  20161002    0  Sun  LAN  NL  162  SFN  NL  162    1  ...   \n",
       "2423  20161002    0  Sun  MIL  NL  162  COL  NL  162    6  ...   \n",
       "2413  20161002    0  Sun  HOU  AL  162  ANA  AL  162    1  ...   \n",
       "2418  20161002    0  Sun  OAK  AL  162  SEA  AL  162    3  ...   \n",
       "2414  20161002    0  Sun  TOR  AL  162  BOS  AL  162    2  ...   \n",
       "2417  20161002    0  Sun  BAL  AL  162  NYA  AL  162    5  ...   \n",
       "2420  20161002    0  Sun  SDN  NL  162  ARI  NL  162    2  ...   \n",
       "2416  20161002    0  Sun  CLE  AL  161  KCA  AL  162    3  ...   \n",
       "2422  20161002    0  Sun  CHN  NL  162  CIN  NL  162    7  ...   \n",
       "2426  20161002    0  Sun  PIT  NL  162  SLN  NL  162    4  ...   \n",
       "2415  20161002    0  Sun  MIN  AL  162  CHA  AL  162    6  ...   \n",
       "2421  20161002    0  Sun  DET  AL  161  ATL  NL  161    0  ...   \n",
       "2424  20161002    0  Sun  NYN  NL  162  PHI  NL  162    2  ...   \n",
       "2427  20161002    0  Sun  MIA  NL  161  WAS  NL  162    7  ...   \n",
       "2419  20161002    0  Sun  TBA  AL  162  TEX  AL  162    6  ...   \n",
       "2377  20160929    0  Thu  PHI  NL  159  ATL  NL  158    2  ...   \n",
       "2381  20160929    0  Thu  CIN  NL  159  SLN  NL  159    3  ...   \n",
       "2374  20160929    0  Thu  BOS  AL  159  NYA  AL  159    1  ...   \n",
       "2382  20160929    0  Thu  ARI  NL  159  WAS  NL  159    3  ...   \n",
       "2380  20160929    0  Thu  COL  NL  159  SFN  NL  159    2  ...   \n",
       "2360  20160928    0  Wed  SEA  AL  158  HOU  AL  159   12  ...   \n",
       "2337  20160926    0  Mon  NYA  AL  156  TOR  AL  156    7  ...   \n",
       "2319  20160925    0  Sun  CHA  AL  155  CLE  AL  155    3  ...   \n",
       "2326  20160925    0  Sun  SLN  NL  155  CHN  NL  155    1  ...   \n",
       "2321  20160925    0  Sun  ANA  AL  156  HOU  AL  156    1  ...   \n",
       "2320  20160925    0  Sun  KCA  AL  156  DET  AL  155   12  ...   \n",
       "2330  20160925    0  Sun  WAS  NL  155  PIT  NL  155   10  ...   \n",
       "2323  20160925    0  Sun  TEX  AL  156  OAK  AL  155    1  ...   \n",
       "2331  20160925    0  Sun  SFN  NL  156  SDN  NL  156    3  ...   \n",
       "2313  20160924    0  Sat  ATL  NL  155  MIA  NL  155    4  ...   \n",
       "\n",
       "                   151  152       153                    154  155       156  \\\n",
       "2425         Joe Panik    4  gillc001        Conor Gillaspie    5  moorm003   \n",
       "2423       Pat Valaika    4  adamc001       Cristhian Adames    6  marqg001   \n",
       "2413     Rafael Ortega    8  perec003           Carlos Perez    2  pennc001   \n",
       "2418         Ben Gamel    7  iannc001         Chris Iannetta    2  freem002   \n",
       "2414    Jackie Bradley    8  leons001             Sandy Leon    2  benia002   \n",
       "2417       Aaron Hicks    9  torrr001        Ronald Torreyes    5  solad001   \n",
       "2420     Mitch Haniger    8  goset001        Tuffy Gosewisch    2  kochm001   \n",
       "2416   Alcides Escobar    6  cuthc001       Cheslor Cuthbert    5  buted001   \n",
       "2422   Tucker Barnhart    2  rendt001             Tony Renda    9  stepr002   \n",
       "2426       Jedd Gyorko    4  gricr001         Randal Grichuk    8  waina001   \n",
       "2415        Alex Avila    2  sancc001         Yolmer Sanchez    4  garcl004   \n",
       "2421     Jace Peterson    4  swand001         Dansby Swanson    6  tehej001   \n",
       "2424     Andres Blanco    6  altha001          Aaron Altherr    9  eickj001   \n",
       "2427    Danny Espinosa    6  lobaj001           Jose Lobaton    2  schem001   \n",
       "2419      Elvis Andrus    6  rua-r001               Ryan Rua    3  profj001   \n",
       "2377     Jace Peterson    4  ruizr002               Rio Ruiz    5  collj001   \n",
       "2381      Aledmys Diaz    6  martj008          Jose Martinez    7  reyea004   \n",
       "2374      Brian McCann    2  hicka001            Aaron Hicks    9  austt001   \n",
       "2382    Michael Taylor    9  sevep001         Pedro Severino    2  rossj002   \n",
       "2380         Joe Panik    4  gillc001        Conor Gillaspie    5  cuetj001   \n",
       "2360  Yulieski Gurriel   10  hernt002      Teoscar Hernandez    7  marij002   \n",
       "2337  Michael Saunders    7  smoaj001           Justin Smoak    3  pillk001   \n",
       "2319        Coco Crisp    7  gimec001          Chris Gimenez    2  martm003   \n",
       "2326       Javier Baez    5  rossd001             David Ross    2  lestj001   \n",
       "2321       Tyler White   10  kempt001              Tony Kemp    7  marij002   \n",
       "2320       Erick Aybar    5  saltj001  Jarrod Saltalamacchia    2  romia001   \n",
       "2330    Pedro Florimon    4  fryee001             Eric Fryer    2  glast001   \n",
       "2323     Bruce Maxwell    2  eibnb001           Brett Eibner    8  olsom001   \n",
       "2331     Austin Hedges    2  richc002        Clayton Richard    1  jankt001   \n",
       "2313     J.T. Realmuto    2  hecha001     Adeiny Hechavarria    6  chenw001   \n",
       "\n",
       "                    157  158  159 160  \n",
       "2425         Matt Moore    1  NaN   Y  \n",
       "2423     German Marquez    1  NaN   Y  \n",
       "2413   Cliff Pennington    4  NaN   Y  \n",
       "2418       Mike Freeman    4  NaN   Y  \n",
       "2414  Andrew Benintendi    7  NaN   Y  \n",
       "2417     Donovan Solano    4  NaN   Y  \n",
       "2420          Matt Koch    1  NaN   Y  \n",
       "2416        Drew Butera    2  NaN   Y  \n",
       "2422  Robert Stephenson    1  NaN   Y  \n",
       "2426    Adam Wainwright    1  NaN   Y  \n",
       "2415       Leury Garcia    8  NaN   Y  \n",
       "2421      Julio Teheran    1  NaN   Y  \n",
       "2424     Jerad Eickhoff    1  NaN   Y  \n",
       "2427       Max Scherzer    1  NaN   Y  \n",
       "2419   Jurickson Profar    4  NaN   Y  \n",
       "2377    Josh Collmenter    1  NaN   Y  \n",
       "2381         Alex Reyes    1  NaN   Y  \n",
       "2374       Tyler Austin    3  NaN   Y  \n",
       "2382           Joe Ross    1  NaN   Y  \n",
       "2380       Johnny Cueto    1  NaN   Y  \n",
       "2360     Jake Marisnick    8  NaN   Y  \n",
       "2337       Kevin Pillar    8  NaN   Y  \n",
       "2319   Michael Martinez    6  NaN   Y  \n",
       "2326         Jon Lester    1  NaN   Y  \n",
       "2321     Jake Marisnick    8  NaN   Y  \n",
       "2320      Andrew Romine    6  NaN   Y  \n",
       "2330      Tyler Glasnow    1  NaN   Y  \n",
       "2323         Matt Olson    9  NaN   Y  \n",
       "2331   Travis Jankowski    9  NaN   Y  \n",
       "2313       Wei-Yin Chen    1  NaN   Y  \n",
       "\n",
       "[30 rows x 161 columns]"
      ],
      "text/html": "<div>\n<style scoped>\n    .dataframe tbody tr th:only-of-type {\n        vertical-align: middle;\n    }\n\n    .dataframe tbody tr th {\n        vertical-align: top;\n    }\n\n    .dataframe thead th {\n        text-align: right;\n    }\n</style>\n<table border=\"1\" class=\"dataframe\">\n  <thead>\n    <tr style=\"text-align: right;\">\n      <th></th>\n      <th>0</th>\n      <th>1</th>\n      <th>2</th>\n      <th>3</th>\n      <th>4</th>\n      <th>5</th>\n      <th>6</th>\n      <th>7</th>\n      <th>8</th>\n      <th>9</th>\n      <th>...</th>\n      <th>151</th>\n      <th>152</th>\n      <th>153</th>\n      <th>154</th>\n      <th>155</th>\n      <th>156</th>\n      <th>157</th>\n      <th>158</th>\n      <th>159</th>\n      <th>160</th>\n    </tr>\n  </thead>\n  <tbody>\n    <tr>\n      <th>2425</th>\n      <td>20161002</td>\n      <td>0</td>\n      <td>Sun</td>\n      <td>LAN</td>\n      <td>NL</td>\n      <td>162</td>\n      <td>SFN</td>\n      <td>NL</td>\n      <td>162</td>\n      <td>1</td>\n      <td>...</td>\n      <td>Joe Panik</td>\n      <td>4</td>\n      <td>gillc001</td>\n      <td>Conor Gillaspie</td>\n      <td>5</td>\n      <td>moorm003</td>\n      <td>Matt Moore</td>\n      <td>1</td>\n      <td>NaN</td>\n      <td>Y</td>\n    </tr>\n    <tr>\n      <th>2423</th>\n      <td>20161002</td>\n      <td>0</td>\n      <td>Sun</td>\n      <td>MIL</td>\n      <td>NL</td>\n      <td>162</td>\n      <td>COL</td>\n      <td>NL</td>\n      <td>162</td>\n      <td>6</td>\n      <td>...</td>\n      <td>Pat Valaika</td>\n      <td>4</td>\n      <td>adamc001</td>\n      <td>Cristhian Adames</td>\n      <td>6</td>\n      <td>marqg001</td>\n      <td>German Marquez</td>\n      <td>1</td>\n      <td>NaN</td>\n      <td>Y</td>\n    </tr>\n    <tr>\n      <th>2413</th>\n      <td>20161002</td>\n      <td>0</td>\n      <td>Sun</td>\n      <td>HOU</td>\n      <td>AL</td>\n      <td>162</td>\n      <td>ANA</td>\n      <td>AL</td>\n      <td>162</td>\n      <td>1</td>\n      <td>...</td>\n      <td>Rafael Ortega</td>\n      <td>8</td>\n      <td>perec003</td>\n      <td>Carlos Perez</td>\n      <td>2</td>\n      <td>pennc001</td>\n      <td>Cliff Pennington</td>\n      <td>4</td>\n      <td>NaN</td>\n      <td>Y</td>\n    </tr>\n    <tr>\n      <th>2418</th>\n      <td>20161002</td>\n      <td>0</td>\n      <td>Sun</td>\n      <td>OAK</td>\n      <td>AL</td>\n      <td>162</td>\n      <td>SEA</td>\n      <td>AL</td>\n      <td>162</td>\n      <td>3</td>\n      <td>...</td>\n      <td>Ben Gamel</td>\n      <td>7</td>\n      <td>iannc001</td>\n      <td>Chris Iannetta</td>\n      <td>2</td>\n      <td>freem002</td>\n      <td>Mike Freeman</td>\n      <td>4</td>\n      <td>NaN</td>\n      <td>Y</td>\n    </tr>\n    <tr>\n      <th>2414</th>\n      <td>20161002</td>\n      <td>0</td>\n      <td>Sun</td>\n      <td>TOR</td>\n      <td>AL</td>\n      <td>162</td>\n      <td>BOS</td>\n      <td>AL</td>\n      <td>162</td>\n      <td>2</td>\n      <td>...</td>\n      <td>Jackie Bradley</td>\n      <td>8</td>\n      <td>leons001</td>\n      <td>Sandy Leon</td>\n      <td>2</td>\n      <td>benia002</td>\n      <td>Andrew Benintendi</td>\n      <td>7</td>\n      <td>NaN</td>\n      <td>Y</td>\n    </tr>\n    <tr>\n      <th>2417</th>\n      <td>20161002</td>\n      <td>0</td>\n      <td>Sun</td>\n      <td>BAL</td>\n      <td>AL</td>\n      <td>162</td>\n      <td>NYA</td>\n      <td>AL</td>\n      <td>162</td>\n      <td>5</td>\n      <td>...</td>\n      <td>Aaron Hicks</td>\n      <td>9</td>\n      <td>torrr001</td>\n      <td>Ronald Torreyes</td>\n      <td>5</td>\n      <td>solad001</td>\n      <td>Donovan Solano</td>\n      <td>4</td>\n      <td>NaN</td>\n      <td>Y</td>\n    </tr>\n    <tr>\n      <th>2420</th>\n      <td>20161002</td>\n      <td>0</td>\n      <td>Sun</td>\n      <td>SDN</td>\n      <td>NL</td>\n      <td>162</td>\n      <td>ARI</td>\n      <td>NL</td>\n      <td>162</td>\n      <td>2</td>\n      <td>...</td>\n      <td>Mitch Haniger</td>\n      <td>8</td>\n      <td>goset001</td>\n      <td>Tuffy Gosewisch</td>\n      <td>2</td>\n      <td>kochm001</td>\n      <td>Matt Koch</td>\n      <td>1</td>\n      <td>NaN</td>\n      <td>Y</td>\n    </tr>\n    <tr>\n      <th>2416</th>\n      <td>20161002</td>\n      <td>0</td>\n      <td>Sun</td>\n      <td>CLE</td>\n      <td>AL</td>\n      <td>161</td>\n      <td>KCA</td>\n      <td>AL</td>\n      <td>162</td>\n      <td>3</td>\n      <td>...</td>\n      <td>Alcides Escobar</td>\n      <td>6</td>\n      <td>cuthc001</td>\n      <td>Cheslor Cuthbert</td>\n      <td>5</td>\n      <td>buted001</td>\n      <td>Drew Butera</td>\n      <td>2</td>\n      <td>NaN</td>\n      <td>Y</td>\n    </tr>\n    <tr>\n      <th>2422</th>\n      <td>20161002</td>\n      <td>0</td>\n      <td>Sun</td>\n      <td>CHN</td>\n      <td>NL</td>\n      <td>162</td>\n      <td>CIN</td>\n      <td>NL</td>\n      <td>162</td>\n      <td>7</td>\n      <td>...</td>\n      <td>Tucker Barnhart</td>\n      <td>2</td>\n      <td>rendt001</td>\n      <td>Tony Renda</td>\n      <td>9</td>\n      <td>stepr002</td>\n      <td>Robert Stephenson</td>\n      <td>1</td>\n      <td>NaN</td>\n      <td>Y</td>\n    </tr>\n    <tr>\n      <th>2426</th>\n      <td>20161002</td>\n      <td>0</td>\n      <td>Sun</td>\n      <td>PIT</td>\n      <td>NL</td>\n      <td>162</td>\n      <td>SLN</td>\n      <td>NL</td>\n      <td>162</td>\n      <td>4</td>\n      <td>...</td>\n      <td>Jedd Gyorko</td>\n      <td>4</td>\n      <td>gricr001</td>\n      <td>Randal Grichuk</td>\n      <td>8</td>\n      <td>waina001</td>\n      <td>Adam Wainwright</td>\n      <td>1</td>\n      <td>NaN</td>\n      <td>Y</td>\n    </tr>\n    <tr>\n      <th>2415</th>\n      <td>20161002</td>\n      <td>0</td>\n      <td>Sun</td>\n      <td>MIN</td>\n      <td>AL</td>\n      <td>162</td>\n      <td>CHA</td>\n      <td>AL</td>\n      <td>162</td>\n      <td>6</td>\n      <td>...</td>\n      <td>Alex Avila</td>\n      <td>2</td>\n      <td>sancc001</td>\n      <td>Yolmer Sanchez</td>\n      <td>4</td>\n      <td>garcl004</td>\n      <td>Leury Garcia</td>\n      <td>8</td>\n      <td>NaN</td>\n      <td>Y</td>\n    </tr>\n    <tr>\n      <th>2421</th>\n      <td>20161002</td>\n      <td>0</td>\n      <td>Sun</td>\n      <td>DET</td>\n      <td>AL</td>\n      <td>161</td>\n      <td>ATL</td>\n      <td>NL</td>\n      <td>161</td>\n      <td>0</td>\n      <td>...</td>\n      <td>Jace Peterson</td>\n      <td>4</td>\n      <td>swand001</td>\n      <td>Dansby Swanson</td>\n      <td>6</td>\n      <td>tehej001</td>\n      <td>Julio Teheran</td>\n      <td>1</td>\n      <td>NaN</td>\n      <td>Y</td>\n    </tr>\n    <tr>\n      <th>2424</th>\n      <td>20161002</td>\n      <td>0</td>\n      <td>Sun</td>\n      <td>NYN</td>\n      <td>NL</td>\n      <td>162</td>\n      <td>PHI</td>\n      <td>NL</td>\n      <td>162</td>\n      <td>2</td>\n      <td>...</td>\n      <td>Andres Blanco</td>\n      <td>6</td>\n      <td>altha001</td>\n      <td>Aaron Altherr</td>\n      <td>9</td>\n      <td>eickj001</td>\n      <td>Jerad Eickhoff</td>\n      <td>1</td>\n      <td>NaN</td>\n      <td>Y</td>\n    </tr>\n    <tr>\n      <th>2427</th>\n      <td>20161002</td>\n      <td>0</td>\n      <td>Sun</td>\n      <td>MIA</td>\n      <td>NL</td>\n      <td>161</td>\n      <td>WAS</td>\n      <td>NL</td>\n      <td>162</td>\n      <td>7</td>\n      <td>...</td>\n      <td>Danny Espinosa</td>\n      <td>6</td>\n      <td>lobaj001</td>\n      <td>Jose Lobaton</td>\n      <td>2</td>\n      <td>schem001</td>\n      <td>Max Scherzer</td>\n      <td>1</td>\n      <td>NaN</td>\n      <td>Y</td>\n    </tr>\n    <tr>\n      <th>2419</th>\n      <td>20161002</td>\n      <td>0</td>\n      <td>Sun</td>\n      <td>TBA</td>\n      <td>AL</td>\n      <td>162</td>\n      <td>TEX</td>\n      <td>AL</td>\n      <td>162</td>\n      <td>6</td>\n      <td>...</td>\n      <td>Elvis Andrus</td>\n      <td>6</td>\n      <td>rua-r001</td>\n      <td>Ryan Rua</td>\n      <td>3</td>\n      <td>profj001</td>\n      <td>Jurickson Profar</td>\n      <td>4</td>\n      <td>NaN</td>\n      <td>Y</td>\n    </tr>\n    <tr>\n      <th>2377</th>\n      <td>20160929</td>\n      <td>0</td>\n      <td>Thu</td>\n      <td>PHI</td>\n      <td>NL</td>\n      <td>159</td>\n      <td>ATL</td>\n      <td>NL</td>\n      <td>158</td>\n      <td>2</td>\n      <td>...</td>\n      <td>Jace Peterson</td>\n      <td>4</td>\n      <td>ruizr002</td>\n      <td>Rio Ruiz</td>\n      <td>5</td>\n      <td>collj001</td>\n      <td>Josh Collmenter</td>\n      <td>1</td>\n      <td>NaN</td>\n      <td>Y</td>\n    </tr>\n    <tr>\n      <th>2381</th>\n      <td>20160929</td>\n      <td>0</td>\n      <td>Thu</td>\n      <td>CIN</td>\n      <td>NL</td>\n      <td>159</td>\n      <td>SLN</td>\n      <td>NL</td>\n      <td>159</td>\n      <td>3</td>\n      <td>...</td>\n      <td>Aledmys Diaz</td>\n      <td>6</td>\n      <td>martj008</td>\n      <td>Jose Martinez</td>\n      <td>7</td>\n      <td>reyea004</td>\n      <td>Alex Reyes</td>\n      <td>1</td>\n      <td>NaN</td>\n      <td>Y</td>\n    </tr>\n    <tr>\n      <th>2374</th>\n      <td>20160929</td>\n      <td>0</td>\n      <td>Thu</td>\n      <td>BOS</td>\n      <td>AL</td>\n      <td>159</td>\n      <td>NYA</td>\n      <td>AL</td>\n      <td>159</td>\n      <td>1</td>\n      <td>...</td>\n      <td>Brian McCann</td>\n      <td>2</td>\n      <td>hicka001</td>\n      <td>Aaron Hicks</td>\n      <td>9</td>\n      <td>austt001</td>\n      <td>Tyler Austin</td>\n      <td>3</td>\n      <td>NaN</td>\n      <td>Y</td>\n    </tr>\n    <tr>\n      <th>2382</th>\n      <td>20160929</td>\n      <td>0</td>\n      <td>Thu</td>\n      <td>ARI</td>\n      <td>NL</td>\n      <td>159</td>\n      <td>WAS</td>\n      <td>NL</td>\n      <td>159</td>\n      <td>3</td>\n      <td>...</td>\n      <td>Michael Taylor</td>\n      <td>9</td>\n      <td>sevep001</td>\n      <td>Pedro Severino</td>\n      <td>2</td>\n      <td>rossj002</td>\n      <td>Joe Ross</td>\n      <td>1</td>\n      <td>NaN</td>\n      <td>Y</td>\n    </tr>\n    <tr>\n      <th>2380</th>\n      <td>20160929</td>\n      <td>0</td>\n      <td>Thu</td>\n      <td>COL</td>\n      <td>NL</td>\n      <td>159</td>\n      <td>SFN</td>\n      <td>NL</td>\n      <td>159</td>\n      <td>2</td>\n      <td>...</td>\n      <td>Joe Panik</td>\n      <td>4</td>\n      <td>gillc001</td>\n      <td>Conor Gillaspie</td>\n      <td>5</td>\n      <td>cuetj001</td>\n      <td>Johnny Cueto</td>\n      <td>1</td>\n      <td>NaN</td>\n      <td>Y</td>\n    </tr>\n    <tr>\n      <th>2360</th>\n      <td>20160928</td>\n      <td>0</td>\n      <td>Wed</td>\n      <td>SEA</td>\n      <td>AL</td>\n      <td>158</td>\n      <td>HOU</td>\n      <td>AL</td>\n      <td>159</td>\n      <td>12</td>\n      <td>...</td>\n      <td>Yulieski Gurriel</td>\n      <td>10</td>\n      <td>hernt002</td>\n      <td>Teoscar Hernandez</td>\n      <td>7</td>\n      <td>marij002</td>\n      <td>Jake Marisnick</td>\n      <td>8</td>\n      <td>NaN</td>\n      <td>Y</td>\n    </tr>\n    <tr>\n      <th>2337</th>\n      <td>20160926</td>\n      <td>0</td>\n      <td>Mon</td>\n      <td>NYA</td>\n      <td>AL</td>\n      <td>156</td>\n      <td>TOR</td>\n      <td>AL</td>\n      <td>156</td>\n      <td>7</td>\n      <td>...</td>\n      <td>Michael Saunders</td>\n      <td>7</td>\n      <td>smoaj001</td>\n      <td>Justin Smoak</td>\n      <td>3</td>\n      <td>pillk001</td>\n      <td>Kevin Pillar</td>\n      <td>8</td>\n      <td>NaN</td>\n      <td>Y</td>\n    </tr>\n    <tr>\n      <th>2319</th>\n      <td>20160925</td>\n      <td>0</td>\n      <td>Sun</td>\n      <td>CHA</td>\n      <td>AL</td>\n      <td>155</td>\n      <td>CLE</td>\n      <td>AL</td>\n      <td>155</td>\n      <td>3</td>\n      <td>...</td>\n      <td>Coco Crisp</td>\n      <td>7</td>\n      <td>gimec001</td>\n      <td>Chris Gimenez</td>\n      <td>2</td>\n      <td>martm003</td>\n      <td>Michael Martinez</td>\n      <td>6</td>\n      <td>NaN</td>\n      <td>Y</td>\n    </tr>\n    <tr>\n      <th>2326</th>\n      <td>20160925</td>\n      <td>0</td>\n      <td>Sun</td>\n      <td>SLN</td>\n      <td>NL</td>\n      <td>155</td>\n      <td>CHN</td>\n      <td>NL</td>\n      <td>155</td>\n      <td>1</td>\n      <td>...</td>\n      <td>Javier Baez</td>\n      <td>5</td>\n      <td>rossd001</td>\n      <td>David Ross</td>\n      <td>2</td>\n      <td>lestj001</td>\n      <td>Jon Lester</td>\n      <td>1</td>\n      <td>NaN</td>\n      <td>Y</td>\n    </tr>\n    <tr>\n      <th>2321</th>\n      <td>20160925</td>\n      <td>0</td>\n      <td>Sun</td>\n      <td>ANA</td>\n      <td>AL</td>\n      <td>156</td>\n      <td>HOU</td>\n      <td>AL</td>\n      <td>156</td>\n      <td>1</td>\n      <td>...</td>\n      <td>Tyler White</td>\n      <td>10</td>\n      <td>kempt001</td>\n      <td>Tony Kemp</td>\n      <td>7</td>\n      <td>marij002</td>\n      <td>Jake Marisnick</td>\n      <td>8</td>\n      <td>NaN</td>\n      <td>Y</td>\n    </tr>\n    <tr>\n      <th>2320</th>\n      <td>20160925</td>\n      <td>0</td>\n      <td>Sun</td>\n      <td>KCA</td>\n      <td>AL</td>\n      <td>156</td>\n      <td>DET</td>\n      <td>AL</td>\n      <td>155</td>\n      <td>12</td>\n      <td>...</td>\n      <td>Erick Aybar</td>\n      <td>5</td>\n      <td>saltj001</td>\n      <td>Jarrod Saltalamacchia</td>\n      <td>2</td>\n      <td>romia001</td>\n      <td>Andrew Romine</td>\n      <td>6</td>\n      <td>NaN</td>\n      <td>Y</td>\n    </tr>\n    <tr>\n      <th>2330</th>\n      <td>20160925</td>\n      <td>0</td>\n      <td>Sun</td>\n      <td>WAS</td>\n      <td>NL</td>\n      <td>155</td>\n      <td>PIT</td>\n      <td>NL</td>\n      <td>155</td>\n      <td>10</td>\n      <td>...</td>\n      <td>Pedro Florimon</td>\n      <td>4</td>\n      <td>fryee001</td>\n      <td>Eric Fryer</td>\n      <td>2</td>\n      <td>glast001</td>\n      <td>Tyler Glasnow</td>\n      <td>1</td>\n      <td>NaN</td>\n      <td>Y</td>\n    </tr>\n    <tr>\n      <th>2323</th>\n      <td>20160925</td>\n      <td>0</td>\n      <td>Sun</td>\n      <td>TEX</td>\n      <td>AL</td>\n      <td>156</td>\n      <td>OAK</td>\n      <td>AL</td>\n      <td>155</td>\n      <td>1</td>\n      <td>...</td>\n      <td>Bruce Maxwell</td>\n      <td>2</td>\n      <td>eibnb001</td>\n      <td>Brett Eibner</td>\n      <td>8</td>\n      <td>olsom001</td>\n      <td>Matt Olson</td>\n      <td>9</td>\n      <td>NaN</td>\n      <td>Y</td>\n    </tr>\n    <tr>\n      <th>2331</th>\n      <td>20160925</td>\n      <td>0</td>\n      <td>Sun</td>\n      <td>SFN</td>\n      <td>NL</td>\n      <td>156</td>\n      <td>SDN</td>\n      <td>NL</td>\n      <td>156</td>\n      <td>3</td>\n      <td>...</td>\n      <td>Austin Hedges</td>\n      <td>2</td>\n      <td>richc002</td>\n      <td>Clayton Richard</td>\n      <td>1</td>\n      <td>jankt001</td>\n      <td>Travis Jankowski</td>\n      <td>9</td>\n      <td>NaN</td>\n      <td>Y</td>\n    </tr>\n    <tr>\n      <th>2313</th>\n      <td>20160924</td>\n      <td>0</td>\n      <td>Sat</td>\n      <td>ATL</td>\n      <td>NL</td>\n      <td>155</td>\n      <td>MIA</td>\n      <td>NL</td>\n      <td>155</td>\n      <td>4</td>\n      <td>...</td>\n      <td>J.T. Realmuto</td>\n      <td>2</td>\n      <td>hecha001</td>\n      <td>Adeiny Hechavarria</td>\n      <td>6</td>\n      <td>chenw001</td>\n      <td>Wei-Yin Chen</td>\n      <td>1</td>\n      <td>NaN</td>\n      <td>Y</td>\n    </tr>\n  </tbody>\n</table>\n<p>30 rows × 161 columns</p>\n</div>"
     },
     "metadata": {},
     "execution_count": 99
    }
   ],
   "source": [
    "# find all final home games of the season. \n",
    "# (there are 162 games in a season)\n",
    "\n",
    "teams = list(set(df[3]))\n",
    "\n",
    "last_home_games = pd.DataFrame()\n",
    "\n",
    "for team in teams:\n",
    "    last_home_game = df[df[3] == team].sort_values(df.columns[0], ascending=False).head(1)\n",
    "    last_home_games = last_home_games.append(last_home_game)\n",
    "\n",
    "last_home_games.sort_values(df.columns[0], ascending=False)\n"
   ]
  }
 ],
 "metadata": {
  "kernelspec": {
   "display_name": "Python 3",
   "language": "python",
   "name": "python3"
  },
  "language_info": {
   "codemirror_mode": {
    "name": "ipython",
    "version": 3
   },
   "file_extension": ".py",
   "mimetype": "text/x-python",
   "name": "python",
   "nbconvert_exporter": "python",
   "pygments_lexer": "ipython3",
   "version": "3.8.5-final"
  }
 },
 "nbformat": 4,
 "nbformat_minor": 2
}