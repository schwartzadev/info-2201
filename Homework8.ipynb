{
 "cells": [
  {
   "cell_type": "code",
   "execution_count": 82,
   "metadata": {
    "tags": []
   },
   "outputs": [
    {
     "output_type": "stream",
     "name": "stdout",
     "text": [
      "Genre Name \t\tNumber of Albums\nRock \t\t 318\nFunk / Soul \t\t 51\nElectronic \t\t 45\nHip Hop \t\t 34\nJazz \t\t 19\nFolk \t\t 13\nBlues \t\t 9\nReggae \t\t 7\nPop \t\t 2\nClassical \t\t 1\nLatin \t\t 1\n"
     ]
    },
    {
     "output_type": "execute_result",
     "data": {
      "text/plain": [
       "{'Rock': 318,\n",
       " 'Funk / Soul': 51,\n",
       " 'Electronic': 45,\n",
       " 'Hip Hop': 34,\n",
       " 'Jazz': 19,\n",
       " 'Folk': 13,\n",
       " 'Blues': 9,\n",
       " 'Reggae': 7,\n",
       " 'Pop': 2,\n",
       " 'Classical': 1,\n",
       " 'Latin': 1}"
      ]
     },
     "metadata": {},
     "execution_count": 82
    }
   ],
   "source": [
    "# Problem 1\n",
    "# Write a function to read through the Rolling Stone Top 500 album list and create a \n",
    "# dictionary where the key is the primary genre and the value is a list of all of the \n",
    "# albums of that genre. For albums that have multiple primary genres, just use the first\n",
    "# genre listed. Your function should take a filename as a parameter. \n",
    "# When your function finishes reading the file, it should print the genre names and the \n",
    "# number of albums from each genre that are in the Top 500.  Here is the expected output:\n",
    "\n",
    "import pandas as pd\n",
    "from sortdictionary import sortDictionaryByValues\n",
    "\n",
    "def get_genres(df: pd.DataFrame):\n",
    "    genres = list(set(df['Genre']))\n",
    "    # print(genres)\n",
    "    split_genres = []\n",
    "    for genre in genres:\n",
    "        split_genres.append(genre.split(',')[0])\n",
    "\n",
    "    return list(set(split_genres))\n",
    "    \n",
    "\n",
    "def rs_500_genre_summary(filename: str):\n",
    "    df = pd.read_csv(filename)\n",
    "    genres = get_genres(df)\n",
    "\n",
    "    genre_summary = {} # values are lists\n",
    "    for genre in genres:\n",
    "        genre_summary[genre] = df[df[\"Genre\"].str.startswith(genre)]\n",
    "    \n",
    "    genre_summary_counts = {} # values are counts\n",
    "    for key in genre_summary:\n",
    "        genre_summary_counts[key] = len(genre_summary[key])\n",
    "\n",
    "    sorted_genre_summary = sortDictionaryByValues(genre_summary_counts, ascending=False)\n",
    "    print('Genre Name \\t\\tNumber of Albums')\n",
    "    for key in sorted_genre_summary:\n",
    "        print(key, '\\t\\t', len(genre_summary[key]))\n",
    "    \n",
    "    return sorted_genre_summary\n",
    "\n",
    "\n",
    "rs_500_genre_summary('RollingStoneAlbumList.csv')\n",
    "\n",
    "\n",
    "# Use three tabs between the two columns. (The columns might not line up perfectly.  \n",
    "# Don’t worry about that.)  The genres should be printed out in the order of most to least for number of albums. \n",
    "# Use the function sortDictionaryByValues in the file sortdictionary.py to sort your dictionary. \n",
    "\n",
    "# Hint: Use the csv module.  It will make your life quite a bit easier.\n"
   ]
  },
  {
   "cell_type": "code",
   "execution_count": 84,
   "metadata": {
    "tags": []
   },
   "outputs": [
    {
     "output_type": "execute_result",
     "data": {
      "text/plain": [
       "          Genre Count\n",
       "2          Rock   318\n",
       "4   Funk / Soul    51\n",
       "10   Electronic    45\n",
       "0       Hip Hop    34\n",
       "9          Jazz    19\n",
       "1          Folk    13\n",
       "8         Blues     9\n",
       "7        Reggae     7\n",
       "3           Pop     2\n",
       "5     Classical     1\n",
       "6         Latin     1"
      ],
      "text/html": "<div>\n<style scoped>\n    .dataframe tbody tr th:only-of-type {\n        vertical-align: middle;\n    }\n\n    .dataframe tbody tr th {\n        vertical-align: top;\n    }\n\n    .dataframe thead th {\n        text-align: right;\n    }\n</style>\n<table border=\"1\" class=\"dataframe\">\n  <thead>\n    <tr style=\"text-align: right;\">\n      <th></th>\n      <th>Genre</th>\n      <th>Count</th>\n    </tr>\n  </thead>\n  <tbody>\n    <tr>\n      <th>2</th>\n      <td>Rock</td>\n      <td>318</td>\n    </tr>\n    <tr>\n      <th>4</th>\n      <td>Funk / Soul</td>\n      <td>51</td>\n    </tr>\n    <tr>\n      <th>10</th>\n      <td>Electronic</td>\n      <td>45</td>\n    </tr>\n    <tr>\n      <th>0</th>\n      <td>Hip Hop</td>\n      <td>34</td>\n    </tr>\n    <tr>\n      <th>9</th>\n      <td>Jazz</td>\n      <td>19</td>\n    </tr>\n    <tr>\n      <th>1</th>\n      <td>Folk</td>\n      <td>13</td>\n    </tr>\n    <tr>\n      <th>8</th>\n      <td>Blues</td>\n      <td>9</td>\n    </tr>\n    <tr>\n      <th>7</th>\n      <td>Reggae</td>\n      <td>7</td>\n    </tr>\n    <tr>\n      <th>3</th>\n      <td>Pop</td>\n      <td>2</td>\n    </tr>\n    <tr>\n      <th>5</th>\n      <td>Classical</td>\n      <td>1</td>\n    </tr>\n    <tr>\n      <th>6</th>\n      <td>Latin</td>\n      <td>1</td>\n    </tr>\n  </tbody>\n</table>\n</div>"
     },
     "metadata": {},
     "execution_count": 84
    }
   ],
   "source": [
    "# Problem 2\n",
    "# Write a function to read through the Rolling Stone Top 500 album list using Pandas and output two columns \n",
    "# where the first column is primary genre name and the second column is number of albums in that genre.  \n",
    "# For albums that have multiple primary genres, just use the first genre listed. \n",
    "# Your function should take the csv filename as a parameter. The data should be sorted by number of albums, \n",
    "# from greatest to least.\n",
    "\n",
    "# The output should have identical totals to the output in Problem 1, but just print the two relevant columns.\n",
    "\n",
    "# Hint: You should probably create a column named “Primary Genre” and populate it accordingly.\n",
    "\n",
    "import pandas as pd\n",
    "from sortdictionary import sortDictionaryByValues\n",
    "\n",
    "def rs_500_pandas_genre_summary(filename: str):\n",
    "    df = pd.read_csv(filename)\n",
    "\n",
    "    for index, row in df.iterrows():\n",
    "        df.at[index,'Primary Genre'] = row['Genre'].split(',')[0]\n",
    "\n",
    "    genres_df = pd.DataFrame(columns=[\"Genre\", \"Count\"])\n",
    "\n",
    "    genres_df['Genre']=list(set(df[\"Primary Genre\"].values))\n",
    "\n",
    "    for index, row in genres_df.iterrows():\n",
    "        genres_df.at[index, 'Count'] = len(df[df['Primary Genre'] == row['Genre']])\n",
    "\n",
    "    return genres_df.sort_values(by='Count', ascending=False)\n",
    "\n",
    "\n",
    "rs_500_pandas_genre_summary('RollingStoneAlbumList.csv')\n"
   ]
  },
  {
   "cell_type": "code",
   "execution_count": null,
   "metadata": {},
   "outputs": [],
   "source": [
    "# Extra Credit\n",
    "\n",
    "# Using the batting.csv file, determine which year had the most homeruns.  How many homeruns were there?\n",
    "# Plot the homeruns per year."
   ]
  }
 ],
 "metadata": {
  "kernelspec": {
   "display_name": "Python 3",
   "language": "python",
   "name": "python3"
  },
  "language_info": {
   "codemirror_mode": {
    "name": "ipython",
    "version": 3
   },
   "file_extension": ".py",
   "mimetype": "text/x-python",
   "name": "python",
   "nbconvert_exporter": "python",
   "pygments_lexer": "ipython3",
   "version": "3.8.5-final"
  }
 },
 "nbformat": 4,
 "nbformat_minor": 2
}