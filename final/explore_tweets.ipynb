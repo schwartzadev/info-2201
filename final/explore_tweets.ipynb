{
 "cells": [
  {
   "cell_type": "code",
   "execution_count": 3,
   "metadata": {},
   "outputs": [],
   "source": [
    "# Import and configure the sentiment analyzer.\n",
    "from vaderSentiment.vaderSentiment import SentimentIntensityAnalyzer\n",
    "\n",
    "analyser = SentimentIntensityAnalyzer()\n",
    "\n",
    "TWEETS_DATABASE_FILENAME = 'tweets_data.db'"
   ]
  },
  {
   "cell_type": "code",
   "execution_count": 8,
   "metadata": {},
   "outputs": [
    {
     "name": "stdout",
     "output_type": "stream",
     "text": [
      "Getting tweets...\n",
      "314104 tweets already have sentiment data\n"
     ]
    }
   ],
   "source": [
    "conn = sqlite3.connect(TWEETS_DATABASE_FILENAME)\n",
    "\n",
    "with conn:\n",
    "    cur = conn.cursor()\n",
    "\n",
    "    print('Getting tweets...')\n",
    "    completed_tweets_count = cur.execute(\"\"\"\n",
    "        SELECT\n",
    "            COUNT(id)\n",
    "        FROM\n",
    "            tweets\n",
    "        WHERE\n",
    "            sentiment IS NOT NULL\n",
    "    \"\"\").fetchone()[0]\n",
    "    \n",
    "    print(completed_tweets_count, 'tweets already have sentiment data')\n"
   ]
  },
  {
   "cell_type": "code",
   "execution_count": null,
   "metadata": {
    "scrolled": true
   },
   "outputs": [
    {
     "name": "stdout",
     "output_type": "stream",
     "text": [
      "Getting tweets...\n"
     ]
    }
   ],
   "source": [
    "import sqlite3\n",
    "import os\n",
    "import json\n",
    "\n",
    "conn = sqlite3.connect(TWEETS_DATABASE_FILENAME)\n",
    "conn.isolation_level = \"DEFERRED\"\n",
    "\n",
    "has_null_sentiment_tweets = True\n",
    "\n",
    "completed_batches_count = 0\n",
    "\n",
    "insert_batch_size = 10000\n",
    "\n",
    "\n",
    "def insert_batch_to_db(values_to_commit):\n",
    "    \"\"\"\n",
    "    Batch insert tweet data into the database.\n",
    "    \"\"\"\n",
    "    sql = \"\"\"\n",
    "        INSERT OR REPLACE INTO\n",
    "            tweets (id, sentiment, data) \n",
    "        VALUES (\n",
    "            ?, \n",
    "            ?,\n",
    "            (\n",
    "                SELECT\n",
    "                    data\n",
    "                FROM\n",
    "                    tweets\n",
    "                WHERE\n",
    "                    id = ?\n",
    "            )\n",
    "        );\n",
    "    \"\"\"\n",
    "    cur.executemany(sql, values_to_commit)\n",
    "\n",
    "\n",
    "def generate_and_insert_tweets(results):\n",
    "    \"\"\"\n",
    "    Generates sentiment data and updates the database with the new data, given SQL results.\n",
    "    \"\"\"\n",
    "    values_to_commit = []\n",
    "    for index, result in enumerate(results):\n",
    "        tweet_text = result[0]\n",
    "        tweet_id = result[1]\n",
    "\n",
    "        sentiment_scores = analyser.polarity_scores(tweet_text)\n",
    "\n",
    "        values_to_commit.append(\n",
    "            [tweet_id, json.dumps(sentiment_scores), tweet_id])\n",
    "\n",
    "        if (index + 1) % insert_batch_size == 0:\n",
    "            insert_batch_to_db(values_to_commit)\n",
    "\n",
    "            print('updated tweet',\n",
    "                  (completed_batches_count * 50000) + index + 1)\n",
    "            values_to_commit = []  # Reset to empty\n",
    "\n",
    "\n",
    "with conn:\n",
    "    cur = conn.cursor()\n",
    "\n",
    "    while has_null_sentiment_tweets:\n",
    "        print('Getting tweets...')\n",
    "\n",
    "        # Query sentiment data in batches of 50k\n",
    "        cur.execute(\"\"\"\n",
    "            SELECT\n",
    "                json_extract(data, '$.text'), id\n",
    "            FROM\n",
    "                tweets\n",
    "            WHERE\n",
    "                sentiment IS NULL\n",
    "            LIMIT 50000\n",
    "        \"\"\")\n",
    "        results = cur.fetchall()\n",
    "\n",
    "        # Case: all tweets already have sentiment data\n",
    "        if len(results) == 0:\n",
    "            has_null_sentiment_tweets = False\n",
    "            break\n",
    "\n",
    "        values_to_commit = []\n",
    "\n",
    "        cur.execute(\"begin\")\n",
    "        try:\n",
    "            generate_and_insert_tweets(results)\n",
    "        except sqlite3.Error as e:\n",
    "            cur.execute('rollback')\n",
    "        finally:\n",
    "            conn.execute('commit')\n",
    "\n",
    "        completed_batches_count += 1"
   ]
  },
  {
   "cell_type": "code",
   "execution_count": 12,
   "metadata": {
    "scrolled": false
   },
   "outputs": [
    {
     "name": "stdout",
     "output_type": "stream",
     "text": [
      "Getting count...\n",
      "629111 database record(s) have sentiment information\n"
     ]
    }
   ],
   "source": [
    "import sqlite3\n",
    "\n",
    "conn = sqlite3.connect(TWEETS_DATABASE_FILENAME)\n",
    "\n",
    "with conn:\n",
    "    cur = conn.cursor()\n",
    "    print('Getting count...')\n",
    "    cur.execute(\"SELECT COUNT(id) FROM tweets WHERE sentiment NOT NULL\")\n",
    "    print(cur.fetchone()[0], 'database record(s) have sentiment information')"
   ]
  },
  {
   "cell_type": "code",
   "execution_count": null,
   "metadata": {},
   "outputs": [],
   "source": []
  }
 ],
 "metadata": {
  "kernelspec": {
   "display_name": "Python 3",
   "language": "python",
   "name": "python3"
  },
  "language_info": {
   "codemirror_mode": {
    "name": "ipython",
    "version": 3
   },
   "file_extension": ".py",
   "mimetype": "text/x-python",
   "name": "python",
   "nbconvert_exporter": "python",
   "pygments_lexer": "ipython3",
   "version": "3.8.2"
  }
 },
 "nbformat": 4,
 "nbformat_minor": 4
}
