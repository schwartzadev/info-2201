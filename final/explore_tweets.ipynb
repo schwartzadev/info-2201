{
 "cells": [
  {
   "cell_type": "code",
   "execution_count": 3,
   "metadata": {},
   "outputs": [],
   "source": [
    "# Import and configure the sentiment analyzer.\n",
    "from vaderSentiment.vaderSentiment import SentimentIntensityAnalyzer\n",
    "\n",
    "analyser = SentimentIntensityAnalyzer()\n",
    "\n",
    "TWEETS_DATABASE_FILENAME = 'tweets_data.db'"
   ]
  },
  {
   "cell_type": "code",
   "execution_count": 77,
   "metadata": {},
   "outputs": [
    {
     "name": "stdout",
     "output_type": "stream",
     "text": [
      "50000\n",
      "updated tweet 5001 of 50000\n",
      "updated tweet 10001 of 50000\n",
      "updated tweet 15001 of 50000\n",
      "updated tweet 20001 of 50000\n",
      "updated tweet 25001 of 50000\n",
      "updated tweet 30001 of 50000\n",
      "updated tweet 35001 of 50000\n",
      "updated tweet 40001 of 50000\n",
      "updated tweet 45001 of 50000\n"
     ]
    }
   ],
   "source": [
    "import datetime # debuggging\n",
    "import sqlite3\n",
    "import os\n",
    "import json\n",
    "\n",
    "conn = sqlite3.connect(TWEETS_DATABASE_FILENAME)\n",
    "conn.isolation_level = \"DEFERRED\"\n",
    "\n",
    "with conn:\n",
    "    cur = conn.cursor()\n",
    "    print('Getting tweets...')\n",
    "    cur.execute(\"\"\"\n",
    "    SELECT json_extract(data, '$.text'), id FROM tweets WHERE sentiment IS NULL LIMIT 50000\n",
    "    \"\"\")\n",
    "    results = cur.fetchall()\n",
    "    cur.execute(\"begin\")\n",
    "    try:\n",
    "        values_to_commit = []\n",
    "        for index, result in enumerate(results):\n",
    "            tweet_text = result[0]\n",
    "            tweet_id = result[1]\n",
    "            \n",
    "            start_sentiment = datetime.datetime.now() # debugging\n",
    "            sentiment_scores = analyser.polarity_scores(tweet_text)\n",
    "            end_sentiment = datetime.datetime.now() # debugging\n",
    "            \n",
    "            values_to_commit.append([tweet_id, json.dumps(sentiment_scores), tweet_id])\n",
    "            \n",
    "            if index % 5000 == 0 and index != 0:\n",
    "                sql = \"\"\"\n",
    "                    INSERT OR REPLACE INTO tweets (id, sentiment, data) \n",
    "                    VALUES (\n",
    "                        ?, \n",
    "                        ?,\n",
    "                        (SELECT data FROM tweets WHERE id = ?)\n",
    "                    );\n",
    "                \"\"\"\n",
    "\n",
    "                cur.executemany(sql, values_to_commit)\n",
    "                end_update = datetime.datetime.now() # debugging\n",
    "\n",
    "                print('updated tweet', index+1, 'of', len(results))\n",
    "\n",
    "                values_to_commit = []\n",
    "    except Error as e:\n",
    "        cur.execute('rollback')\n",
    "    finally:\n",
    "        conn.execute('commit')"
   ]
  },
  {
   "cell_type": "code",
   "execution_count": 4,
   "metadata": {
    "scrolled": false
   },
   "outputs": [
    {
     "name": "stdout",
     "output_type": "stream",
     "text": [
      "Getting count...\n",
      "314104 database record(s) have sentiment information\n"
     ]
    }
   ],
   "source": [
    "import sqlite3\n",
    "\n",
    "conn = sqlite3.connect(TWEETS_DATABASE_FILENAME)\n",
    "\n",
    "with conn:\n",
    "    cur = conn.cursor()\n",
    "    print('Getting count...')\n",
    "    cur.execute(\"SELECT COUNT(id) FROM tweets WHERE sentiment NOT NULL\")\n",
    "    print(cur.fetchone()[0], 'database record(s) have sentiment information')"
   ]
  },
  {
   "cell_type": "code",
   "execution_count": null,
   "metadata": {},
   "outputs": [],
   "source": []
  },
  {
   "cell_type": "code",
   "execution_count": null,
   "metadata": {},
   "outputs": [],
   "source": []
  }
 ],
 "metadata": {
  "kernelspec": {
   "display_name": "Python 3",
   "language": "python",
   "name": "python3"
  },
  "language_info": {
   "codemirror_mode": {
    "name": "ipython",
    "version": 3
   },
   "file_extension": ".py",
   "mimetype": "text/x-python",
   "name": "python",
   "nbconvert_exporter": "python",
   "pygments_lexer": "ipython3",
   "version": "3.8.2"
  }
 },
 "nbformat": 4,
 "nbformat_minor": 4
}
