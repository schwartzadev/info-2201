{
 "cells": [
  {
   "cell_type": "code",
   "execution_count": 9,
   "metadata": {},
   "outputs": [
    {
     "output_type": "stream",
     "name": "stdout",
     "text": [
      "3.141592653589793115997963\n9.81E+00\n6.67408E-11\n"
     ]
    }
   ],
   "source": [
    "# Problem 1: formatting\n",
    "\n",
    "# format pi to 25 decimal places\n",
    "import math\n",
    "\n",
    "print('{0:.25}'.format(math.pi))\n",
    "\n",
    "# standard gravity on earth is 9.80665 m/s^2\n",
    "standardGrav = 9.80665\n",
    "\n",
    "print('{0:.2E}'.format(standardGrav))\n",
    "\n",
    "# print standard gravity using scientific notation and 2 decimal places\n",
    "\n",
    "\n",
    "# the gravitational constant G is .0000000000667408\n",
    "# print it using scientific notation and 5 decimal places\n",
    "\n",
    "gravConstant = 0.0000000000667408\n",
    "\n",
    "print('{0:.5E}'.format(gravConstant))\n"
   ]
  },
  {
   "cell_type": "code",
   "execution_count": 32,
   "metadata": {},
   "outputs": [
    {
     "output_type": "stream",
     "name": "stdout",
     "text": [
      "0\n1\n10\n11\n100\n101\n110\n111\n1000\n1001\n1010\n1011\n1100\n1101\n1110\n1111\n10000\n10001\n10010\n10011\n10100\n10101\n10110\n10111\n11000\n11001\n11010\n11011\n11100\n11101\n11110\n11111\n100000\n"
     ]
    }
   ],
   "source": [
    "# print the integers 0 through 32, one number on each line, in binary\n",
    "\n",
    "for x in range(33):\n",
    "    vals = []\n",
    "    while (x > 0):\n",
    "        to_add = x % 2\n",
    "        vals.append(to_add)\n",
    "        x = x // 2\n",
    "    vals.reverse()\n",
    "\n",
    "    if len(vals) == 0:\n",
    "        print(0) # zero does not pass the while condition, so the vals array will be empty here\n",
    "        continue\n",
    "\n",
    "    bin_as_string = ''\n",
    "    for v in vals:\n",
    "        bin_as_string += str(v)\n",
    "    print(bin_as_string)\n"
   ]
  },
  {
   "cell_type": "code",
   "execution_count": 33,
   "metadata": {},
   "outputs": [],
   "source": [
    "# Problem 2: Scrabble\n",
    "\n",
    "# use the .format function for all printing requirements.\n",
    "# when printing your answers, print them as sentences\n",
    "# e.g., \"There are 1405 words in the file.\"\n",
    "\n",
    "# if you are instructed to use a regular expression, \n",
    "# explain what each symbol means in the regular expression\n",
    "# e.g., \"\\w* means to match one or more alphabetical characters\"\n",
    "# if you do not include this information, you will not get credit for the problem\n",
    "\n",
    "import requests\n",
    "import re\n",
    "\n",
    "sowpods = requests.get(\"http://norvig.com/ngrams/sowpods.txt\").text"
   ]
  },
  {
   "cell_type": "code",
   "execution_count": 48,
   "metadata": {
    "tags": []
   },
   "outputs": [
    {
     "output_type": "stream",
     "name": "stdout",
     "text": [
      "There are 267751 words in the sowpods text file.\n"
     ]
    }
   ],
   "source": [
    "# How many words are in the sowpods text file?\n",
    "\n",
    "# remember, your answer should be in the form of a sentence and use the .format string method\n",
    "# e.g., \"There are ### words in the sowpods text file.\"\n",
    "\n",
    "words_count = len(sowpods.split('\\n')))\n",
    "\n",
    "# \\n is the new line character. it matches the new line character and is a character, not a regex.\n",
    "\n",
    "print(\"There are {0} words in the sowpods text file.\".format(words_count)"
   ]
  },
  {
   "cell_type": "code",
   "execution_count": 54,
   "metadata": {},
   "outputs": [
    {
     "output_type": "stream",
     "name": "stdout",
     "text": [
      "ACTINOLITES\n"
     ]
    }
   ],
   "source": [
    "# what word is at the list index corresponding with the current year?\n",
    "\n",
    "words = sowpods.split('\\n')\n",
    "\n",
    "from datetime import datetime\n",
    "\n",
    "print(words[datetime.now().year])"
   ]
  },
  {
   "cell_type": "code",
   "execution_count": 59,
   "metadata": {},
   "outputs": [
    {
     "output_type": "stream",
     "name": "stdout",
     "text": [
      "The longest word is ABIOGENETICALLY and it has 15 letters.\n"
     ]
    }
   ],
   "source": [
    "# what is the longest word in sowpods, and how many letters does it have?\n",
    "\n",
    "longest_word = ''\n",
    "length = 0\n",
    "\n",
    "for word in sowpods.split('\\n'):\n",
    "    if len(word) > length:\n",
    "        longest_word = word\n",
    "        length = len(word)\n",
    "\n",
    "print(\"The longest word is {0} and it has {1} letters.\".format(longest_word, length))"
   ]
  },
  {
   "cell_type": "code",
   "execution_count": 61,
   "metadata": {},
   "outputs": [],
   "source": [
    "# here are the point values for each letter\n",
    "letterValues = {'a':1,'b':3,'c':3,'d':2,'e':1,'f':4,'g':2,'h':4,'i':1,'j':8,'k':5,'l':1,'m':3,\n",
    "                 'n':1,'o':1,'p':3,'q':10,'r':1,'s':1,'t':1,'u':1,'v':4,'w':4,'x':8,'y':4,'z':10}"
   ]
  },
  {
   "cell_type": "code",
   "execution_count": 64,
   "metadata": {},
   "outputs": [
    {
     "output_type": "stream",
     "name": "stdout",
     "text": [
      "The highest scoring word that starts with the letter Z is ZYZZYVAS. It is worth 44 points.\n"
     ]
    }
   ],
   "source": [
    "# which word that starts with the letter Z has the most points?\n",
    "\n",
    "most_points_word = ''\n",
    "points_to_beat = 0\n",
    "\n",
    "def generate_points_from_word(word) -> int:\n",
    "    points = 0\n",
    "    for letter in word:\n",
    "        points += letterValues[letter.lower()]\n",
    "    return points\n",
    "\n",
    "for word in sowpods.split('\\n'):\n",
    "    points = generate_points_from_word(word)\n",
    "    if points > points_to_beat and word[0].lower() == 'z':\n",
    "        most_points_word = word\n",
    "        points_to_beat = points\n",
    "\n",
    "print(\"The highest scoring word that starts with the letter Z is {0}. It is worth {1} points.\".format(most_points_word, points_to_beat))\n"
   ]
  },
  {
   "cell_type": "code",
   "execution_count": 104,
   "metadata": {},
   "outputs": [
    {
     "output_type": "stream",
     "name": "stdout",
     "text": [
      "There are 178 words that start with Q and end with a vowel.\n"
     ]
    }
   ],
   "source": [
    "# how many words start with q and end with a vowel?\n",
    "# use a regular expression to find the answer\n",
    "\n",
    "import re\n",
    "\n",
    "pattern = re.compile(\"^Q[A-Z]*[AEUIO]$\")\n",
    "\n",
    "\"\"\"\n",
    "^        matches the beginning of the string\n",
    "Q        matches the literal 'Q'\n",
    "[A-Z]*   matches any capital letter, any number of times\n",
    "[AEIOU]  matches any capital vowel one time\n",
    "$        matches the end of the string\n",
    "\"\"\"\n",
    "\n",
    "count = 0\n",
    "for word in sowpods.split('\\n'):\n",
    "    if pattern.search(word) is not None:\n",
    "        count += 1\n",
    "\n",
    "print(\"There are {0} words that start with Q and end with a vowel.\".format(count))\n",
    "\n"
   ]
  },
  {
   "cell_type": "code",
   "execution_count": 105,
   "metadata": {},
   "outputs": [
    {
     "output_type": "stream",
     "name": "stdout",
     "text": [
      "There are 84 words that have a Q not followed by a U.\n"
     ]
    }
   ],
   "source": [
    "# how many words have a q not followed by u?\n",
    "# use a regular expression to find the answer\n",
    "import re\n",
    "\n",
    "pattern = re.compile(r\"(Q$)|(Q[^U])\")\n",
    "\n",
    "# This is confusing that this includes words that end in Q...\n",
    "\n",
    "\"\"\"\n",
    "Q        matches the literal 'Q'\n",
    "$        matches the end of the string\n",
    "(Q$)     matches words that end in Q\n",
    "\n",
    "[^U]     matches any character except 'U'\n",
    "(Q[^U])  matches words that have the letter 'Q' followed by a letter that is not 'U'.\n",
    "\"\"\"\n",
    "\n",
    "count = 0\n",
    "for word in sowpods.split('\\n'):\n",
    "    if pattern.search(word) is not None:\n",
    "        count += 1\n",
    "\n",
    "print(\"There are {0} words that have a Q not followed by a U.\".format(count))"
   ]
  },
  {
   "cell_type": "code",
   "execution_count": 103,
   "metadata": {},
   "outputs": [
    {
     "output_type": "stream",
     "name": "stdout",
     "text": [
      "['BUQSHA', 'BUQSHAS', 'BURQA', 'BURQAS', 'FAQIR', 'FAQIRS', 'INQILAB', 'INQILABS', 'MBAQANGA', 'MBAQANGAS', 'MUQADDAM', 'MUQADDAMS', 'NIQAB', 'NIQABS', 'QABALA', 'QABALAH', 'QABALAHS', 'QABALAS', 'QABALISM', 'QABALISMS', 'QABALIST', 'QABALISTIC', 'QABALISTS', 'QADI', 'QADIS', 'QAID', 'QAIDS', 'QAIMAQAM', 'QAIMAQAMS', 'QALAMDAN', 'QALAMDANS', 'QANAT', 'QANATS', 'QASIDA', 'QASIDAS', 'QAT', 'QATS', 'QAWWAL', 'QAWWALI', 'QAWWALIS', 'QAWWALS', 'QI', 'QIBLA', 'QIBLAS', 'QIGONG', 'QIGONGS', 'QINDAR', 'QINDARKA', 'QINDARS', 'QINGHAOSU', 'QINGHAOSUS', 'QINTAR', 'QINTARS', 'QIS', 'QIVIUT', 'QIVIUTS', 'QOPH', 'QOPHS', 'QORMA', 'QORMAS', 'QWERTIES', 'QWERTY', 'QWERTYS', 'SHEQALIM', 'SHEQEL', 'SHEQELS', 'SUQ', 'SUQS', 'TALAQ', 'TALAQS', 'TRANQ', 'TRANQS', 'TSADDIQ', 'TSADDIQIM', 'TSADDIQS', 'TZADDIQ', 'TZADDIQIM', 'TZADDIQS', 'UMIAQ', 'UMIAQS', 'WAQF', 'WAQFS', 'YAQONA', 'YAQONAS']\n"
     ]
    }
   ],
   "source": [
    "# what are the words that have a q not followed by a u?\n",
    "import re\n",
    "\n",
    "pattern = re.compile(r\"(Q$)|(Q[^U])\")\n",
    "\n",
    "\"\"\"\n",
    "Q        matches the literal 'Q'\n",
    "[^U]     matches any character except 'U'\n",
    "\"\"\"\n",
    "\n",
    "words = []\n",
    "for word in sowpods.split('\\n'):\n",
    "    if pattern.search(word) is not None:\n",
    "        words.append(word)\n",
    "\n",
    "\n",
    "expected = ['BUQSHA', 'BUQSHAS', 'BURQA', 'BURQAS', 'FAQIR', 'FAQIRS', 'INQILAB', 'INQILABS', 'MBAQANGA', 'MBAQANGAS', 'MUQADDAM', 'MUQADDAMS', 'NIQAB', 'NIQABS', 'QABALA', 'QABALAH', 'QABALAHS', 'QABALAS', 'QABALISM', 'QABALISMS', 'QABALIST', 'QABALISTIC', 'QABALISTS', 'QADI', 'QADIS', 'QAID', 'QAIDS', 'QAIMAQAM', 'QAIMAQAMS', 'QALAMDAN', 'QALAMDANS', 'QANAT', 'QANATS', 'QASIDA', 'QASIDAS', 'QAT', 'QATS', 'QAWWAL', 'QAWWALI', 'QAWWALIS', 'QAWWALS', 'QI', 'QIBLA', 'QIBLAS', 'QIGONG', 'QIGONGS', 'QINDAR', 'QINDARKA', 'QINDARS', 'QINGHAOSU', 'QINGHAOSUS', 'QINTAR', 'QINTARS', 'QIS', 'QIVIUT', 'QIVIUTS', 'QOPH', 'QOPHS', 'QORMA', 'QORMAS', 'QWERTIES', 'QWERTY', 'QWERTYS', 'SHEQALIM', 'SHEQEL', 'SHEQELS', 'SUQ', 'SUQS', 'TALAQ', 'TALAQS', 'TRANQ', 'TRANQS', 'TSADDIQ', 'TSADDIQIM', 'TSADDIQS', 'TZADDIQ', 'TZADDIQIM', 'TZADDIQS', 'UMIAQ', 'UMIAQS', 'WAQF', 'WAQFS', 'YAQONA', 'YAQONAS']\n",
    "\n",
    "# Check output\n",
    "assert expected == words\n",
    "\n",
    "print(words)"
   ]
  },
  {
   "cell_type": "code",
   "execution_count": 107,
   "metadata": {},
   "outputs": [
    {
     "output_type": "stream",
     "name": "stdout",
     "text": [
      "There are 7782 words that start start and end with a vowel.\n"
     ]
    }
   ],
   "source": [
    "# how many words start with a vowel and end with a vowel?\n",
    "# use a regular expression to find the answer\n",
    "import re\n",
    "\n",
    "pattern = re.compile(\"^[AEUIO][A-Z]*[AEUIO]$\")\n",
    "\n",
    "\"\"\"\n",
    "^        matches the beginning of the string\n",
    "[AEIOU]  matches any capital vowel one time\n",
    "[A-Z]*   matches any capital letter, any number of times\n",
    "[AEIOU]  matches any capital vowel one time (again)\n",
    "$        matches the end of the string\n",
    "\"\"\"\n",
    "\n",
    "count = 0\n",
    "for word in sowpods.split('\\n'):\n",
    "    if pattern.search(word) is not None:\n",
    "        count += 1\n",
    "\n",
    "print(\"There are {0} words that start start and end with a vowel.\".format(count))\n",
    "\n"
   ]
  },
  {
   "cell_type": "code",
   "execution_count": 108,
   "metadata": {},
   "outputs": [
    {
     "output_type": "stream",
     "name": "stdout",
     "text": [
      "The longest word that starts with a vowel and ends with a vowel is ACKNOWLEDGEABLE. It has 15 letters.\n"
     ]
    }
   ],
   "source": [
    "# what's the longest word that starts with a vowel and ends with a vowel?\n",
    "import re\n",
    "\n",
    "pattern = re.compile(\"^[AEUIO][A-Z]*[AEUIO]$\")\n",
    "\n",
    "\"\"\"\n",
    "^        matches the beginning of the string\n",
    "[AEIOU]  matches any capital vowel one time\n",
    "[A-Z]*   matches any capital letter, any number of times\n",
    "[AEIOU]  matches any capital vowel one time (again)\n",
    "$        matches the end of the string\n",
    "\"\"\"\n",
    "\n",
    "vowel_words = []\n",
    "for word in sowpods.split('\\n'):\n",
    "    if pattern.search(word) is not None:\n",
    "        vowel_words.append(word)\n",
    "\n",
    "\n",
    "longest_word = ''\n",
    "length = 0\n",
    "\n",
    "for word in vowel_words:\n",
    "    if len(word) > length:\n",
    "        longest_word = word\n",
    "        length = len(word)\n",
    "\n",
    "print('The longest word that starts with a vowel and ends with a vowel is {0}. It has {1} letters.'.format(longest_word, length))"
   ]
  },
  {
   "cell_type": "code",
   "execution_count": 110,
   "metadata": {},
   "outputs": [
    {
     "output_type": "stream",
     "name": "stdout",
     "text": [
      "['XEROX']\n"
     ]
    }
   ],
   "source": [
    "# what words start with an X and end with an X?\n",
    "import re\n",
    "\n",
    "pattern = re.compile(\"^X[A-Z]*X$\")\n",
    "\n",
    "\"\"\"\n",
    "^        matches the beginning of the string\n",
    "X        matches the literal 'X'\n",
    "[A-Z]*   matches any capital letter, any number of times\n",
    "X        matches the literal 'X'\n",
    "$        matches the end of the string\n",
    "\"\"\"\n",
    "\n",
    "x_words = []\n",
    "for word in sowpods.split('\\n'):\n",
    "    if pattern.search(word) is not None:\n",
    "        x_words.append(word)\n",
    "\n",
    "print(x_words)"
   ]
  },
  {
   "cell_type": "code",
   "execution_count": 111,
   "metadata": {},
   "outputs": [
    {
     "output_type": "stream",
     "name": "stdout",
     "text": [
      "['ZIZ', 'ZIZZ', 'ZUZ', 'ZZZ']\n"
     ]
    }
   ],
   "source": [
    "# what words start with an Z and end with an Z?\n",
    "import re\n",
    "\n",
    "pattern = re.compile(\"^Z[A-Z]*Z$\")\n",
    "\n",
    "\"\"\"\n",
    "^        matches the beginning of the string\n",
    "Z        matches the literal 'Z'\n",
    "[A-Z]*   matches any capital letter, any number of times\n",
    "Z        matches the literal 'Z'\n",
    "$        matches the end of the string\n",
    "\"\"\"\n",
    "\n",
    "z_words = []\n",
    "for word in sowpods.split('\\n'):\n",
    "    if pattern.search(word) is not None:\n",
    "        z_words.append(word)\n",
    "\n",
    "print(z_words)"
   ]
  },
  {
   "cell_type": "code",
   "execution_count": 112,
   "metadata": {},
   "outputs": [
    {
     "output_type": "stream",
     "name": "stdout",
     "text": [
      "['ABUZZ', 'ADZ', 'ALFEREZ', 'ASSEZ']\n"
     ]
    }
   ],
   "source": [
    "# words that start with an A and ends with a Z?\n",
    "import re\n",
    "\n",
    "pattern = re.compile(\"^A[A-Z]*Z$\")\n",
    "\n",
    "\"\"\"\n",
    "^        matches the beginning of the string\n",
    "A        matches the literal 'A'\n",
    "[A-Z]*   matches any capital letter, any number of times\n",
    "Z        matches the literal 'Z'\n",
    "$        matches the end of the string\n",
    "\"\"\"\n",
    "\n",
    "az_words = []\n",
    "for word in sowpods.split('\\n'):\n",
    "    if pattern.search(word) is not None:\n",
    "        az_words.append(word)\n",
    "\n",
    "print(az_words)"
   ]
  },
  {
   "cell_type": "code",
   "execution_count": 114,
   "metadata": {},
   "outputs": [
    {
     "output_type": "stream",
     "name": "stdout",
     "text": [
      "111\n"
     ]
    }
   ],
   "source": [
    "# how many words have the word \"CODE\" in them?\n",
    "import re\n",
    "\n",
    "pattern = re.compile(\"CODE\")\n",
    "\n",
    "\"\"\"\n",
    "CODE     matches the literal 'CODE'\n",
    "\"\"\"\n",
    "\n",
    "count = 0\n",
    "for word in sowpods.split('\\n'):\n",
    "    if pattern.search(word) is not None:\n",
    "        count += 1\n",
    "\n",
    "print(count)"
   ]
  },
  {
   "cell_type": "code",
   "execution_count": 115,
   "metadata": {},
   "outputs": [
    {
     "output_type": "stream",
     "name": "stdout",
     "text": [
      "['PYTHON', 'PYTHONESS', 'PYTHONESSES', 'PYTHONIC', 'PYTHONOMORPH', 'PYTHONOMORPHS', 'PYTHONS']\n"
     ]
    }
   ],
   "source": [
    "# which words have the word \"PYTHON\" in them?\"\n",
    "import re\n",
    "\n",
    "pattern = re.compile(\"PYTHON\")\n",
    "\n",
    "\"\"\"\n",
    "PYTHON     matches the literal 'PYTHON'\n",
    "\"\"\"\n",
    "\n",
    "python_words = []\n",
    "for word in sowpods.split('\\n'):\n",
    "    if pattern.search(word) is not None:\n",
    "        python_words.append(word)\n",
    "\n",
    "print(python_words)"
   ]
  },
  {
   "cell_type": "code",
   "execution_count": 119,
   "metadata": {
    "tags": []
   },
   "outputs": [],
   "source": [
    "# problem 3: beatles lyrics\n",
    "# using the beatles lyrics file (allbeatleslyrics.txt), do the following"
   ]
  },
  {
   "cell_type": "code",
   "execution_count": 120,
   "metadata": {},
   "outputs": [],
   "source": [
    "# open file and store all text in a variable\n",
    "\n",
    "with open('AllBeatlesLyrics.txt') as file:\n",
    "    data = file.read()\n"
   ]
  },
  {
   "cell_type": "code",
   "execution_count": 122,
   "metadata": {},
   "outputs": [],
   "source": [
    "# if you look at the file contents, you'll notice several \\xa0 characters which is a non-breaking space.  \n",
    "# demonstrate how you would change these non-breaking spaces to normal spaces.\n",
    "# note: if you don't see these non-breaking space characters, that's okay, but you'll still need to write the\n",
    "# code to accomplish this task.\n",
    "\n",
    "data = data.replace('\\xa0', ' ')\n"
   ]
  },
  {
   "cell_type": "code",
   "execution_count": 128,
   "metadata": {},
   "outputs": [
    {
     "output_type": "stream",
     "name": "stdout",
     "text": [
      "The word love is used 688 times in these lyrics.\n"
     ]
    }
   ],
   "source": [
    "# how many times is the word \"love\" or \"Love\" used in the lyrics?\n",
    "# use a regular expression\n",
    "\n",
    "# (lovely, lover, loves, et cetera all count)\n",
    "\n",
    "import re\n",
    "\n",
    "pattern = re.compile(r\"Love\", re.IGNORECASE)\n",
    "\n",
    "\"\"\"\n",
    "Love     matches the literal 'Love'\n",
    "\"\"\"\n",
    "\n",
    "count = len(re.findall(pattern, data))\n",
    "\n",
    "print('The word love is used {0} times in these lyrics.'.format(count))\n",
    "\n",
    "assert count == 688"
   ]
  },
  {
   "cell_type": "code",
   "execution_count": 184,
   "metadata": {},
   "outputs": [
    {
     "output_type": "stream",
     "name": "stdout",
     "text": [
      "There are 441 phrases that start with the word love in these lyrics.\nThe longest phrase that starts with the word love is:\nlove Carve your number on my wall and maybe you will get a call from me If I needed someone Ah Ah Ah Ah Had you come some other day then it might not have been like this But you see now I\nIt contains 43 words.\n"
     ]
    }
   ],
   "source": [
    "# using regular expressions, how many phrases are there that start with the word \"love\"\n",
    "# or \"Love\"? Consider a phrase to be two or more words that ends with any punctuation mark \n",
    "# but does not include the punctuation.\n",
    "\n",
    "# what is the longest phrase containing the word love and how many words are in it?\n",
    "\n",
    "import re\n",
    "\n",
    "pattern = re.compile(r\"Love [A-z]* ?[A-z ]*\", re.IGNORECASE)\n",
    "\n",
    "\"\"\"\n",
    "Love     matches the literal 'Love'\n",
    "[A-z]    matches any letter\n",
    "?        optional prefix\n",
    "[A-z ]    matches any letter or space literal\n",
    "\"\"\"\n",
    "\n",
    "phrases = re.findall(pattern, data)\n",
    "count = len(phrases)\n",
    "\n",
    "print('There are {0} phrases that start with the word love in these lyrics.'.format(count))\n",
    "print('The longest phrase that starts with the word love is:')\n",
    "print(max(phrases, key=len))\n",
    "print('It contains {0} words.'.format(max(phrases, key=len).count(' ') + 1))"
   ]
  },
  {
   "cell_type": "code",
   "execution_count": 185,
   "metadata": {},
   "outputs": [],
   "source": [
    "# it might help to start with this: how do we match any two words?\n",
    "\n",
    "# once you work that out, how do you match two or more words?  now how do match two or\n",
    "# more words when the first word is 'love'?"
   ]
  },
  {
   "cell_type": "code",
   "execution_count": 187,
   "metadata": {},
   "outputs": [
    {
     "output_type": "stream",
     "name": "stdout",
     "text": [
      "['Beep beep mm', 'beep beep yeh', 'Beep beep mm', 'beep beep yeh']\n"
     ]
    }
   ],
   "source": [
    "# What are the phrases (use the same definition as above) that start with the word beep?\n",
    "# use a regular expression\n",
    "import re\n",
    "\n",
    "pattern = re.compile(r\"beep [A-z]* ?[A-z ]*\", re.IGNORECASE)\n",
    "\n",
    "\"\"\"\n",
    "beep     matches the literal 'beep'\n",
    "[A-z]    matches any letter\n",
    "?        optional prefix\n",
    "[A-z ]    matches any letter or space literal\n",
    "\"\"\"\n",
    "\n",
    "phrases = re.findall(pattern, data)\n",
    "print(phrases)"
   ]
  },
  {
   "cell_type": "code",
   "execution_count": 202,
   "metadata": {},
   "outputs": [
    {
     "output_type": "stream",
     "name": "stdout",
     "text": [
      "The Beatles will...\n['prove', 'love', 'take', 'follow', 'say', 'tell', 'disappear', 'go', 'send', 'always', 'never', 'set', 'ask', 'try', 'treat', 'sing', 'remember', 'lose', 'be', 'know', 'return']\n\n\nThe Beatles will... (informally)\n['love', 'buy', 'take', 'make', 'follow', 'say', 'bet', 'tell', 'go', 'do', 'send', 'dream', 'leave', 'apologize', 'bring', 'walk', 'always', 'never', 'kiss', 'trust', 'live', 'try', 'let', 'sing', 'remember', 'give', 'miss', 'have', 'close', 'write', 'stay', 'come', 'be', 'forgive', 'creep', 'pretend', 'cry', 'look', 'keep', 'tax', 'get', 'play', 'often', 'call']\n"
     ]
    }
   ],
   "source": [
    "# can you come up with a regular expression pattern to find \n",
    "# something relevant/interesting in the Beatles lyrics file?\n",
    "import re\n",
    "\n",
    "formal = re.findall(r\"I will ([A-z]*)\", data)\n",
    "\n",
    "print('The Beatles will...')\n",
    "print(list(set(formal)))\n",
    "\n",
    "\n",
    "informal = re.findall(r\"I'll ([A-z]*)\", data)\n",
    "\n",
    "print('\\n\\nThe Beatles will... (informally)')\n",
    "print(list(set(informal)))\n",
    "\n"
   ]
  }
 ],
 "metadata": {
  "kernelspec": {
   "display_name": "Python 3",
   "language": "python",
   "name": "python3"
  },
  "language_info": {
   "codemirror_mode": {
    "name": "ipython",
    "version": 3
   },
   "file_extension": ".py",
   "mimetype": "text/x-python",
   "name": "python",
   "nbconvert_exporter": "python",
   "pygments_lexer": "ipython3",
   "version": "3.8.5-final"
  }
 },
 "nbformat": 4,
 "nbformat_minor": 2
}