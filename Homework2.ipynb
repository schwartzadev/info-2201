{
 "cells": [
  {
   "cell_type": "markdown",
   "metadata": {},
   "source": [
    "# # Part I (20 points): Fun With Dictionaries"
   ]
  },
  {
   "cell_type": "code",
   "execution_count": 1,
   "metadata": {},
   "outputs": [],
   "source": [
    "# here is a dictionary\n",
    "mountain_west = {'Colorado': {'Abbreviation': 'CO',\n",
    "                              'Area': 269601, # in square kilometers\n",
    "                              'Capital': 'Denver',\n",
    "                              'Established': '1876-08-01',\n",
    "                              'Largest city': 'Denver',\n",
    "                              'Population': 5540545,\n",
    "                              'Representatives': 7},\n",
    "                 'Idaho': {'Abbreviation': 'ID',\n",
    "                              'Area': 216443,\n",
    "                              'Capital': 'Boise',\n",
    "                              'Established': '1890-07-03',\n",
    "                              'Largest city': 'Boise',\n",
    "                              'Population': 1683140,\n",
    "                              'Representatives': 2},\n",
    "                 'Montana': {'Abbreviation': 'MT',\n",
    "                              'Area': 380831,\n",
    "                              'Capital': 'Helena',\n",
    "                              'Established': '1889-11-08',\n",
    "                              'Largest city': 'Billings',\n",
    "                              'Population': 1042520,\n",
    "                              'Representatives': 1},\n",
    "                 'Utah': {'Abbreviation': 'UT',\n",
    "                              'Area': 219882,\n",
    "                              'Capital': 'Salt Lake City',\n",
    "                              'Established': '1896-01-04',\n",
    "                              'Largest city': 'Salt Lake City',\n",
    "                              'Population': 3051217,\n",
    "                              'Representatives': 4},\n",
    "                 'Wyoming': {'Abbreviation': 'WY',\n",
    "                              'Area': 253335,\n",
    "                              'Capital': 'Cheyenne',\n",
    "                              'Established': '1890-07-10',\n",
    "                              'Largest city': 'Cheyenne',\n",
    "                              'Population': 585501,\n",
    "                              'Representatives': 1}}"
   ]
  },
  {
   "cell_type": "markdown",
   "metadata": {},
   "source": [
    "## Task 2: Iterate through the dictionary and print out the state names along with their abbreviation and population.\n",
    "Example:  \n",
    "Colorado (CO): 5540545  \n",
    "Idaho (ID): 1683140  \n",
    "  \n",
    "et cetera  "
   ]
  },
  {
   "cell_type": "code",
   "execution_count": 8,
   "metadata": {},
   "outputs": [
    {
     "name": "stdout",
     "output_type": "stream",
     "text": [
      "Colorado (CO): 5540545\n",
      "Idaho (ID): 1683140\n",
      "Montana (MT): 1042520\n",
      "Utah (UT): 3051217\n",
      "Wyoming (WY): 585501\n"
     ]
    }
   ],
   "source": [
    "# answer here\n"
   ]
  },
  {
   "cell_type": "markdown",
   "metadata": {},
   "source": [
    "## Task 3: Iterate through the dictionary and find the state with the greatest population and print that state's name and population."
   ]
  },
  {
   "cell_type": "code",
   "execution_count": 4,
   "metadata": {},
   "outputs": [
    {
     "name": "stdout",
     "output_type": "stream",
     "text": [
      "Colorado: 5540545\n"
     ]
    }
   ],
   "source": [
    "# answer here\n"
   ]
  },
  {
   "cell_type": "markdown",
   "metadata": {},
   "source": [
    "## Task 4: Iterate through the dictionary and add up the number of representatives in all of the states.  Print the answer using the following format:\n",
    "\n",
    "There are X representatives in the mountain west states."
   ]
  },
  {
   "cell_type": "code",
   "execution_count": 7,
   "metadata": {},
   "outputs": [
    {
     "name": "stdout",
     "output_type": "stream",
     "text": [
      "There are 15 representatives in the mountain west states\n"
     ]
    }
   ],
   "source": [
    "# answer here\n"
   ]
  },
  {
   "cell_type": "markdown",
   "metadata": {},
   "source": [
    "## Task 5: Iterate through the dictionary and calculate the population density for each state.  (The population density is the number of people per square mile.)  After doing this, you should report which state has the greatest population density and which state has the smallest population density.\n",
    "Example:  \n",
    "Colorado: 20.55 people per square km  \n",
    "Idaho: 7.78 people per square km  \n",
    "Montana: 2.74 people per square km  \n",
    "Utah: 13.88 people per square km  \n",
    "Wyoming: 2.31 people per square km  \n",
    "  \n",
    "Colorado has the largest population density.  \n",
    "Wyoming has the smallest population density.  "
   ]
  },
  {
   "cell_type": "code",
   "execution_count": 2,
   "metadata": {},
   "outputs": [],
   "source": [
    "# answer here\n",
    "\n",
    "\n",
    "\n"
   ]
  },
  {
   "cell_type": "code",
   "execution_count": 3,
   "metadata": {},
   "outputs": [
    {
     "data": {
      "text/plain": [
       "10.19"
      ]
     },
     "execution_count": 3,
     "metadata": {},
     "output_type": "execute_result"
    }
   ],
   "source": [
    "# Reminder: how do we round?\n",
    "myNumber = 10.191212\n",
    "round(myNumber,2)"
   ]
  },
  {
   "cell_type": "code",
   "execution_count": null,
   "metadata": {},
   "outputs": [],
   "source": [
    "# Part II: API Exploration (80 points)\n",
    "\n",
    "# I’d like you to get some experience poking around an unfamiliar data source.  \n",
    "# Find a new API (one we haven’t used in class) and dig into it.  \n",
    "# Pull some data from it like we’ve been doing in our examples and present that data.  \n",
    "# I’ll allow you to scope this mini-project yourself, but at a minimum you should make a \n",
    "# request to an API and then use data from that first request to make additional requests.  \n",
    "# As an example of making requests using data from a previous request, we used the TV Maze \n",
    "# API shows search endpoint to get a list of shows that matched a search string.  \n",
    "# We then used the IDs of the shows to get a list of episodes for each show.  \n",
    "# We couldn't have gotten the list of episodes for the show without first getting the IDs\n",
    "# in that first search query.\n",
    "\n",
    " # You should provide some explanation with what you’ve done and what the output means.  \n",
    "# (Nothing too fancy or formal, just some explanation as comments or markup in your Jupyter \n",
    "# notebook.)  If you do some data exploration and calculate anything, you can provide \n",
    "# some hypotheses and commentary on whether or not your results line up with your\n",
    "# expectations.  Have fun!\n",
    "\n",
    " \n",
    "# Note: The problem says *minimum*.  That means that the more you do on this one \n",
    "# the better your grade.  If you do the minimum, expect an 80% on this problem.\n",
    "# That is, if you do the minimum perfectly.  If you have questions about the requirements\n",
    "# of this assignment, you need to ask them before assignment is due, not after.\n",
    "\n"
   ]
  }
 ],
 "metadata": {
  "kernelspec": {
   "display_name": "Python 3",
   "language": "python",
   "name": "python3"
  },
  "language_info": {
   "codemirror_mode": {
    "name": "ipython",
    "version": 3
   },
   "file_extension": ".py",
   "mimetype": "text/x-python",
   "name": "python",
   "nbconvert_exporter": "python",
   "pygments_lexer": "ipython3",
   "version": "3.6.9"
  }
 },
 "nbformat": 4,
 "nbformat_minor": 2
}
