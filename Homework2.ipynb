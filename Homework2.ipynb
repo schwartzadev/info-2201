{
 "cells": [
  {
   "cell_type": "markdown",
   "metadata": {},
   "source": [
    "# # Part I (20 points): Fun With Dictionaries"
   ]
  },
  {
   "cell_type": "code",
   "execution_count": 3,
   "metadata": {},
   "outputs": [],
   "source": [
    "# here is a dictionary\n",
    "mountain_west = {'Colorado': {'Abbreviation': 'CO',\n",
    "                              'Area': 269601, # in square kilometers\n",
    "                              'Capital': 'Denver',\n",
    "                              'Established': '1876-08-01',\n",
    "                              'Largest city': 'Denver',\n",
    "                              'Population': 5540545,\n",
    "                              'Representatives': 7},\n",
    "                 'Idaho': {'Abbreviation': 'ID',\n",
    "                              'Area': 216443,\n",
    "                              'Capital': 'Boise',\n",
    "                              'Established': '1890-07-03',\n",
    "                              'Largest city': 'Boise',\n",
    "                              'Population': 1683140,\n",
    "                              'Representatives': 2},\n",
    "                 'Montana': {'Abbreviation': 'MT',\n",
    "                              'Area': 380831,\n",
    "                              'Capital': 'Helena',\n",
    "                              'Established': '1889-11-08',\n",
    "                              'Largest city': 'Billings',\n",
    "                              'Population': 1042520,\n",
    "                              'Representatives': 1},\n",
    "                 'Utah': {'Abbreviation': 'UT',\n",
    "                              'Area': 219882,\n",
    "                              'Capital': 'Salt Lake City',\n",
    "                              'Established': '1896-01-04',\n",
    "                              'Largest city': 'Salt Lake City',\n",
    "                              'Population': 3051217,\n",
    "                              'Representatives': 4},\n",
    "                 'Wyoming': {'Abbreviation': 'WY',\n",
    "                              'Area': 253335,\n",
    "                              'Capital': 'Cheyenne',\n",
    "                              'Established': '1890-07-10',\n",
    "                              'Largest city': 'Cheyenne',\n",
    "                              'Population': 585501,\n",
    "                              'Representatives': 1}}"
   ]
  },
  {
   "cell_type": "markdown",
   "metadata": {},
   "source": [
    "## Task 2: Iterate through the dictionary and print out the state names along with their abbreviation and population.\n",
    "Example:  \n",
    "Colorado (CO): 5540545  \n",
    "Idaho (ID): 1683140  \n",
    "  \n",
    "et cetera  "
   ]
  },
  {
   "cell_type": "code",
   "execution_count": 6,
   "metadata": {},
   "outputs": [
    {
     "name": "stdout",
     "output_type": "stream",
     "text": [
      "Colorado (CO): 5540545\n",
      "Idaho (ID): 1683140\n",
      "Montana (MT): 1042520\n",
      "Utah (UT): 3051217\n",
      "Wyoming (WY): 585501\n"
     ]
    }
   ],
   "source": [
    "# answer here\n",
    "for state in mountain_west:\n",
    "    print('{0} ({1}): {2}'.format(\n",
    "        state,\n",
    "        mountain_west[state]['Abbreviation'],\n",
    "        mountain_west[state]['Population']\n",
    "    ))"
   ]
  },
  {
   "cell_type": "markdown",
   "metadata": {},
   "source": [
    "## Task 3: Iterate through the dictionary and find the state with the greatest population and print that state's name and population."
   ]
  },
  {
   "cell_type": "code",
   "execution_count": 18,
   "metadata": {},
   "outputs": [
    {
     "name": "stdout",
     "output_type": "stream",
     "text": [
      "Colorado: 5540545\n"
     ]
    }
   ],
   "source": [
    "# answer here\n",
    "max_pop = 0\n",
    "max_state_name = ''\n",
    "\n",
    "for state in mountain_west:\n",
    "    if mountain_west[state]['Population'] > max_pop:\n",
    "        max_pop = mountain_west[state]['Population']\n",
    "        max_state_name = state\n",
    "\n",
    "print('{0}: {1}'.format(max_state_name, max_pop))"
   ]
  },
  {
   "cell_type": "markdown",
   "metadata": {},
   "source": [
    "## Task 4: Iterate through the dictionary and add up the number of representatives in all of the states.  Print the answer using the following format:\n",
    "\n",
    "There are X representatives in the mountain west states."
   ]
  },
  {
   "cell_type": "code",
   "execution_count": 17,
   "metadata": {},
   "outputs": [
    {
     "name": "stdout",
     "output_type": "stream",
     "text": [
      "There are 15 representatives in the mountain west states\n"
     ]
    }
   ],
   "source": [
    "# answer here\n",
    "represntative_count = sum([mountain_west[state]['Representatives'] for state in mountain_west])\n",
    "\n",
    "print('There are {0} representatives in the mountain west states'.format(represntative_count))"
   ]
  },
  {
   "cell_type": "markdown",
   "metadata": {},
   "source": [
    "## Task 5: Iterate through the dictionary and calculate the population density for each state.  (The population density is the number of people per square mile.)  After doing this, you should report which state has the greatest population density and which state has the smallest population density.\n",
    "Example:  \n",
    "Colorado: 20.55 people per square km  \n",
    "Idaho: 7.78 people per square km  \n",
    "Montana: 2.74 people per square km  \n",
    "Utah: 13.88 people per square km  \n",
    "Wyoming: 2.31 people per square km  \n",
    "  \n",
    "Colorado has the largest population density.  \n",
    "Wyoming has the smallest population density.  "
   ]
  },
  {
   "cell_type": "code",
   "execution_count": 37,
   "metadata": {},
   "outputs": [
    {
     "name": "stdout",
     "output_type": "stream",
     "text": [
      "Colorado: 20.55 people per square km\n",
      "Idaho: 7.78 people per square km\n",
      "Montana: 2.74 people per square km\n",
      "Utah: 13.88 people per square km\n",
      "Wyoming: 2.31 people per square km\n",
      "\n",
      "\n",
      "Colorado has the largest population density.\n",
      "Wyoming has the smallest population density.\n"
     ]
    }
   ],
   "source": [
    "# answer here\n",
    "\n",
    "# Store the largest and smallest states here.\n",
    "largest = { 'density': 0 }\n",
    "smallest = { 'density': 999999 }\n",
    "\n",
    "for state in mountain_west:\n",
    "\n",
    "    # People per square km.\n",
    "    density = mountain_west[state]['Population'] / mountain_west[state]['Area']\n",
    "    \n",
    "    print('{0}: {1:.2f} people per square km'.format(state, density))\n",
    "\n",
    "    if density > largest['density']:\n",
    "        largest['density'] = density\n",
    "        largest['state'] = state\n",
    "\n",
    "    if density < smallest['density']:\n",
    "        smallest['density'] = density\n",
    "        smallest['state'] = state\n",
    "\n",
    "print('\\n')\n",
    "print('{0} has the largest population density.'.format(largest['state'], largest['state']))\n",
    "print('{0} has the smallest population density.'.format(smallest['state'], smallest['state']))"
   ]
  },
  {
   "cell_type": "code",
   "execution_count": 3,
   "metadata": {},
   "outputs": [
    {
     "data": {
      "text/plain": [
       "10.19"
      ]
     },
     "execution_count": 3,
     "metadata": {},
     "output_type": "execute_result"
    }
   ],
   "source": [
    "# Reminder: how do we round?\n",
    "myNumber = 10.191212\n",
    "round(myNumber,2)"
   ]
  },
  {
   "cell_type": "code",
   "execution_count": 51,
   "metadata": {},
   "outputs": [
    {
     "name": "stdout",
     "output_type": "stream",
     "text": [
      "Here's a sample of the available currencies:\n",
      "[{'id': 'AED', 'min_size': '0.01000000', 'name': 'United Arab Emirates Dirham'},\n",
      " {'id': 'AFN', 'min_size': '0.01000000', 'name': 'Afghan Afghani'},\n",
      " {'id': 'ALL', 'min_size': '0.01000000', 'name': 'Albanian Lek'},\n",
      " {'id': 'AMD', 'min_size': '0.01000000', 'name': 'Armenian Dram'},\n",
      " {'id': 'ANG',\n",
      "  'min_size': '0.01000000',\n",
      "  'name': 'Netherlands Antillean Gulden'}]\n",
      "\n",
      "\n",
      "Found 164 currencies.\n",
      "One US Dollar is equal to 0.83 Euro\n"
     ]
    }
   ],
   "source": [
    "# Part II: API Exploration (80 points)\n",
    "\n",
    "# I’d like you to get some experience poking around an unfamiliar data source.  \n",
    "# Find a new API (one we haven’t used in class) and dig into it.  \n",
    "# Pull some data from it like we’ve been doing in our examples and present that data.  \n",
    "# I’ll allow you to scope this mini-project yourself, but at a minimum you should make a \n",
    "# request to an API and then use data from that first request to make additional requests.  \n",
    "# As an example of making requests using data from a previous request, we used the TV Maze \n",
    "# API shows search endpoint to get a list of shows that matched a search string.  \n",
    "# We then used the IDs of the shows to get a list of episodes for each show.  \n",
    "# We couldn't have gotten the list of episodes for the show without first getting the IDs\n",
    "# in that first search query.\n",
    "\n",
    "# You should provide some explanation with what you’ve done and what the output means.  \n",
    "# (Nothing too fancy or formal, just some explanation as comments or markup in your Jupyter \n",
    "# notebook.)  If you do some data exploration and calculate anything, you can provide \n",
    "# some hypotheses and commentary on whether or not your results line up with your\n",
    "# expectations.  Have fun!\n",
    "\n",
    " \n",
    "# Note: The problem says *minimum*.  That means that the more you do on this one \n",
    "# the better your grade.  If you do the minimum, expect an 80% on this problem.\n",
    "# That is, if you do the minimum perfectly.  If you have questions about the requirements\n",
    "# of this assignment, you need to ask them before assignment is due, not after.\n",
    "\n",
    "import requests\n",
    "import json\n",
    "import pprint\n",
    "\n",
    "\"\"\"\n",
    "This API (Coinbase) provides currency and currency exchange information.\n",
    "\n",
    "We're going to get a list of all of the available currencies and then\n",
    "calculate an exchange rate between two of those currencies.\n",
    "\n",
    "Docs here: https://developers.coinbase.com/api/v2.\n",
    "\"\"\"\n",
    "\n",
    "# Get basic info for all available currencies.\n",
    "response = requests.get('https://api.coinbase.com/v2/currencies')\n",
    "\n",
    "# Load response as json.\n",
    "data = json.loads(response.text)\n",
    "\n",
    "# Get the list of currencies.\n",
    "currencies = data['data']\n",
    "\n",
    "print(\"Here's a sample of the available currencies:\")\n",
    "pprint.pprint(currencies[:5])\n",
    "\n",
    "print('\\n\\nFound', len(currencies), 'currencies.')\n",
    "\n",
    "usd_data = currencies[143]\n",
    "eur_data = currencies[45]\n",
    "\n",
    "\n",
    "# Get the spot price from one currency to another.\n",
    "response = requests.get(\n",
    "    'https://api.coinbase.com/v2/prices/{0}-{1}/spot'.format(\n",
    "        usd_data['id'],   # USD\n",
    "        eur_data['id'],   # EUR\n",
    "    )\n",
    ")\n",
    "\n",
    "buy_data = json.loads(response.text)\n",
    "\n",
    "# Print the response\n",
    "print(\n",
    "    'One',\n",
    "    usd_data['name'],\n",
    "    'is equal to',\n",
    "    buy_data['data']['amount'],\n",
    "    eur_data['name'],\n",
    ")"
   ]
  },
  {
   "cell_type": "markdown",
   "metadata": {},
   "source": [
    "# Does the exchange rate from Coinbase match Google's reports?\n",
    "\n",
    "![An image of Google's USD-EUR exhange rates](exchange-rate-verification.png)\n",
    "\n",
    "[Visit the Google search here](https://www.google.com/search?hl=en&q=how%20many%20euros%20equal%20%241)\n",
    "\n",
    "So, this looks like a success! Both the API and Google report that\n",
    "$1 USD is equal to 0.83 EUR."
   ]
  },
  {
   "cell_type": "code",
   "execution_count": 53,
   "metadata": {},
   "outputs": [
    {
     "name": "stdout",
     "output_type": "stream",
     "text": [
      "One US Dollar is equal to 116.68 Nepalese Rupee\n",
      "One US Dollar is equal to 542 West African Cfa Franc\n",
      "One US Dollar is equal to 5.43 Brazilian Real\n",
      "One US Dollar is equal to 20.10 Mexican Peso\n",
      "One US Dollar is equal to 0.385 Omani Rial\n",
      "One US Dollar is equal to 2.70 East Caribbean Dollar\n",
      "One US Dollar is equal to 21.26 Czech Koruna\n",
      "One US Dollar is equal to 0.72 Saint Helenian Pound\n",
      "One US Dollar is equal to 6.79 Trinidad and Tobago Dollar\n"
     ]
    }
   ],
   "source": [
    "# Now let's convert USD to a random currency...\n",
    "\n",
    "from random import randint\n",
    "\n",
    "def get_random_currency_conversion():\n",
    "    found_a_working_currency = False\n",
    "\n",
    "    # Not all of the currencies are supported for the /spot endpoint.\n",
    "    # So, let's use this while loop to try until we find one that works.\n",
    "    while not found_a_working_currency:\n",
    "        currency_index = randint(0, len(currencies)-1)\n",
    "\n",
    "        # Get the spot price from USD to the random currency.\n",
    "        response = requests.get(\n",
    "            'https://api.coinbase.com/v2/prices/{0}-{1}/spot'.format(\n",
    "                usd_data['id'],                    # USD\n",
    "                currencies[currency_index]['id'],  # Random\n",
    "            )\n",
    "        )\n",
    "\n",
    "        buy_data = json.loads(response.text)\n",
    "\n",
    "        try:\n",
    "            # If the errors key exists...\n",
    "            buy_data['errors']\n",
    "            continue # Try again...\n",
    "        except KeyError as e:\n",
    "            # The errors key doesn't exist.\n",
    "            pass\n",
    "\n",
    "        found_a_working_currency = True\n",
    "\n",
    "        print(\n",
    "            'One',\n",
    "            usd_data['name'],\n",
    "            'is equal to',\n",
    "            buy_data['data']['amount'],\n",
    "            currencies[currency_index]['name'],\n",
    "        )\n",
    "\n",
    "# Lets run this a few times as a demo...\n",
    "get_random_currency_conversion()\n",
    "get_random_currency_conversion()\n",
    "get_random_currency_conversion()\n",
    "get_random_currency_conversion()\n",
    "get_random_currency_conversion()\n",
    "get_random_currency_conversion()\n",
    "get_random_currency_conversion()\n",
    "get_random_currency_conversion()\n",
    "get_random_currency_conversion()"
   ]
  }
 ],
 "metadata": {
  "kernelspec": {
   "display_name": "Python 3",
   "language": "python",
   "name": "python3"
  },
  "language_info": {
   "codemirror_mode": {
    "name": "ipython",
    "version": 3
   },
   "file_extension": ".py",
   "mimetype": "text/x-python",
   "name": "python",
   "nbconvert_exporter": "python",
   "pygments_lexer": "ipython3",
   "version": "3.8.2"
  }
 },
 "nbformat": 4,
 "nbformat_minor": 2
}
